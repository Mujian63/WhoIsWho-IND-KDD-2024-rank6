{
 "cells": [
  {
   "cell_type": "code",
   "execution_count": 1,
   "id": "7b6fd8af-d9dd-4ff9-9a5f-4b0c5f7a3705",
   "metadata": {},
   "outputs": [],
   "source": [
    "import pandas as pd\n",
    "import numpy as np\n",
    "\n",
    "import warnings\n",
    "from sklearn.preprocessing import LabelEncoder\n",
    "from sklearn.model_selection import StratifiedKFold,GroupKFold\n",
    "from sklearn.decomposition import TruncatedSVD\n",
    "from sklearn.feature_extraction.text import CountVectorizer, TfidfVectorizer\n",
    "from tqdm import tqdm\n",
    "import gc\n",
    "import re\n",
    "from sklearn.metrics import roc_auc_score\n",
    "\n",
    "import os\n",
    "from sklearn.feature_extraction.text import TfidfVectorizer, CountVectorizer\n",
    "from gensim.models import Word2Vec\n",
    "import polars as pl\n",
    "from pathlib import Path\n",
    "from glob import glob\n",
    "import json\n",
    "import joblib\n",
    "import warnings\n",
    "warnings.filterwarnings(\"ignore\")\n",
    "\n",
    "\n"
   ]
  },
  {
   "cell_type": "code",
   "execution_count": 2,
   "id": "c11a7d4f-df11-45fb-a29b-737402c9590f",
   "metadata": {},
   "outputs": [],
   "source": [
    "import pandas as pd\n",
    "import numpy as np\n",
    "import xgboost as xgb\n",
    "from sklearn.decomposition import TruncatedSVD\n",
    "from sklearn.feature_extraction.text import CountVectorizer, TfidfVectorizer\n",
    "import pandas as pd\n",
    "import numpy as np\n",
    "import joblib\n",
    "\n",
    "import warnings\n",
    "from sklearn.preprocessing import LabelEncoder\n",
    "from sklearn.model_selection import StratifiedKFold,GroupKFold,KFold\n",
    "from tqdm import tqdm\n",
    "import gc\n",
    "import re\n",
    "from sklearn.metrics import roc_auc_score\n",
    "import os\n",
    "\n",
    "from datasets import concatenate_datasets,load_dataset,load_from_disk\n",
    "from transformers import AutoModel, AutoTokenizer, AdamW, DataCollatorWithPadding\n",
    "\n",
    "import torch \n",
    "import torch.nn as nn\n",
    "import torch.nn.functional as F\n",
    "from torch.utils.data import Dataset, DataLoader\n",
    "\n",
    "import pytorch_lightning as pytl\n",
    "from pytorch_lightning import Trainer, seed_everything\n",
    "from pytorch_lightning.callbacks import ModelCheckpoint, EarlyStopping\n",
    "\n",
    "import polars as pl\n",
    "from torch_geometric.nn import GCNConv,SAGEConv\n"
   ]
  },
  {
   "cell_type": "code",
   "execution_count": 3,
   "id": "09999242-32eb-40e0-b125-e015f48cf2f7",
   "metadata": {},
   "outputs": [],
   "source": [
    "with open('../IND-WhoIsWho/pid_to_info_all.json', 'r') as file:\n",
    "    pid = json.load(file)"
   ]
  },
  {
   "cell_type": "code",
   "execution_count": 4,
   "id": "9b555c16-6608-4693-b442-ce1f35be1aaa",
   "metadata": {},
   "outputs": [],
   "source": [
    "\n",
    "train = pd.read_feather('data/train.feather')\n",
    "valid = pd.read_feather('data/valid.feather')\n",
    "test = pd.read_feather('data/test.feather')\n",
    "\n",
    "train['dataset_mode'] = 0\n",
    "valid['dataset_mode'] = 1\n",
    "test['dataset_mode'] = 2\n",
    "\n",
    "data = pd.concat([train,valid,test]).reset_index(drop = True)\n",
    "\n"
   ]
  },
  {
   "cell_type": "code",
   "execution_count": 5,
   "id": "eae3d0cc-90e3-4083-9862-8e01442691cb",
   "metadata": {},
   "outputs": [],
   "source": [
    "data = pd.read_feather('all_feat.feather')\n",
    "\n"
   ]
  },
  {
   "cell_type": "code",
   "execution_count": 6,
   "id": "527695b7-40ce-4dc6-b384-d1babc08d42d",
   "metadata": {
    "scrolled": true,
    "tags": []
   },
   "outputs": [
    {
     "name": "stdout",
     "output_type": "stream",
     "text": [
      "372\n",
      "['bge_m3_pid_title_sim_mean', 'bge_m3_pid_title_sim_max', 'bge_m3_pid_title_sim_min', 'bge_m3_pid_title_sim_std', 'bge_m3_pid_title_sim_median', 'bge_m3_pid_abstract_sim_mean', 'bge_m3_pid_abstract_sim_max', 'bge_m3_pid_abstract_sim_min', 'bge_m3_pid_abstract_sim_std', 'bge_m3_pid_abstract_sim_median', 'tfidf_pid_abstract_sim_mean', 'tfidf_pid_abstract_sim_max', 'tfidf_pid_abstract_sim_min', 'tfidf_pid_abstract_sim_std', 'tfidf_pid_abstract_sim_median', 'tfidf_pid_title_sim_mean', 'tfidf_pid_title_sim_max', 'tfidf_pid_title_sim_min', 'tfidf_pid_title_sim_std', 'tfidf_pid_title_sim_median', 'tfidf_pid_venue_sim_mean', 'tfidf_pid_venue_sim_max', 'tfidf_pid_venue_sim_min', 'tfidf_pid_venue_sim_std', 'tfidf_pid_venue_sim_median', 'tfidf_pid_keyword_text_sim_mean', 'tfidf_pid_keyword_text_sim_max', 'tfidf_pid_keyword_text_sim_min', 'tfidf_pid_keyword_text_sim_std', 'tfidf_pid_keyword_text_sim_median', 'jaccard_pid_keyword_cnt_1_mean', 'jaccard_pid_keyword_cnt_1_max', 'jaccard_pid_keyword_cnt_1_min', 'jaccard_pid_keyword_cnt_1_std', 'jaccard_pid_keyword_cnt_1_median', 'jaccard_pid_keyword_cnt_2_mean', 'jaccard_pid_keyword_cnt_2_max', 'jaccard_pid_keyword_cnt_2_min', 'jaccard_pid_keyword_cnt_2_std', 'jaccard_pid_keyword_cnt_2_median', 'jaccard_pid_keyword_cnt_3_mean', 'jaccard_pid_keyword_cnt_3_max', 'jaccard_pid_keyword_cnt_3_min', 'jaccard_pid_keyword_cnt_3_std', 'jaccard_pid_keyword_cnt_3_median', 'jaccard_pid_auther_cnt_1_mean', 'jaccard_pid_auther_cnt_1_max', 'jaccard_pid_auther_cnt_1_min', 'jaccard_pid_auther_cnt_1_std', 'jaccard_pid_auther_cnt_2_mean', 'jaccard_pid_auther_cnt_2_max', 'jaccard_pid_auther_cnt_2_min', 'jaccard_pid_auther_cnt_2_std', 'jaccard_pid_auther_cnt_3_mean', 'jaccard_pid_auther_cnt_3_max', 'jaccard_pid_auther_cnt_3_min', 'jaccard_pid_auther_cnt_3_std', 'jaccard_pid_autherraw_cnt_1_mean', 'jaccard_pid_autherraw_cnt_1_max', 'jaccard_pid_autherraw_cnt_1_min', 'jaccard_pid_autherraw_cnt_1_std', 'jaccard_pid_autherraw_cnt_2_mean', 'jaccard_pid_autherraw_cnt_2_max', 'jaccard_pid_autherraw_cnt_2_min', 'jaccard_pid_autherraw_cnt_2_std', 'jaccard_pid_autherraw_cnt_3_mean', 'jaccard_pid_autherraw_cnt_3_max', 'jaccard_pid_autherraw_cnt_3_min', 'jaccard_pid_autherraw_cnt_3_std', 'abstract_tfidf_word_0', 'abstract_tfidf_word_1', 'abstract_tfidf_word_2', 'abstract_tfidf_word_3', 'abstract_tfidf_word_4', 'abstract_tfidf_word_5', 'abstract_tfidf_word_6', 'abstract_tfidf_word_7', 'abstract_tfidf_word_8', 'abstract_tfidf_word_9', 'abstract_tfidf_word_10', 'abstract_tfidf_word_11', 'abstract_tfidf_word_12', 'abstract_tfidf_word_13', 'abstract_tfidf_word_14', 'abstract_tfidf_word_15', 'abstract_tfidf_word_16', 'abstract_tfidf_word_17', 'abstract_tfidf_word_18', 'abstract_tfidf_word_19', 'abstract_tfidf_word_20', 'abstract_tfidf_word_21', 'abstract_tfidf_word_22', 'abstract_tfidf_word_23', 'abstract_tfidf_word_24', 'abstract_tfidf_word_25', 'abstract_tfidf_word_26', 'abstract_tfidf_word_27', 'abstract_tfidf_word_28', 'abstract_tfidf_word_29', 'abstract_tfidf_word_30', 'abstract_tfidf_word_31', 'abstract_countvec_0', 'abstract_countvec_1', 'abstract_countvec_2', 'abstract_countvec_3', 'abstract_countvec_4', 'abstract_countvec_5', 'abstract_countvec_6', 'abstract_countvec_7', 'abstract_countvec_8', 'abstract_countvec_9', 'abstract_countvec_10', 'abstract_countvec_11', 'abstract_countvec_12', 'abstract_countvec_13', 'abstract_countvec_14', 'abstract_countvec_15', 'abstract_countvec_16', 'abstract_countvec_17', 'abstract_countvec_18', 'abstract_countvec_19', 'abstract_countvec_20', 'abstract_countvec_21', 'abstract_countvec_22', 'abstract_countvec_23', 'abstract_countvec_24', 'abstract_countvec_25', 'abstract_countvec_26', 'abstract_countvec_27', 'abstract_countvec_28', 'abstract_countvec_29', 'abstract_countvec_30', 'abstract_countvec_31', 'title_tfidf_word_0', 'title_tfidf_word_1', 'title_tfidf_word_2', 'title_tfidf_word_3', 'title_tfidf_word_4', 'title_tfidf_word_5', 'title_tfidf_word_6', 'title_tfidf_word_7', 'title_tfidf_word_8', 'title_tfidf_word_9', 'title_tfidf_word_10', 'title_tfidf_word_11', 'title_tfidf_word_12', 'title_tfidf_word_13', 'title_tfidf_word_14', 'title_tfidf_word_15', 'title_tfidf_word_16', 'title_tfidf_word_17', 'title_tfidf_word_18', 'title_tfidf_word_19', 'title_tfidf_word_20', 'title_tfidf_word_21', 'title_tfidf_word_22', 'title_tfidf_word_23', 'title_tfidf_word_24', 'title_tfidf_word_25', 'title_tfidf_word_26', 'title_tfidf_word_27', 'title_tfidf_word_28', 'title_tfidf_word_29', 'title_tfidf_word_30', 'title_tfidf_word_31', 'title_countvec_0', 'title_countvec_1', 'title_countvec_2', 'title_countvec_3', 'title_countvec_4', 'title_countvec_5', 'title_countvec_6', 'title_countvec_7', 'title_countvec_8', 'title_countvec_9', 'title_countvec_10', 'title_countvec_11', 'title_countvec_12', 'title_countvec_13', 'title_countvec_14', 'title_countvec_15', 'title_countvec_16', 'title_countvec_17', 'title_countvec_18', 'title_countvec_19', 'title_countvec_20', 'title_countvec_21', 'title_countvec_22', 'title_countvec_23', 'title_countvec_24', 'title_countvec_25', 'title_countvec_26', 'title_countvec_27', 'title_countvec_28', 'title_countvec_29', 'title_countvec_30', 'title_countvec_31', 'venue_tfidf_word_0', 'venue_tfidf_word_1', 'venue_tfidf_word_2', 'venue_tfidf_word_3', 'venue_tfidf_word_4', 'venue_tfidf_word_5', 'venue_tfidf_word_6', 'venue_tfidf_word_7', 'venue_tfidf_word_8', 'venue_tfidf_word_9', 'venue_tfidf_word_10', 'venue_tfidf_word_11', 'venue_tfidf_word_12', 'venue_tfidf_word_13', 'venue_tfidf_word_14', 'venue_tfidf_word_15', 'venue_countvec_0', 'venue_countvec_1', 'venue_countvec_2', 'venue_countvec_3', 'venue_countvec_4', 'venue_countvec_5', 'venue_countvec_6', 'venue_countvec_7', 'venue_countvec_8', 'venue_countvec_9', 'venue_countvec_10', 'venue_countvec_11', 'venue_countvec_12', 'venue_countvec_13', 'venue_countvec_14', 'venue_countvec_15', 'keyword_text_tfidf_word_0', 'keyword_text_tfidf_word_1', 'keyword_text_tfidf_word_2', 'keyword_text_tfidf_word_3', 'keyword_text_tfidf_word_4', 'keyword_text_tfidf_word_5', 'keyword_text_tfidf_word_6', 'keyword_text_tfidf_word_7', 'keyword_text_tfidf_word_8', 'keyword_text_tfidf_word_9', 'keyword_text_tfidf_word_10', 'keyword_text_tfidf_word_11', 'keyword_text_tfidf_word_12', 'keyword_text_tfidf_word_13', 'keyword_text_tfidf_word_14', 'keyword_text_tfidf_word_15', 'keyword_text_countvec_0', 'keyword_text_countvec_1', 'keyword_text_countvec_2', 'keyword_text_countvec_3', 'keyword_text_countvec_4', 'keyword_text_countvec_5', 'keyword_text_countvec_6', 'keyword_text_countvec_7', 'keyword_text_countvec_8', 'keyword_text_countvec_9', 'keyword_text_countvec_10', 'keyword_text_countvec_11', 'keyword_text_countvec_12', 'keyword_text_countvec_13', 'keyword_text_countvec_14', 'keyword_text_countvec_15', 'autherID_keyword_emb_016', 'autherID_keyword_emb_116', 'autherID_keyword_emb_216', 'autherID_keyword_emb_316', 'autherID_keyword_emb_416', 'autherID_keyword_emb_516', 'autherID_keyword_emb_616', 'autherID_keyword_emb_716', 'autherID_keyword_emb_816', 'autherID_keyword_emb_916', 'autherID_keyword_emb_1016', 'autherID_keyword_emb_1116', 'autherID_keyword_emb_1216', 'autherID_keyword_emb_1316', 'autherID_keyword_emb_1416', 'autherID_keyword_emb_1516', 'autherID_venue_emb_08', 'autherID_venue_emb_18', 'autherID_venue_emb_28', 'autherID_venue_emb_38', 'autherID_venue_emb_48', 'autherID_venue_emb_58', 'autherID_venue_emb_68', 'autherID_venue_emb_78', 'abstract_emb_svd_0', 'abstract_emb_svd_1', 'abstract_emb_svd_2', 'abstract_emb_svd_3', 'abstract_emb_svd_4', 'abstract_emb_svd_5', 'abstract_emb_svd_6', 'abstract_emb_svd_7', 'abstract_emb_svd_8', 'abstract_emb_svd_9', 'abstract_emb_svd_10', 'abstract_emb_svd_11', 'abstract_emb_svd_12', 'abstract_emb_svd_13', 'abstract_emb_svd_14', 'abstract_emb_svd_15', 'title_emb_svd_0', 'title_emb_svd_1', 'title_emb_svd_2', 'title_emb_svd_3', 'title_emb_svd_4', 'title_emb_svd_5', 'title_emb_svd_6', 'title_emb_svd_7', 'title_emb_svd_8', 'title_emb_svd_9', 'title_emb_svd_10', 'title_emb_svd_11', 'title_emb_svd_12', 'title_emb_svd_13', 'title_emb_svd_14', 'title_emb_svd_15', 'year', 'author_rank_ratio', 'author_rank', 'abstract_w2v_sim_mean', 'abstract_w2v_sim_max', 'abstract_w2v_sim_min', 'abstract_w2v_sim_std', 'abstract_w2v_sim_median', 'title_w2v_sim_mean', 'title_w2v_sim_max', 'title_w2v_sim_min', 'title_w2v_sim_std', 'title_w2v_sim_median', 'chatglm_pid_title_sim_mean', 'chatglm_pid_title_sim_max', 'chatglm_pid_title_sim_min', 'chatglm_pid_title_sim_std', 'chatglm_pid_title_sim_median', 'chatglm_pid_abstract_sim_mean', 'chatglm_pid_abstract_sim_max', 'chatglm_pid_abstract_sim_min', 'chatglm_pid_abstract_sim_std', 'chatglm_pid_abstract_sim_median', 'chatglm_title_emb_svd_0', 'chatglm_title_emb_svd_1', 'chatglm_title_emb_svd_2', 'chatglm_title_emb_svd_3', 'chatglm_title_emb_svd_4', 'chatglm_title_emb_svd_5', 'chatglm_title_emb_svd_6', 'chatglm_title_emb_svd_7', 'chatglm_title_emb_svd_8', 'chatglm_title_emb_svd_9', 'chatglm_title_emb_svd_10', 'chatglm_title_emb_svd_11', 'chatglm_title_emb_svd_12', 'chatglm_title_emb_svd_13', 'chatglm_title_emb_svd_14', 'chatglm_title_emb_svd_15', 'chatglm_abstract_emb_svd_0', 'chatglm_abstract_emb_svd_1', 'chatglm_abstract_emb_svd_2', 'chatglm_abstract_emb_svd_3', 'chatglm_abstract_emb_svd_4', 'chatglm_abstract_emb_svd_5', 'chatglm_abstract_emb_svd_6', 'chatglm_abstract_emb_svd_7', 'chatglm_abstract_emb_svd_8', 'chatglm_abstract_emb_svd_9', 'chatglm_abstract_emb_svd_10', 'chatglm_abstract_emb_svd_11', 'chatglm_abstract_emb_svd_12', 'chatglm_abstract_emb_svd_13', 'chatglm_abstract_emb_svd_14', 'chatglm_abstract_emb_svd_15']\n"
     ]
    },
    {
     "data": {
      "text/plain": [
       "0"
      ]
     },
     "execution_count": 6,
     "metadata": {},
     "output_type": "execute_result"
    }
   ],
   "source": [
    "\n",
    "\n",
    "\n",
    "drop_feat =['tfidf_autherName'] + ['PID','label','autherID','pid_title','autherName', 'abstract', 'keywords', 'venue', 'authors', 'index','cos_sim_pid','autherName_count'] \n",
    "used_feat = [f for f in data.columns if f not in (['PID','label','autherID','dataset_mode'] + drop_feat )]\n",
    "print(len(used_feat))\n",
    "print(used_feat)\n",
    "ycol = 'label'\n",
    "\n",
    "#del data\n",
    "gc.collect()"
   ]
  },
  {
   "cell_type": "code",
   "execution_count": 7,
   "id": "7b27258c-3d79-497a-94f4-20d1098e64e6",
   "metadata": {},
   "outputs": [],
   "source": [
    "df_oof = pd.read_feather('oof2/cat_oof.feather')\n",
    "del df_oof['label_prob']\n",
    "\n",
    "temp =  pd.read_feather('oof2/lgb_oof.feather')\n",
    "df_oof['lgb_prob'] = temp['label_prob']\n",
    "\n",
    "temp =  pd.read_feather('oof2/xgb_oof.feather')\n",
    "df_oof['xgb_prob'] = temp['label_prob']\n",
    "\n",
    "\n",
    "temp =  pd.read_feather('oof2/cat_oof.feather')\n",
    "df_oof['cat_prob'] = temp['label_prob']\n",
    "\n",
    "\n",
    "temp =  pd.read_feather('oof2/feat_select_lgb_oof.feather')\n",
    "df_oof['lgb_prob_2'] = temp['label_prob']\n",
    "\n",
    "temp =  pd.read_feather('oof2/feat_select_xgb_oof.feather')\n",
    "df_oof['xgb_prob_2'] = temp['label_prob']\n",
    "\n",
    "temp =  pd.read_feather('oof2/feat_select_cat_oof.feather')\n",
    "df_oof['cat_prob_2'] = temp['label_prob']\n",
    "\n",
    "prediction = pd.read_feather('oof2/cat_prediction.feather')\n",
    "del prediction['label_prob']\n",
    "\n",
    "temp =  pd.read_feather('oof2/lgb_prediction.feather')\n",
    "prediction['lgb_prob'] = temp['label_prob']\n",
    "\n",
    "temp =  pd.read_feather('oof2/xgb_prediction.feather')\n",
    "prediction['xgb_prob'] = temp['label_prob']\n",
    "\n",
    "\n",
    "temp =  pd.read_feather('oof2/cat_prediction.feather')\n",
    "prediction['cat_prob'] = temp['label_prob']\n",
    "\n",
    "\n",
    "temp =  pd.read_feather('oof2/feat_select_lgb_prediction.feather')\n",
    "prediction['lgb_prob_2'] = temp['label_prob']\n",
    "\n",
    "temp =  pd.read_feather('oof2/feat_select_xgb_prediction.feather')\n",
    "prediction['xgb_prob_2'] = temp['label_prob']\n",
    "\n",
    "temp =  pd.read_feather('oof2/feat_select_cat_prediction.feather')\n",
    "prediction['cat_prob_2'] = temp['label_prob']\n",
    "temp = pd.concat([df_oof,prediction]).reset_index(drop = True)\n",
    "\n",
    "\"\"\"\n",
    "temp[[ 'lgb_prob', 'xgb_prob', 'cat_prob',\n",
    "       'lgb_prob_2', 'xgb_prob_2', 'cat_prob_2']] =  temp.groupby('autherID')[[ 'lgb_prob', 'xgb_prob', 'cat_prob',\n",
    "       'lgb_prob_2', 'xgb_prob_2', 'cat_prob_2']].transform('rank') / temp.groupby('autherID')[[ 'lgb_prob', 'xgb_prob', 'cat_prob',\n",
    "       'lgb_prob_2', 'xgb_prob_2', 'cat_prob_2']].transform('count')\n",
    "\"\"\"\n",
    "del temp['label']"
   ]
  },
  {
   "cell_type": "code",
   "execution_count": 9,
   "id": "58812763-70ca-4200-a247-727a3eca7c00",
   "metadata": {},
   "outputs": [],
   "source": [
    "data = data.merge(temp,on  =['autherID','PID'],how = 'left')"
   ]
  },
  {
   "cell_type": "code",
   "execution_count": 10,
   "id": "491d44a4-d525-4189-8fe7-42b076b90fd7",
   "metadata": {},
   "outputs": [],
   "source": [
    "data = pd.concat([data[['PID', 'label', 'autherID', 'autherName', 'dataset_mode','lgb_prob', 'xgb_prob', 'cat_prob', 'lgb_prob_2',\n",
    "       'xgb_prob_2', 'cat_prob_2']],(data[used_feat ] - data[used_feat ].min()) / (data[used_feat].max()  - data[used_feat ].min())],axis = 1)"
   ]
  },
  {
   "cell_type": "code",
   "execution_count": 11,
   "id": "0886a95d-68b2-4be9-b96f-a1a714e2d9d4",
   "metadata": {},
   "outputs": [
    {
     "name": "stderr",
     "output_type": "stream",
     "text": [
      "100%|██████████| 372/372 [00:00<00:00, 484.36it/s]\n"
     ]
    }
   ],
   "source": [
    "for f in tqdm(used_feat):\n",
    "    data[f] = data[f].fillna(data[f].mean())"
   ]
  },
  {
   "cell_type": "code",
   "execution_count": 12,
   "id": "3e7516a7-73fb-4949-bf71-88a2ba80edc7",
   "metadata": {},
   "outputs": [],
   "source": [
    "\"\"\"\n",
    "node_encoder = joblib.load('ProNE/node_encoder.pkl')\n",
    "node_decoder = joblib.load('ProNE/node_decoder.pkl')\n",
    "edges = pd.read_csv('ProNE/edges_list.txt',sep = ' ',header = None)\n",
    "\n",
    "edges[0] = edges[0].map(node_decoder)\n",
    "edges[1] = edges[1].map(node_decoder)\n",
    "\"\"\"\n",
    "edges = joblib.load('edges_all.pkl')\n",
    "data['id'] = data.index"
   ]
  },
  {
   "cell_type": "code",
   "execution_count": 12,
   "id": "826f543e-b930-476c-a63a-7d6321dc338e",
   "metadata": {},
   "outputs": [
    {
     "data": {
      "text/html": [
       "<div>\n",
       "<style scoped>\n",
       "    .dataframe tbody tr th:only-of-type {\n",
       "        vertical-align: middle;\n",
       "    }\n",
       "\n",
       "    .dataframe tbody tr th {\n",
       "        vertical-align: top;\n",
       "    }\n",
       "\n",
       "    .dataframe thead th {\n",
       "        text-align: right;\n",
       "    }\n",
       "</style>\n",
       "<table border=\"1\" class=\"dataframe\">\n",
       "  <thead>\n",
       "    <tr style=\"text-align: right;\">\n",
       "      <th></th>\n",
       "      <th>PID</th>\n",
       "      <th>label</th>\n",
       "      <th>autherID</th>\n",
       "      <th>autherName</th>\n",
       "      <th>dataset_mode</th>\n",
       "      <th>lgb_prob</th>\n",
       "      <th>xgb_prob</th>\n",
       "      <th>cat_prob</th>\n",
       "      <th>lgb_prob_2</th>\n",
       "      <th>xgb_prob_2</th>\n",
       "      <th>...</th>\n",
       "      <th>title_emb_svd_10</th>\n",
       "      <th>title_emb_svd_11</th>\n",
       "      <th>title_emb_svd_12</th>\n",
       "      <th>title_emb_svd_13</th>\n",
       "      <th>title_emb_svd_14</th>\n",
       "      <th>title_emb_svd_15</th>\n",
       "      <th>year</th>\n",
       "      <th>author_rank_ratio</th>\n",
       "      <th>author_rank</th>\n",
       "      <th>id</th>\n",
       "    </tr>\n",
       "  </thead>\n",
       "  <tbody>\n",
       "    <tr>\n",
       "      <th>0</th>\n",
       "      <td>YzOCpPTO</td>\n",
       "      <td>0.0</td>\n",
       "      <td>Iki037dt</td>\n",
       "      <td>atsushi ochiai</td>\n",
       "      <td>0</td>\n",
       "      <td>0.995569</td>\n",
       "      <td>0.998563</td>\n",
       "      <td>0.994757</td>\n",
       "      <td>0.995349</td>\n",
       "      <td>0.999189</td>\n",
       "      <td>...</td>\n",
       "      <td>0.513112</td>\n",
       "      <td>0.403550</td>\n",
       "      <td>0.462179</td>\n",
       "      <td>0.519085</td>\n",
       "      <td>0.374388</td>\n",
       "      <td>0.472013</td>\n",
       "      <td>0.993083</td>\n",
       "      <td>0.284541</td>\n",
       "      <td>0.000956</td>\n",
       "      <td>0</td>\n",
       "    </tr>\n",
       "    <tr>\n",
       "      <th>1</th>\n",
       "      <td>AblgcGjH</td>\n",
       "      <td>0.0</td>\n",
       "      <td>Iki037dt</td>\n",
       "      <td>atsushi ochiai</td>\n",
       "      <td>0</td>\n",
       "      <td>0.961333</td>\n",
       "      <td>0.985927</td>\n",
       "      <td>0.978535</td>\n",
       "      <td>0.947156</td>\n",
       "      <td>0.978245</td>\n",
       "      <td>...</td>\n",
       "      <td>0.334536</td>\n",
       "      <td>0.602430</td>\n",
       "      <td>0.409886</td>\n",
       "      <td>0.526043</td>\n",
       "      <td>0.647095</td>\n",
       "      <td>0.257562</td>\n",
       "      <td>0.993577</td>\n",
       "      <td>0.373974</td>\n",
       "      <td>0.000637</td>\n",
       "      <td>1</td>\n",
       "    </tr>\n",
       "    <tr>\n",
       "      <th>2</th>\n",
       "      <td>B5aouLse</td>\n",
       "      <td>0.0</td>\n",
       "      <td>Iki037dt</td>\n",
       "      <td>atsushi ochiai</td>\n",
       "      <td>0</td>\n",
       "      <td>0.955576</td>\n",
       "      <td>0.980310</td>\n",
       "      <td>0.983442</td>\n",
       "      <td>0.966846</td>\n",
       "      <td>0.991403</td>\n",
       "      <td>...</td>\n",
       "      <td>0.462084</td>\n",
       "      <td>0.533263</td>\n",
       "      <td>0.384081</td>\n",
       "      <td>0.414022</td>\n",
       "      <td>0.523506</td>\n",
       "      <td>0.454810</td>\n",
       "      <td>0.988636</td>\n",
       "      <td>0.777413</td>\n",
       "      <td>0.001912</td>\n",
       "      <td>2</td>\n",
       "    </tr>\n",
       "    <tr>\n",
       "      <th>3</th>\n",
       "      <td>u1G7wBEv</td>\n",
       "      <td>0.0</td>\n",
       "      <td>Iki037dt</td>\n",
       "      <td>atsushi ochiai</td>\n",
       "      <td>0</td>\n",
       "      <td>0.984241</td>\n",
       "      <td>0.994281</td>\n",
       "      <td>0.994938</td>\n",
       "      <td>0.987069</td>\n",
       "      <td>0.996917</td>\n",
       "      <td>...</td>\n",
       "      <td>0.408238</td>\n",
       "      <td>0.575191</td>\n",
       "      <td>0.552440</td>\n",
       "      <td>0.385124</td>\n",
       "      <td>0.197069</td>\n",
       "      <td>0.337199</td>\n",
       "      <td>0.981719</td>\n",
       "      <td>1.000000</td>\n",
       "      <td>0.002869</td>\n",
       "      <td>3</td>\n",
       "    </tr>\n",
       "    <tr>\n",
       "      <th>4</th>\n",
       "      <td>W7w6P8lA</td>\n",
       "      <td>0.0</td>\n",
       "      <td>Iki037dt</td>\n",
       "      <td>atsushi ochiai</td>\n",
       "      <td>0</td>\n",
       "      <td>0.996644</td>\n",
       "      <td>0.998641</td>\n",
       "      <td>0.997534</td>\n",
       "      <td>0.996980</td>\n",
       "      <td>0.999352</td>\n",
       "      <td>...</td>\n",
       "      <td>0.400295</td>\n",
       "      <td>0.662736</td>\n",
       "      <td>0.534882</td>\n",
       "      <td>0.404532</td>\n",
       "      <td>0.483754</td>\n",
       "      <td>0.316045</td>\n",
       "      <td>0.995553</td>\n",
       "      <td>0.649425</td>\n",
       "      <td>0.001753</td>\n",
       "      <td>4</td>\n",
       "    </tr>\n",
       "    <tr>\n",
       "      <th>...</th>\n",
       "      <td>...</td>\n",
       "      <td>...</td>\n",
       "      <td>...</td>\n",
       "      <td>...</td>\n",
       "      <td>...</td>\n",
       "      <td>...</td>\n",
       "      <td>...</td>\n",
       "      <td>...</td>\n",
       "      <td>...</td>\n",
       "      <td>...</td>\n",
       "      <td>...</td>\n",
       "      <td>...</td>\n",
       "      <td>...</td>\n",
       "      <td>...</td>\n",
       "      <td>...</td>\n",
       "      <td>...</td>\n",
       "      <td>...</td>\n",
       "      <td>...</td>\n",
       "      <td>...</td>\n",
       "      <td>...</td>\n",
       "      <td>...</td>\n",
       "    </tr>\n",
       "    <tr>\n",
       "      <th>326795</th>\n",
       "      <td>vhwIyDJm</td>\n",
       "      <td>NaN</td>\n",
       "      <td>Pu6wvwLr</td>\n",
       "      <td>yubo chen</td>\n",
       "      <td>2</td>\n",
       "      <td>0.941757</td>\n",
       "      <td>0.993945</td>\n",
       "      <td>0.972270</td>\n",
       "      <td>0.973219</td>\n",
       "      <td>0.991588</td>\n",
       "      <td>...</td>\n",
       "      <td>0.426105</td>\n",
       "      <td>0.422989</td>\n",
       "      <td>0.542385</td>\n",
       "      <td>0.514842</td>\n",
       "      <td>0.401795</td>\n",
       "      <td>0.466348</td>\n",
       "      <td>0.999012</td>\n",
       "      <td>0.888706</td>\n",
       "      <td>0.002231</td>\n",
       "      <td>326795</td>\n",
       "    </tr>\n",
       "    <tr>\n",
       "      <th>326796</th>\n",
       "      <td>wXUkX3Go</td>\n",
       "      <td>NaN</td>\n",
       "      <td>Pu6wvwLr</td>\n",
       "      <td>yubo chen</td>\n",
       "      <td>2</td>\n",
       "      <td>0.963601</td>\n",
       "      <td>0.991254</td>\n",
       "      <td>0.984374</td>\n",
       "      <td>0.952115</td>\n",
       "      <td>0.995302</td>\n",
       "      <td>...</td>\n",
       "      <td>0.503675</td>\n",
       "      <td>0.559642</td>\n",
       "      <td>0.343830</td>\n",
       "      <td>0.612504</td>\n",
       "      <td>0.412387</td>\n",
       "      <td>0.523680</td>\n",
       "      <td>0.998024</td>\n",
       "      <td>0.749589</td>\n",
       "      <td>0.000637</td>\n",
       "      <td>326796</td>\n",
       "    </tr>\n",
       "    <tr>\n",
       "      <th>326797</th>\n",
       "      <td>yJLWNkt6</td>\n",
       "      <td>NaN</td>\n",
       "      <td>Pu6wvwLr</td>\n",
       "      <td>yubo chen</td>\n",
       "      <td>2</td>\n",
       "      <td>0.864842</td>\n",
       "      <td>0.977128</td>\n",
       "      <td>0.937601</td>\n",
       "      <td>0.864351</td>\n",
       "      <td>0.986817</td>\n",
       "      <td>...</td>\n",
       "      <td>0.297019</td>\n",
       "      <td>0.287015</td>\n",
       "      <td>0.365777</td>\n",
       "      <td>0.446811</td>\n",
       "      <td>0.536170</td>\n",
       "      <td>0.634783</td>\n",
       "      <td>0.998518</td>\n",
       "      <td>0.499179</td>\n",
       "      <td>0.000956</td>\n",
       "      <td>326797</td>\n",
       "    </tr>\n",
       "    <tr>\n",
       "      <th>326798</th>\n",
       "      <td>yZpKg3wN</td>\n",
       "      <td>NaN</td>\n",
       "      <td>Pu6wvwLr</td>\n",
       "      <td>yubo chen</td>\n",
       "      <td>2</td>\n",
       "      <td>0.914313</td>\n",
       "      <td>0.981711</td>\n",
       "      <td>0.957200</td>\n",
       "      <td>0.957060</td>\n",
       "      <td>0.983163</td>\n",
       "      <td>...</td>\n",
       "      <td>0.515214</td>\n",
       "      <td>0.272920</td>\n",
       "      <td>0.676037</td>\n",
       "      <td>0.358894</td>\n",
       "      <td>0.473250</td>\n",
       "      <td>0.498873</td>\n",
       "      <td>0.996047</td>\n",
       "      <td>0.198686</td>\n",
       "      <td>0.000000</td>\n",
       "      <td>326798</td>\n",
       "    </tr>\n",
       "    <tr>\n",
       "      <th>326799</th>\n",
       "      <td>zYfPUkka</td>\n",
       "      <td>NaN</td>\n",
       "      <td>Pu6wvwLr</td>\n",
       "      <td>yubo chen</td>\n",
       "      <td>2</td>\n",
       "      <td>0.924441</td>\n",
       "      <td>0.986809</td>\n",
       "      <td>0.967652</td>\n",
       "      <td>0.930368</td>\n",
       "      <td>0.988908</td>\n",
       "      <td>...</td>\n",
       "      <td>0.382461</td>\n",
       "      <td>0.389517</td>\n",
       "      <td>0.624222</td>\n",
       "      <td>0.365453</td>\n",
       "      <td>0.610801</td>\n",
       "      <td>0.541391</td>\n",
       "      <td>0.998518</td>\n",
       "      <td>0.666119</td>\n",
       "      <td>0.000319</td>\n",
       "      <td>326799</td>\n",
       "    </tr>\n",
       "  </tbody>\n",
       "</table>\n",
       "<p>326800 rows × 332 columns</p>\n",
       "</div>"
      ],
      "text/plain": [
       "             PID  label  autherID      autherName  dataset_mode  lgb_prob  \\\n",
       "0       YzOCpPTO    0.0  Iki037dt  atsushi ochiai             0  0.995569   \n",
       "1       AblgcGjH    0.0  Iki037dt  atsushi ochiai             0  0.961333   \n",
       "2       B5aouLse    0.0  Iki037dt  atsushi ochiai             0  0.955576   \n",
       "3       u1G7wBEv    0.0  Iki037dt  atsushi ochiai             0  0.984241   \n",
       "4       W7w6P8lA    0.0  Iki037dt  atsushi ochiai             0  0.996644   \n",
       "...          ...    ...       ...             ...           ...       ...   \n",
       "326795  vhwIyDJm    NaN  Pu6wvwLr       yubo chen             2  0.941757   \n",
       "326796  wXUkX3Go    NaN  Pu6wvwLr       yubo chen             2  0.963601   \n",
       "326797  yJLWNkt6    NaN  Pu6wvwLr       yubo chen             2  0.864842   \n",
       "326798  yZpKg3wN    NaN  Pu6wvwLr       yubo chen             2  0.914313   \n",
       "326799  zYfPUkka    NaN  Pu6wvwLr       yubo chen             2  0.924441   \n",
       "\n",
       "        xgb_prob  cat_prob  lgb_prob_2  xgb_prob_2  ...  title_emb_svd_10  \\\n",
       "0       0.998563  0.994757    0.995349    0.999189  ...          0.513112   \n",
       "1       0.985927  0.978535    0.947156    0.978245  ...          0.334536   \n",
       "2       0.980310  0.983442    0.966846    0.991403  ...          0.462084   \n",
       "3       0.994281  0.994938    0.987069    0.996917  ...          0.408238   \n",
       "4       0.998641  0.997534    0.996980    0.999352  ...          0.400295   \n",
       "...          ...       ...         ...         ...  ...               ...   \n",
       "326795  0.993945  0.972270    0.973219    0.991588  ...          0.426105   \n",
       "326796  0.991254  0.984374    0.952115    0.995302  ...          0.503675   \n",
       "326797  0.977128  0.937601    0.864351    0.986817  ...          0.297019   \n",
       "326798  0.981711  0.957200    0.957060    0.983163  ...          0.515214   \n",
       "326799  0.986809  0.967652    0.930368    0.988908  ...          0.382461   \n",
       "\n",
       "        title_emb_svd_11  title_emb_svd_12  title_emb_svd_13  \\\n",
       "0               0.403550          0.462179          0.519085   \n",
       "1               0.602430          0.409886          0.526043   \n",
       "2               0.533263          0.384081          0.414022   \n",
       "3               0.575191          0.552440          0.385124   \n",
       "4               0.662736          0.534882          0.404532   \n",
       "...                  ...               ...               ...   \n",
       "326795          0.422989          0.542385          0.514842   \n",
       "326796          0.559642          0.343830          0.612504   \n",
       "326797          0.287015          0.365777          0.446811   \n",
       "326798          0.272920          0.676037          0.358894   \n",
       "326799          0.389517          0.624222          0.365453   \n",
       "\n",
       "        title_emb_svd_14  title_emb_svd_15      year  author_rank_ratio  \\\n",
       "0               0.374388          0.472013  0.993083           0.284541   \n",
       "1               0.647095          0.257562  0.993577           0.373974   \n",
       "2               0.523506          0.454810  0.988636           0.777413   \n",
       "3               0.197069          0.337199  0.981719           1.000000   \n",
       "4               0.483754          0.316045  0.995553           0.649425   \n",
       "...                  ...               ...       ...                ...   \n",
       "326795          0.401795          0.466348  0.999012           0.888706   \n",
       "326796          0.412387          0.523680  0.998024           0.749589   \n",
       "326797          0.536170          0.634783  0.998518           0.499179   \n",
       "326798          0.473250          0.498873  0.996047           0.198686   \n",
       "326799          0.610801          0.541391  0.998518           0.666119   \n",
       "\n",
       "        author_rank      id  \n",
       "0          0.000956       0  \n",
       "1          0.000637       1  \n",
       "2          0.001912       2  \n",
       "3          0.002869       3  \n",
       "4          0.001753       4  \n",
       "...             ...     ...  \n",
       "326795     0.002231  326795  \n",
       "326796     0.000637  326796  \n",
       "326797     0.000956  326797  \n",
       "326798     0.000000  326798  \n",
       "326799     0.000319  326799  \n",
       "\n",
       "[326800 rows x 332 columns]"
      ]
     },
     "execution_count": 12,
     "metadata": {},
     "output_type": "execute_result"
    }
   ],
   "source": [
    "data"
   ]
  },
  {
   "cell_type": "code",
   "execution_count": 13,
   "id": "ee7a2de1-3d2a-47de-ab95-da4b1beff05c",
   "metadata": {},
   "outputs": [],
   "source": [
    "df = data[['autherID']].drop_duplicates().reset_index(drop = True)"
   ]
  },
  {
   "cell_type": "code",
   "execution_count": 14,
   "id": "9384b967-7ea1-4289-9676-f7be3943404c",
   "metadata": {},
   "outputs": [
    {
     "data": {
      "text/html": [
       "<div>\n",
       "<style scoped>\n",
       "    .dataframe tbody tr th:only-of-type {\n",
       "        vertical-align: middle;\n",
       "    }\n",
       "\n",
       "    .dataframe tbody tr th {\n",
       "        vertical-align: top;\n",
       "    }\n",
       "\n",
       "    .dataframe thead th {\n",
       "        text-align: right;\n",
       "    }\n",
       "</style>\n",
       "<table border=\"1\" class=\"dataframe\">\n",
       "  <thead>\n",
       "    <tr style=\"text-align: right;\">\n",
       "      <th></th>\n",
       "      <th>PID</th>\n",
       "      <th>label</th>\n",
       "      <th>autherID</th>\n",
       "      <th>autherName</th>\n",
       "      <th>dataset_mode</th>\n",
       "      <th>lgb_prob</th>\n",
       "      <th>xgb_prob</th>\n",
       "      <th>cat_prob</th>\n",
       "      <th>lgb_prob_2</th>\n",
       "      <th>xgb_prob_2</th>\n",
       "      <th>...</th>\n",
       "      <th>title_emb_svd_10</th>\n",
       "      <th>title_emb_svd_11</th>\n",
       "      <th>title_emb_svd_12</th>\n",
       "      <th>title_emb_svd_13</th>\n",
       "      <th>title_emb_svd_14</th>\n",
       "      <th>title_emb_svd_15</th>\n",
       "      <th>year</th>\n",
       "      <th>author_rank_ratio</th>\n",
       "      <th>author_rank</th>\n",
       "      <th>id</th>\n",
       "    </tr>\n",
       "  </thead>\n",
       "  <tbody>\n",
       "    <tr>\n",
       "      <th>0</th>\n",
       "      <td>YzOCpPTO</td>\n",
       "      <td>0.0</td>\n",
       "      <td>Iki037dt</td>\n",
       "      <td>atsushi ochiai</td>\n",
       "      <td>0</td>\n",
       "      <td>0.995569</td>\n",
       "      <td>0.998563</td>\n",
       "      <td>0.994757</td>\n",
       "      <td>0.995349</td>\n",
       "      <td>0.999189</td>\n",
       "      <td>...</td>\n",
       "      <td>0.513112</td>\n",
       "      <td>0.403550</td>\n",
       "      <td>0.462179</td>\n",
       "      <td>0.519085</td>\n",
       "      <td>0.374388</td>\n",
       "      <td>0.472013</td>\n",
       "      <td>0.993083</td>\n",
       "      <td>0.284541</td>\n",
       "      <td>0.000956</td>\n",
       "      <td>0</td>\n",
       "    </tr>\n",
       "    <tr>\n",
       "      <th>1</th>\n",
       "      <td>AblgcGjH</td>\n",
       "      <td>0.0</td>\n",
       "      <td>Iki037dt</td>\n",
       "      <td>atsushi ochiai</td>\n",
       "      <td>0</td>\n",
       "      <td>0.961333</td>\n",
       "      <td>0.985927</td>\n",
       "      <td>0.978535</td>\n",
       "      <td>0.947156</td>\n",
       "      <td>0.978245</td>\n",
       "      <td>...</td>\n",
       "      <td>0.334536</td>\n",
       "      <td>0.602430</td>\n",
       "      <td>0.409886</td>\n",
       "      <td>0.526043</td>\n",
       "      <td>0.647095</td>\n",
       "      <td>0.257562</td>\n",
       "      <td>0.993577</td>\n",
       "      <td>0.373974</td>\n",
       "      <td>0.000637</td>\n",
       "      <td>1</td>\n",
       "    </tr>\n",
       "    <tr>\n",
       "      <th>2</th>\n",
       "      <td>B5aouLse</td>\n",
       "      <td>0.0</td>\n",
       "      <td>Iki037dt</td>\n",
       "      <td>atsushi ochiai</td>\n",
       "      <td>0</td>\n",
       "      <td>0.955576</td>\n",
       "      <td>0.980310</td>\n",
       "      <td>0.983442</td>\n",
       "      <td>0.966846</td>\n",
       "      <td>0.991403</td>\n",
       "      <td>...</td>\n",
       "      <td>0.462084</td>\n",
       "      <td>0.533263</td>\n",
       "      <td>0.384081</td>\n",
       "      <td>0.414022</td>\n",
       "      <td>0.523506</td>\n",
       "      <td>0.454810</td>\n",
       "      <td>0.988636</td>\n",
       "      <td>0.777413</td>\n",
       "      <td>0.001912</td>\n",
       "      <td>2</td>\n",
       "    </tr>\n",
       "    <tr>\n",
       "      <th>3</th>\n",
       "      <td>u1G7wBEv</td>\n",
       "      <td>0.0</td>\n",
       "      <td>Iki037dt</td>\n",
       "      <td>atsushi ochiai</td>\n",
       "      <td>0</td>\n",
       "      <td>0.984241</td>\n",
       "      <td>0.994281</td>\n",
       "      <td>0.994938</td>\n",
       "      <td>0.987069</td>\n",
       "      <td>0.996917</td>\n",
       "      <td>...</td>\n",
       "      <td>0.408238</td>\n",
       "      <td>0.575191</td>\n",
       "      <td>0.552440</td>\n",
       "      <td>0.385124</td>\n",
       "      <td>0.197069</td>\n",
       "      <td>0.337199</td>\n",
       "      <td>0.981719</td>\n",
       "      <td>1.000000</td>\n",
       "      <td>0.002869</td>\n",
       "      <td>3</td>\n",
       "    </tr>\n",
       "    <tr>\n",
       "      <th>4</th>\n",
       "      <td>W7w6P8lA</td>\n",
       "      <td>0.0</td>\n",
       "      <td>Iki037dt</td>\n",
       "      <td>atsushi ochiai</td>\n",
       "      <td>0</td>\n",
       "      <td>0.996644</td>\n",
       "      <td>0.998641</td>\n",
       "      <td>0.997534</td>\n",
       "      <td>0.996980</td>\n",
       "      <td>0.999352</td>\n",
       "      <td>...</td>\n",
       "      <td>0.400295</td>\n",
       "      <td>0.662736</td>\n",
       "      <td>0.534882</td>\n",
       "      <td>0.404532</td>\n",
       "      <td>0.483754</td>\n",
       "      <td>0.316045</td>\n",
       "      <td>0.995553</td>\n",
       "      <td>0.649425</td>\n",
       "      <td>0.001753</td>\n",
       "      <td>4</td>\n",
       "    </tr>\n",
       "    <tr>\n",
       "      <th>...</th>\n",
       "      <td>...</td>\n",
       "      <td>...</td>\n",
       "      <td>...</td>\n",
       "      <td>...</td>\n",
       "      <td>...</td>\n",
       "      <td>...</td>\n",
       "      <td>...</td>\n",
       "      <td>...</td>\n",
       "      <td>...</td>\n",
       "      <td>...</td>\n",
       "      <td>...</td>\n",
       "      <td>...</td>\n",
       "      <td>...</td>\n",
       "      <td>...</td>\n",
       "      <td>...</td>\n",
       "      <td>...</td>\n",
       "      <td>...</td>\n",
       "      <td>...</td>\n",
       "      <td>...</td>\n",
       "      <td>...</td>\n",
       "      <td>...</td>\n",
       "    </tr>\n",
       "    <tr>\n",
       "      <th>326795</th>\n",
       "      <td>vhwIyDJm</td>\n",
       "      <td>NaN</td>\n",
       "      <td>Pu6wvwLr</td>\n",
       "      <td>yubo chen</td>\n",
       "      <td>2</td>\n",
       "      <td>0.941757</td>\n",
       "      <td>0.993945</td>\n",
       "      <td>0.972270</td>\n",
       "      <td>0.973219</td>\n",
       "      <td>0.991588</td>\n",
       "      <td>...</td>\n",
       "      <td>0.426105</td>\n",
       "      <td>0.422989</td>\n",
       "      <td>0.542385</td>\n",
       "      <td>0.514842</td>\n",
       "      <td>0.401795</td>\n",
       "      <td>0.466348</td>\n",
       "      <td>0.999012</td>\n",
       "      <td>0.888706</td>\n",
       "      <td>0.002231</td>\n",
       "      <td>326795</td>\n",
       "    </tr>\n",
       "    <tr>\n",
       "      <th>326796</th>\n",
       "      <td>wXUkX3Go</td>\n",
       "      <td>NaN</td>\n",
       "      <td>Pu6wvwLr</td>\n",
       "      <td>yubo chen</td>\n",
       "      <td>2</td>\n",
       "      <td>0.963601</td>\n",
       "      <td>0.991254</td>\n",
       "      <td>0.984374</td>\n",
       "      <td>0.952115</td>\n",
       "      <td>0.995302</td>\n",
       "      <td>...</td>\n",
       "      <td>0.503675</td>\n",
       "      <td>0.559642</td>\n",
       "      <td>0.343830</td>\n",
       "      <td>0.612504</td>\n",
       "      <td>0.412387</td>\n",
       "      <td>0.523680</td>\n",
       "      <td>0.998024</td>\n",
       "      <td>0.749589</td>\n",
       "      <td>0.000637</td>\n",
       "      <td>326796</td>\n",
       "    </tr>\n",
       "    <tr>\n",
       "      <th>326797</th>\n",
       "      <td>yJLWNkt6</td>\n",
       "      <td>NaN</td>\n",
       "      <td>Pu6wvwLr</td>\n",
       "      <td>yubo chen</td>\n",
       "      <td>2</td>\n",
       "      <td>0.864842</td>\n",
       "      <td>0.977128</td>\n",
       "      <td>0.937601</td>\n",
       "      <td>0.864351</td>\n",
       "      <td>0.986817</td>\n",
       "      <td>...</td>\n",
       "      <td>0.297019</td>\n",
       "      <td>0.287015</td>\n",
       "      <td>0.365777</td>\n",
       "      <td>0.446811</td>\n",
       "      <td>0.536170</td>\n",
       "      <td>0.634783</td>\n",
       "      <td>0.998518</td>\n",
       "      <td>0.499179</td>\n",
       "      <td>0.000956</td>\n",
       "      <td>326797</td>\n",
       "    </tr>\n",
       "    <tr>\n",
       "      <th>326798</th>\n",
       "      <td>yZpKg3wN</td>\n",
       "      <td>NaN</td>\n",
       "      <td>Pu6wvwLr</td>\n",
       "      <td>yubo chen</td>\n",
       "      <td>2</td>\n",
       "      <td>0.914313</td>\n",
       "      <td>0.981711</td>\n",
       "      <td>0.957200</td>\n",
       "      <td>0.957060</td>\n",
       "      <td>0.983163</td>\n",
       "      <td>...</td>\n",
       "      <td>0.515214</td>\n",
       "      <td>0.272920</td>\n",
       "      <td>0.676037</td>\n",
       "      <td>0.358894</td>\n",
       "      <td>0.473250</td>\n",
       "      <td>0.498873</td>\n",
       "      <td>0.996047</td>\n",
       "      <td>0.198686</td>\n",
       "      <td>0.000000</td>\n",
       "      <td>326798</td>\n",
       "    </tr>\n",
       "    <tr>\n",
       "      <th>326799</th>\n",
       "      <td>zYfPUkka</td>\n",
       "      <td>NaN</td>\n",
       "      <td>Pu6wvwLr</td>\n",
       "      <td>yubo chen</td>\n",
       "      <td>2</td>\n",
       "      <td>0.924441</td>\n",
       "      <td>0.986809</td>\n",
       "      <td>0.967652</td>\n",
       "      <td>0.930368</td>\n",
       "      <td>0.988908</td>\n",
       "      <td>...</td>\n",
       "      <td>0.382461</td>\n",
       "      <td>0.389517</td>\n",
       "      <td>0.624222</td>\n",
       "      <td>0.365453</td>\n",
       "      <td>0.610801</td>\n",
       "      <td>0.541391</td>\n",
       "      <td>0.998518</td>\n",
       "      <td>0.666119</td>\n",
       "      <td>0.000319</td>\n",
       "      <td>326799</td>\n",
       "    </tr>\n",
       "  </tbody>\n",
       "</table>\n",
       "<p>326800 rows × 332 columns</p>\n",
       "</div>"
      ],
      "text/plain": [
       "             PID  label  autherID      autherName  dataset_mode  lgb_prob  \\\n",
       "0       YzOCpPTO    0.0  Iki037dt  atsushi ochiai             0  0.995569   \n",
       "1       AblgcGjH    0.0  Iki037dt  atsushi ochiai             0  0.961333   \n",
       "2       B5aouLse    0.0  Iki037dt  atsushi ochiai             0  0.955576   \n",
       "3       u1G7wBEv    0.0  Iki037dt  atsushi ochiai             0  0.984241   \n",
       "4       W7w6P8lA    0.0  Iki037dt  atsushi ochiai             0  0.996644   \n",
       "...          ...    ...       ...             ...           ...       ...   \n",
       "326795  vhwIyDJm    NaN  Pu6wvwLr       yubo chen             2  0.941757   \n",
       "326796  wXUkX3Go    NaN  Pu6wvwLr       yubo chen             2  0.963601   \n",
       "326797  yJLWNkt6    NaN  Pu6wvwLr       yubo chen             2  0.864842   \n",
       "326798  yZpKg3wN    NaN  Pu6wvwLr       yubo chen             2  0.914313   \n",
       "326799  zYfPUkka    NaN  Pu6wvwLr       yubo chen             2  0.924441   \n",
       "\n",
       "        xgb_prob  cat_prob  lgb_prob_2  xgb_prob_2  ...  title_emb_svd_10  \\\n",
       "0       0.998563  0.994757    0.995349    0.999189  ...          0.513112   \n",
       "1       0.985927  0.978535    0.947156    0.978245  ...          0.334536   \n",
       "2       0.980310  0.983442    0.966846    0.991403  ...          0.462084   \n",
       "3       0.994281  0.994938    0.987069    0.996917  ...          0.408238   \n",
       "4       0.998641  0.997534    0.996980    0.999352  ...          0.400295   \n",
       "...          ...       ...         ...         ...  ...               ...   \n",
       "326795  0.993945  0.972270    0.973219    0.991588  ...          0.426105   \n",
       "326796  0.991254  0.984374    0.952115    0.995302  ...          0.503675   \n",
       "326797  0.977128  0.937601    0.864351    0.986817  ...          0.297019   \n",
       "326798  0.981711  0.957200    0.957060    0.983163  ...          0.515214   \n",
       "326799  0.986809  0.967652    0.930368    0.988908  ...          0.382461   \n",
       "\n",
       "        title_emb_svd_11  title_emb_svd_12  title_emb_svd_13  \\\n",
       "0               0.403550          0.462179          0.519085   \n",
       "1               0.602430          0.409886          0.526043   \n",
       "2               0.533263          0.384081          0.414022   \n",
       "3               0.575191          0.552440          0.385124   \n",
       "4               0.662736          0.534882          0.404532   \n",
       "...                  ...               ...               ...   \n",
       "326795          0.422989          0.542385          0.514842   \n",
       "326796          0.559642          0.343830          0.612504   \n",
       "326797          0.287015          0.365777          0.446811   \n",
       "326798          0.272920          0.676037          0.358894   \n",
       "326799          0.389517          0.624222          0.365453   \n",
       "\n",
       "        title_emb_svd_14  title_emb_svd_15      year  author_rank_ratio  \\\n",
       "0               0.374388          0.472013  0.993083           0.284541   \n",
       "1               0.647095          0.257562  0.993577           0.373974   \n",
       "2               0.523506          0.454810  0.988636           0.777413   \n",
       "3               0.197069          0.337199  0.981719           1.000000   \n",
       "4               0.483754          0.316045  0.995553           0.649425   \n",
       "...                  ...               ...       ...                ...   \n",
       "326795          0.401795          0.466348  0.999012           0.888706   \n",
       "326796          0.412387          0.523680  0.998024           0.749589   \n",
       "326797          0.536170          0.634783  0.998518           0.499179   \n",
       "326798          0.473250          0.498873  0.996047           0.198686   \n",
       "326799          0.610801          0.541391  0.998518           0.666119   \n",
       "\n",
       "        author_rank      id  \n",
       "0          0.000956       0  \n",
       "1          0.000637       1  \n",
       "2          0.001912       2  \n",
       "3          0.002869       3  \n",
       "4          0.001753       4  \n",
       "...             ...     ...  \n",
       "326795     0.002231  326795  \n",
       "326796     0.000637  326796  \n",
       "326797     0.000956  326797  \n",
       "326798     0.000000  326798  \n",
       "326799     0.000319  326799  \n",
       "\n",
       "[326800 rows x 332 columns]"
      ]
     },
     "execution_count": 14,
     "metadata": {},
     "output_type": "execute_result"
    }
   ],
   "source": [
    "data"
   ]
  },
  {
   "cell_type": "code",
   "execution_count": 15,
   "id": "4fde29ff-ebb6-4d1f-ac69-7c1bdcd08d15",
   "metadata": {},
   "outputs": [],
   "source": [
    "\n",
    "idx = 18\n",
    "feats= dict()\n",
    "id_ = df.loc[idx]['autherID']\n",
    "temp = data[data['autherID'] == id_].reset_index(drop = True)\n",
    "temp_edges = edges[(edges[0]>=temp['id'].min()) & (edges[0]<temp['id'].max())]\n",
    "temp_edges[0] = temp_edges[0] - temp['id'].min()\n",
    "temp_edges[1] = temp_edges[1] - temp['id'].min()\n",
    "\n",
    "temp = temp.sample(frac = 1).reset_index(drop = True)\n",
    "t_dict = dict(zip((temp['id'] -temp['id'].min()).to_list(),temp.index.to_list()))\n",
    "temp_edges[0] = temp_edges[0].map(t_dict)\n",
    "temp_edges[1] = temp_edges[1].map(t_dict)\n",
    "temp_edges['e0'] = temp_edges[[0,1]].min(axis = 1)\n",
    "temp_edges['e1'] = temp_edges[[0,1]].max(axis = 1)\n",
    "temp_edges = temp_edges.sort_values(['e0','e1']).reset_index(drop = True)\n"
   ]
  },
  {
   "cell_type": "code",
   "execution_count": 14,
   "id": "1dca4dc1-4f30-426d-a403-0200a8fe91e8",
   "metadata": {},
   "outputs": [],
   "source": [
    "\n",
    "class Dataset(torch.utils.data.Dataset):\n",
    "    def __init__(self, df,data,used_feat, edges,targets ='label',mode ='Test'):\n",
    "        \n",
    "        self.df = df.copy()\n",
    "        self.data = data.copy()\n",
    "        \n",
    "        self.used_feat = used_feat\n",
    "        self.edges = edges\n",
    "        self.targets = targets\n",
    "        self.mode = mode\n",
    "\n",
    "        \n",
    "    def __len__(self):\n",
    "        return len(self.df)\n",
    "\n",
    "    def __getitem__(self, idx):\n",
    "        df = dict()\n",
    "        id_ = self.df.loc[idx]['autherID']\n",
    "        temp = self.data[self.data['autherID'] == id_].reset_index(drop = True)\n",
    "        temp_edges = self.edges[(self.edges[0]>=temp['id'].min()) & (self.edges[0]<temp['id'].max())]\n",
    "        temp_edges[0] = temp_edges[0] - temp['id'].min()\n",
    "        temp_edges[1] = temp_edges[1] - temp['id'].min()\n",
    "        #if self.mode == 'Train':\n",
    "        temp = temp.sample(frac = 1).reset_index(drop = True)\n",
    "        t_dict = dict(zip((temp['id'] -temp['id'].min()).to_list(),temp.index.to_list()))\n",
    "        temp_edges[0] = temp_edges[0].map(t_dict)\n",
    "        temp_edges[1] = temp_edges[1].map(t_dict)\n",
    "        temp_edges['e0'] = temp_edges[[0,1]].min(axis = 1)\n",
    "        temp_edges['e1'] = temp_edges[[0,1]].max(axis = 1)\n",
    "        temp_edges = temp_edges.sort_values(['e0','e1']).reset_index(drop = True)\n",
    "\n",
    "\n",
    "\n",
    "        df['node_feat'] = torch.tensor(temp[self.used_feat].values, dtype=torch.float)\n",
    "        df['edge_index'] = torch.tensor(temp_edges[['e0','e1']].values, dtype=torch.long).T\n",
    "        df['id'] =  torch.tensor(temp['id'])\n",
    "        df['sp_feats'] = torch.tensor(temp[['lgb_prob', 'xgb_prob', 'cat_prob', 'lgb_prob_2',\n",
    "       'xgb_prob_2', 'cat_prob_2']].values, dtype=torch.float)\n",
    "        if self.mode == 'Train':\n",
    "            df['targets'] = torch.tensor(temp[self.targets])\n",
    "        #print(123)\n",
    "        return df"
   ]
  },
  {
   "cell_type": "code",
   "execution_count": 15,
   "id": "90a9b5bb-3e43-4110-98b0-5f17441b6600",
   "metadata": {},
   "outputs": [],
   "source": [
    "#torch.tensor(temp_edges[[0,1]].values, dtype=torch.long).T.shape"
   ]
  },
  {
   "cell_type": "code",
   "execution_count": 16,
   "id": "4693aaae-fea8-4983-b817-c9d83543f69f",
   "metadata": {},
   "outputs": [],
   "source": [
    "class cfg:\n",
    "    #num_features = ['action_time','cursor_position','word_count'] + ['down_time_minute', 'down_time_hour','time_diff']\n",
    "    #cat_features = ['activity','text_change']\n",
    "    targets = 'label'\n",
    "    exp_name = 'exp1'\n",
    "    used_feat = used_feat\n",
    "    \n",
    "    seed = 42\n",
    "    \n",
    "    batch_size = 1\n",
    "    val_batch_size = 1\n",
    "    lr = 3e-5\n",
    "    num_workers = 4\n",
    "    prefetch = 4\n",
    "    epochs = 10"
   ]
  },
  {
   "cell_type": "code",
   "execution_count": 17,
   "id": "5d1f593b-b863-4007-a03c-b5f48f3aeff4",
   "metadata": {},
   "outputs": [],
   "source": [
    "#data[data['fold_id']<8].reset_index(drop = True)"
   ]
  },
  {
   "cell_type": "code",
   "execution_count": 18,
   "id": "63b39197-3b91-4294-965c-7742fe43a54e",
   "metadata": {},
   "outputs": [],
   "source": [
    "#temp = pd.read_feather('nn/kfold_fold.feather')\n",
    "#set(temp[temp['fold_id']<8]['autherID'])"
   ]
  },
  {
   "cell_type": "code",
   "execution_count": 19,
   "id": "39fbf1bb-ba74-43fc-9ae5-7eeff7676f34",
   "metadata": {},
   "outputs": [],
   "source": [
    "data_train = data[data['label'].notna()].reset_index(drop = True)\n",
    "data_test = data[data['label'].isna()].reset_index(drop = True)\n",
    "\n",
    "#data_train = data[data['autherID'].isin(set(temp[temp['fold_id']<8]['autherID']))].reset_index(drop = True)\n",
    "#data_test = data[~data['autherID'].isin(set(temp[temp['fold_id']<8]['autherID']))].reset_index(drop = True)\n",
    "\n",
    "data_train['label'] = 1 - data_train['label']\n",
    "\n",
    "\n",
    "df_train = data_train[['autherID']].drop_duplicates().reset_index(drop = True)\n",
    "df_test = data_test[['autherID']].drop_duplicates().reset_index(drop = True)\n"
   ]
  },
  {
   "cell_type": "code",
   "execution_count": 22,
   "id": "4418b4a0-8ad1-431a-8c84-d7e882492b64",
   "metadata": {},
   "outputs": [],
   "source": [
    "temp = pd.read_feather('nn/kfold_fold.feather')\n",
    "df_train = df_train.merge(temp[['autherID','fold_id']].drop_duplicates(subset = ['autherID'],keep = 'first'),on = ['autherID'],how = 'left')"
   ]
  },
  {
   "cell_type": "code",
   "execution_count": 20,
   "id": "eb99565b-62e8-4dd1-9b47-bcaafa173921",
   "metadata": {},
   "outputs": [],
   "source": [
    "\n",
    "folds = 5\n",
    "kfold = KFold(n_splits=folds, shuffle=True, random_state=cfg.seed)\n",
    "for fold_id, (trn_idx, val_idx) in enumerate(\n",
    "        kfold.split(df_train)):\n",
    "    df_train.loc[val_idx,f'fold_id'] = fold_id\n"
   ]
  },
  {
   "cell_type": "code",
   "execution_count": 24,
   "id": "e2e056a5-7c4e-429e-909a-8cb83a683819",
   "metadata": {},
   "outputs": [],
   "source": [
    "\n",
    "train_dataset = Dataset(df_train[df_train['fold_id']!=0].reset_index(drop = True),data_train, cfg.used_feat,edges, cfg.targets, 'Train' )\n",
    "val_dataset = Dataset(df_train[df_train['fold_id']==0].reset_index(drop = True),data_train, cfg.used_feat,edges, cfg.targets, 'Train' )\n",
    "\n",
    "train_dataloader = DataLoader(train_dataset,\n",
    "                              batch_size=cfg.batch_size,\n",
    "                              #sampler=train_sampler,\n",
    "                              drop_last=True,\n",
    "                              pin_memory=True,\n",
    "                              num_workers=cfg.num_workers,\n",
    "                              prefetch_factor=cfg.prefetch)\n",
    "val_dataloader = DataLoader(val_dataset,\n",
    "                            batch_size=cfg.val_batch_size,\n",
    "                            #sampler=val_sampler,\n",
    "                            drop_last=False,\n",
    "                            pin_memory=True,\n",
    "                            num_workers=cfg.num_workers,\n",
    "                            prefetch_factor=cfg.prefetch)\n",
    "\n",
    "test_dataset = Dataset(df_test,data_test, cfg.used_feat,edges, cfg.targets, 'test' )\n",
    "\n",
    "test_dataloader = DataLoader(test_dataset,\n",
    "                            batch_size=cfg.val_batch_size,\n",
    "                            #sampler=val_sampler,\n",
    "                            drop_last=False,\n",
    "                            pin_memory=True,\n",
    "                            num_workers=cfg.num_workers,\n",
    "                            prefetch_factor=cfg.prefetch)\n"
   ]
  },
  {
   "cell_type": "code",
   "execution_count": 25,
   "id": "a9835a44-fbfa-4472-a1b8-988a7d4f2e9f",
   "metadata": {},
   "outputs": [],
   "source": [
    "for f in train_dataloader:\n",
    "    break"
   ]
  },
  {
   "cell_type": "code",
   "execution_count": 27,
   "id": "5b1c74fc-5316-4d4e-94ba-9cfd67005b83",
   "metadata": {},
   "outputs": [],
   "source": [
    "node_dense = torch.nn.Sequential(nn.Linear(1, 32),\n",
    "                                          nn.ReLU(),\n",
    "                                          nn.Linear(32, 32),\n",
    "                                          nn.ReLU(),\n",
    "                                          nn.Linear(32, 32),\n",
    "                                          nn.ReLU(),\n",
    "                                    )\n",
    "\n",
    "convs = [SAGEConv(256,128) for i in range(3)]\n",
    "rev_convs = [SAGEConv(256,128) for i in range(3)]"
   ]
  },
  {
   "cell_type": "code",
   "execution_count": 26,
   "id": "03f0f48d-d98c-4ea6-9a02-b5c861be7369",
   "metadata": {},
   "outputs": [],
   "source": [
    "from sklearn.metrics import roc_auc_score\n"
   ]
  },
  {
   "cell_type": "code",
   "execution_count": 27,
   "id": "22a414bf-fb4d-4c40-a3c9-fd56c7f4c371",
   "metadata": {},
   "outputs": [
    {
     "data": {
      "text/plain": [
       "dict_keys(['node_feat', 'edge_index', 'id', 'sp_feats', 'targets'])"
      ]
     },
     "execution_count": 27,
     "metadata": {},
     "output_type": "execute_result"
    }
   ],
   "source": [
    "f.keys()"
   ]
  },
  {
   "cell_type": "code",
   "execution_count": 21,
   "id": "0243101e-943e-4eb6-8f4c-9706e5f19dab",
   "metadata": {},
   "outputs": [],
   "source": [
    "\n",
    "def rmse_loss(y_pred, target):\n",
    "    loss =  (y_pred - target).abs() * (y_pred - target).abs() \n",
    "    return loss.mean()**0.5\n",
    "\n",
    "\n",
    "class OAG_GNN_Prediction_Model(pytl.LightningModule):\n",
    "    def __init__(\n",
    "        self,\n",
    "        used_feat,\n",
    "        dropout=0.5,\n",
    "        lr=3e-4,\n",
    "        \n",
    "    ):\n",
    "        super().__init__()\n",
    "\n",
    "        self.save_hyperparameters()\n",
    "        self.lr = lr\n",
    "        self.dropout = dropout\n",
    "        \n",
    "        self.convs =  nn.ModuleList([SAGEConv(16+16,8),SAGEConv(16+16,8),SAGEConv(16+16,8)])\n",
    "        self.rev_convs =  nn.ModuleList([SAGEConv(16+16,8),SAGEConv(16+16,8),SAGEConv(16+16,8)])\n",
    "       \n",
    "\n",
    "        self.node_dense = torch.nn.Sequential(nn.Linear(372, 256),\n",
    "                                          nn.LeakyReLU(),\n",
    "                                          nn.Linear(256, 64),\n",
    "                                          nn.LeakyReLU(),\n",
    "                                          nn.Linear(64, 16),\n",
    "                                          nn.LeakyReLU(),\n",
    "                                    )\n",
    "        \n",
    "        self.node_dense_2 = torch.nn.Sequential(nn.Linear(6, 16),\n",
    "                                          nn.LeakyReLU(),\n",
    "                                          nn.Linear(16, 16),\n",
    "                                          nn.LeakyReLU(),\n",
    "\n",
    "                                    )\n",
    "        \n",
    "        self.MLP = nn.Sequential(\n",
    "                            nn.Linear(16+16  ,32 )\n",
    "                            ,nn.LeakyReLU()\n",
    "                            ,nn.Linear(32  ,32 )\n",
    "                            ,nn.LeakyReLU()\n",
    "                            ,nn.Linear(32,1)\n",
    "                            ,nn.Sigmoid()\n",
    "                            )\n",
    "        \n",
    "        self.loss_function = nn.SmoothL1Loss(reduction='mean') \n",
    "\n",
    "    def forward(self, inputs):\n",
    "        \n",
    "        edge_index = inputs['edge_index'][0]\n",
    "        rev_edge_index = torch.flip(inputs['edge_index'][0], (0,))\n",
    "\n",
    "\n",
    "        X1 = self.node_dense(inputs['node_feat'])\n",
    "        X2 = self.node_dense_2(inputs['sp_feats'])\n",
    "        \n",
    "        \n",
    "        X = torch.cat([X1,X2],dim = -1)\n",
    "\n",
    "        \n",
    "        \n",
    "        \n",
    "        for i in range(1):\n",
    "            X = torch.cat(\n",
    "                [\n",
    "                    X2,\n",
    "                    self.convs[i](X, edge_index),\n",
    "                    self.rev_convs[i](X, rev_edge_index),\n",
    "                ],\n",
    "                dim=-1,\n",
    "            )\n",
    "            X = nn.LeakyReLU()(X)\n",
    "        \n",
    "        \n",
    "        X = self.MLP(X)\n",
    "        return X[0]\n",
    "\n",
    "    def training_step(self, batch, batch_idx):\n",
    "        trg_out = batch['targets']\n",
    "        y_hat = self(batch)\n",
    "\n",
    "        y_hat_ = y_hat.view(-1)\n",
    "        y = trg_out.view(-1)\n",
    "        #print(y_hat,y.float())\n",
    "        #print(y_hat_.shape,y.shape)\n",
    "\n",
    "        loss = nn.BCELoss()(y_hat_,y.float())\n",
    "        #loss  = nn.CrossEntropyLoss()(y_hat_,y.float())\n",
    "        self.log(\"train_loss\", loss)\n",
    "\n",
    "        return loss\n",
    "\n",
    "    def validation_step(self, batch, batch_idx):\n",
    "        trg_out = batch['targets']\n",
    "        y_hat = self(batch)\n",
    "\n",
    "        y_hat_ = y_hat.view(-1)\n",
    "        y = trg_out.view(-1)\n",
    "        #print(y_hat_.shape,y.shape)\n",
    "        loss = nn.BCELoss()(y_hat_, y.float())\n",
    "        #loss  = nn.CrossEntropyLoss()(y_hat_,y.float())\n",
    "\n",
    "\n",
    "\n",
    "        \n",
    "        self.log(\"valid_loss\", loss)\n",
    "        \n",
    "        return {'val_loss': loss, 'logits': y_hat_,'targets':y}   \n",
    "\n",
    "    def validation_epoch_end(self,batch):\n",
    "        avg_loss = torch.stack([x['val_loss'] for x in batch]).mean()\n",
    "        avg_score = np.mean([roc_auc_score(x['targets'].cpu().detach().numpy(),x['logits'].cpu().detach().numpy(),) for x in batch])\n",
    "\n",
    "        \n",
    "        print(f'epoch {trainer.current_epoch} validation loss {avg_loss}')\n",
    "        print(f'epoch {trainer.current_epoch} validation score {avg_score}')\n",
    "        \n",
    "        return {'val_loss': avg_loss,'val_mcrmse':avg_score}\n",
    "    \n",
    "    \n",
    "    \n",
    "    def test_step(self, batch, batch_idx):\n",
    "        trg_out = batch['targets']\n",
    "        y_hat = self(batch)\n",
    "\n",
    "        y_hat_ = y_hat.view(-1)\n",
    "        y = trg_out.view(-1)\n",
    "        loss =nn.BCELoss()(y_hat_, y.float())\n",
    "        #loss  = nn.CrossEntropyLoss()(y_hat_,y.float())\n",
    "        \n",
    "        self.log(\"test_loss\", loss)\n",
    "        \n",
    "        return y_hat\n",
    "\n",
    "\n",
    "\n",
    "    def configure_optimizers(self):\n",
    "        #optimizer = torch.optim.AdamW(self.parameters(), lr=self.lr)\n",
    "        optimizer = torch.optim.AdamW(self.parameters(), lr=self.lr)\n",
    "        #scheduler = torch.optim.lr_scheduler.ReduceLROnPlateau(\n",
    "        #    optimizer, patience=2, factor=0.5\n",
    "        #)\n",
    "        scheduler = get_cosine_schedule_with_warmup(\n",
    "            optimizer, num_training_steps=10000, num_warmup_steps= 0,\n",
    "        )\n",
    "        return [optimizer], [{\"scheduler\": scheduler, \"interval\": \"step\"}]\n",
    "    \n",
    "    \"\"\"\n",
    "    def configure_optimizers(self):\n",
    "        optimizer = optim.AdamW(self.parameters(), lr=self.cfg.optimizer.lr)\n",
    "        scheduler = get_cosine_schedule_with_warmup(\n",
    "            optimizer, num_training_steps=self.trainer.max_steps, **self.cfg.scheduler\n",
    "        )\n",
    "        return [optimizer], [{\"scheduler\": scheduler, \"interval\": \"step\"}]\n",
    "    \"\"\""
   ]
  },
  {
   "cell_type": "code",
   "execution_count": 22,
   "id": "247258f0-1683-428d-82f1-614687f61001",
   "metadata": {
    "scrolled": true,
    "tags": []
   },
   "outputs": [
    {
     "data": {
      "text/plain": [
       "'\\ndef rmse_loss(y_pred, target):\\n    loss =  (y_pred - target).abs() * (y_pred - target).abs() \\n    return loss.mean()**0.5\\n\\n\\nclass OAG_GNN_Prediction_Model(pytl.LightningModule):\\n    def __init__(\\n        self,\\n        used_feat,\\n        dropout=0.5,\\n        lr=4e-5,\\n        \\n    ):\\n        super().__init__()\\n\\n        self.save_hyperparameters()\\n        self.lr = lr\\n        self.dropout = dropout\\n        \\n        self.convs =  nn.ModuleList([SAGEConv(256+1,128),SAGEConv(256+1,128),SAGEConv(256+1,128)])\\n        self.rev_convs =  nn.ModuleList([SAGEConv(256+1,128),SAGEConv(256+1,128),SAGEConv(256+1,128)])\\n        \\n\\n        self.node_dense = torch.nn.Sequential(nn.Linear(320+1, 1024),\\n                                          nn.GELU(),\\n                                          nn.Linear(1024, 1024),\\n                                          nn.GELU(),\\n                                          nn.Linear(1024, 256),\\n                                          nn.GELU(),\\n                                    )\\n        \\n        self.MLP = nn.Sequential(\\n                            nn.Linear(256+1  ,512 )\\n                            ,nn.GELU()\\n                            ,nn.Linear(512  ,64 )\\n                            ,nn.GELU()\\n                            ,nn.Linear(64,1)\\n                            ,nn.Sigmoid()\\n                            )\\n        \\n        self.loss_function = nn.SmoothL1Loss(reduction=\\'mean\\') \\n\\n    def forward(self, inputs):\\n        \\n        edge_index = inputs[\\'edge_index\\'][0]\\n        rev_edge_index = torch.flip(inputs[\\'edge_index\\'][0], (0,))\\n\\n        X = torch.cat([inputs[\\'node_feat\\'],inputs[\\'sp_feats\\']],dim = -1)\\n        X = self.node_dense(X)\\n        X = torch.cat([X,inputs[\\'sp_feats\\']],dim = -1)\\n\\n        \\n        \\n        \\n        for i in range(3):\\n            X = torch.cat(\\n                [\\n                    inputs[\\'sp_feats\\'],\\n                    self.convs[i](X, edge_index),\\n                    self.rev_convs[i](X, rev_edge_index),\\n                ],\\n                dim=-1,\\n            )\\n        \\n        \\n        X = self.MLP(X)\\n        return X[0]\\n\\n    def training_step(self, batch, batch_idx):\\n        trg_out = batch[\\'targets\\']\\n        y_hat = self(batch)\\n\\n        y_hat_ = y_hat.view(-1)\\n        y = trg_out.view(-1)\\n        #print(y_hat,y.float())\\n        #print(y_hat_.shape,y.shape)\\n\\n        loss = nn.BCELoss()(y_hat_,y.float())\\n        #loss  = nn.CrossEntropyLoss()(y_hat_,y.float())\\n        self.log(\"train_loss\", loss)\\n\\n        return loss\\n\\n    def validation_step(self, batch, batch_idx):\\n        trg_out = batch[\\'targets\\']\\n        y_hat = self(batch)\\n\\n        y_hat_ = y_hat.view(-1)\\n        y = trg_out.view(-1)\\n        #print(y_hat_.shape,y.shape)\\n        loss = nn.BCELoss()(y_hat_, y.float())\\n        #loss  = nn.CrossEntropyLoss()(y_hat_,y.float())\\n\\n\\n\\n        \\n        self.log(\"valid_loss\", loss)\\n        \\n        return {\\'val_loss\\': loss, \\'logits\\': y_hat_,\\'targets\\':y}   \\n\\n    def validation_epoch_end(self,batch):\\n        avg_loss = torch.stack([x[\\'val_loss\\'] for x in batch]).mean()\\n        avg_score = np.mean([roc_auc_score(x[\\'targets\\'].cpu().detach().numpy(),x[\\'logits\\'].cpu().detach().numpy(),) for x in batch])\\n\\n        \\n        print(f\\'epoch {trainer.current_epoch} validation loss {avg_loss}\\')\\n        print(f\\'epoch {trainer.current_epoch} validation score {avg_score}\\')\\n        \\n        return {\\'val_loss\\': avg_loss,\\'val_mcrmse\\':avg_score}\\n    \\n    \\n    \\n    def test_step(self, batch, batch_idx):\\n        trg_out = batch[\\'targets\\']\\n        y_hat = self(batch)\\n\\n        y_hat_ = y_hat.view(-1)\\n        y = trg_out.view(-1)\\n        loss =nn.BCELoss()(y_hat_, y.float())\\n        #loss  = nn.CrossEntropyLoss()(y_hat_,y.float())\\n        \\n        self.log(\"test_loss\", loss)\\n        \\n        return y_hat\\n\\n\\n\\n    def configure_optimizers(self):\\n        #optimizer = torch.optim.AdamW(self.parameters(), lr=self.lr)\\n        optimizer = torch.optim.AdamW(self.parameters(), lr=self.lr)\\n        #scheduler = torch.optim.lr_scheduler.ReduceLROnPlateau(\\n        #    optimizer, patience=2, factor=0.5\\n        #)\\n        scheduler = get_cosine_schedule_with_warmup(\\n            optimizer, num_training_steps=10000, num_warmup_steps= 0,\\n        )\\n        return [optimizer], [{\"scheduler\": scheduler, \"interval\": \"step\"}]\\n    \\n    '"
      ]
     },
     "execution_count": 22,
     "metadata": {},
     "output_type": "execute_result"
    }
   ],
   "source": [
    "\"\"\"\n",
    "def rmse_loss(y_pred, target):\n",
    "    loss =  (y_pred - target).abs() * (y_pred - target).abs() \n",
    "    return loss.mean()**0.5\n",
    "\n",
    "\n",
    "class OAG_GNN_Prediction_Model(pytl.LightningModule):\n",
    "    def __init__(\n",
    "        self,\n",
    "        used_feat,\n",
    "        dropout=0.5,\n",
    "        lr=4e-5,\n",
    "        \n",
    "    ):\n",
    "        super().__init__()\n",
    "\n",
    "        self.save_hyperparameters()\n",
    "        self.lr = lr\n",
    "        self.dropout = dropout\n",
    "        \n",
    "        self.convs =  nn.ModuleList([SAGEConv(256+1,128),SAGEConv(256+1,128),SAGEConv(256+1,128)])\n",
    "        self.rev_convs =  nn.ModuleList([SAGEConv(256+1,128),SAGEConv(256+1,128),SAGEConv(256+1,128)])\n",
    "        \n",
    "\n",
    "        self.node_dense = torch.nn.Sequential(nn.Linear(320+1, 1024),\n",
    "                                          nn.GELU(),\n",
    "                                          nn.Linear(1024, 1024),\n",
    "                                          nn.GELU(),\n",
    "                                          nn.Linear(1024, 256),\n",
    "                                          nn.GELU(),\n",
    "                                    )\n",
    "        \n",
    "        self.MLP = nn.Sequential(\n",
    "                            nn.Linear(256+1  ,512 )\n",
    "                            ,nn.GELU()\n",
    "                            ,nn.Linear(512  ,64 )\n",
    "                            ,nn.GELU()\n",
    "                            ,nn.Linear(64,1)\n",
    "                            ,nn.Sigmoid()\n",
    "                            )\n",
    "        \n",
    "        self.loss_function = nn.SmoothL1Loss(reduction='mean') \n",
    "\n",
    "    def forward(self, inputs):\n",
    "        \n",
    "        edge_index = inputs['edge_index'][0]\n",
    "        rev_edge_index = torch.flip(inputs['edge_index'][0], (0,))\n",
    "\n",
    "        X = torch.cat([inputs['node_feat'],inputs['sp_feats']],dim = -1)\n",
    "        X = self.node_dense(X)\n",
    "        X = torch.cat([X,inputs['sp_feats']],dim = -1)\n",
    "\n",
    "        \n",
    "        \n",
    "        \n",
    "        for i in range(3):\n",
    "            X = torch.cat(\n",
    "                [\n",
    "                    inputs['sp_feats'],\n",
    "                    self.convs[i](X, edge_index),\n",
    "                    self.rev_convs[i](X, rev_edge_index),\n",
    "                ],\n",
    "                dim=-1,\n",
    "            )\n",
    "        \n",
    "        \n",
    "        X = self.MLP(X)\n",
    "        return X[0]\n",
    "\n",
    "    def training_step(self, batch, batch_idx):\n",
    "        trg_out = batch['targets']\n",
    "        y_hat = self(batch)\n",
    "\n",
    "        y_hat_ = y_hat.view(-1)\n",
    "        y = trg_out.view(-1)\n",
    "        #print(y_hat,y.float())\n",
    "        #print(y_hat_.shape,y.shape)\n",
    "\n",
    "        loss = nn.BCELoss()(y_hat_,y.float())\n",
    "        #loss  = nn.CrossEntropyLoss()(y_hat_,y.float())\n",
    "        self.log(\"train_loss\", loss)\n",
    "\n",
    "        return loss\n",
    "\n",
    "    def validation_step(self, batch, batch_idx):\n",
    "        trg_out = batch['targets']\n",
    "        y_hat = self(batch)\n",
    "\n",
    "        y_hat_ = y_hat.view(-1)\n",
    "        y = trg_out.view(-1)\n",
    "        #print(y_hat_.shape,y.shape)\n",
    "        loss = nn.BCELoss()(y_hat_, y.float())\n",
    "        #loss  = nn.CrossEntropyLoss()(y_hat_,y.float())\n",
    "\n",
    "\n",
    "\n",
    "        \n",
    "        self.log(\"valid_loss\", loss)\n",
    "        \n",
    "        return {'val_loss': loss, 'logits': y_hat_,'targets':y}   \n",
    "\n",
    "    def validation_epoch_end(self,batch):\n",
    "        avg_loss = torch.stack([x['val_loss'] for x in batch]).mean()\n",
    "        avg_score = np.mean([roc_auc_score(x['targets'].cpu().detach().numpy(),x['logits'].cpu().detach().numpy(),) for x in batch])\n",
    "\n",
    "        \n",
    "        print(f'epoch {trainer.current_epoch} validation loss {avg_loss}')\n",
    "        print(f'epoch {trainer.current_epoch} validation score {avg_score}')\n",
    "        \n",
    "        return {'val_loss': avg_loss,'val_mcrmse':avg_score}\n",
    "    \n",
    "    \n",
    "    \n",
    "    def test_step(self, batch, batch_idx):\n",
    "        trg_out = batch['targets']\n",
    "        y_hat = self(batch)\n",
    "\n",
    "        y_hat_ = y_hat.view(-1)\n",
    "        y = trg_out.view(-1)\n",
    "        loss =nn.BCELoss()(y_hat_, y.float())\n",
    "        #loss  = nn.CrossEntropyLoss()(y_hat_,y.float())\n",
    "        \n",
    "        self.log(\"test_loss\", loss)\n",
    "        \n",
    "        return y_hat\n",
    "\n",
    "\n",
    "\n",
    "    def configure_optimizers(self):\n",
    "        #optimizer = torch.optim.AdamW(self.parameters(), lr=self.lr)\n",
    "        optimizer = torch.optim.AdamW(self.parameters(), lr=self.lr)\n",
    "        #scheduler = torch.optim.lr_scheduler.ReduceLROnPlateau(\n",
    "        #    optimizer, patience=2, factor=0.5\n",
    "        #)\n",
    "        scheduler = get_cosine_schedule_with_warmup(\n",
    "            optimizer, num_training_steps=10000, num_warmup_steps= 0,\n",
    "        )\n",
    "        return [optimizer], [{\"scheduler\": scheduler, \"interval\": \"step\"}]\n",
    "    \n",
    "    \"\"\"\n",
    "\n"
   ]
  },
  {
   "cell_type": "code",
   "execution_count": 23,
   "id": "4bb80e8d-0424-4ca0-8ba7-79fbb977adb6",
   "metadata": {},
   "outputs": [],
   "source": [
    "from pytorch_lightning import Trainer, seed_everything\n",
    "from pytorch_lightning.callbacks import (\n",
    "    LearningRateMonitor,\n",
    "    ModelCheckpoint,\n",
    "    RichModelSummary,\n",
    "    RichProgressBar,\n",
    "    StochasticWeightAveraging,\n",
    "    EarlyStopping,\n",
    ")\n",
    "from pytorch_lightning.loggers import WandbLogger\n",
    "from transformers import get_cosine_schedule_with_warmup\n"
   ]
  },
  {
   "cell_type": "code",
   "execution_count": 24,
   "id": "26fad785-c744-4c7b-99b4-3fb1d6b14657",
   "metadata": {},
   "outputs": [
    {
     "data": {
      "text/plain": [
       "123"
      ]
     },
     "execution_count": 24,
     "metadata": {},
     "output_type": "execute_result"
    }
   ],
   "source": [
    "123"
   ]
  },
  {
   "cell_type": "code",
   "execution_count": 25,
   "id": "b5dac28b-bb1f-4312-b2d0-a12d54db4e00",
   "metadata": {
    "scrolled": true,
    "tags": []
   },
   "outputs": [
    {
     "name": "stderr",
     "output_type": "stream",
     "text": [
      "Global seed set to 42\n",
      "Trainer already configured with model summary callbacks: [<class 'pytorch_lightning.callbacks.rich_model_summary.RichModelSummary'>]. Skipping setting a default `ModelSummary` callback.\n",
      "GPU available: True, used: True\n",
      "TPU available: False, using: 0 TPU cores\n",
      "IPU available: False, using: 0 IPUs\n",
      "HPU available: False, using: 0 HPUs\n",
      "LOCAL_RANK: 0 - CUDA_VISIBLE_DEVICES: [0]\n"
     ]
    },
    {
     "data": {
      "text/html": [
       "<pre style=\"white-space:pre;overflow-x:auto;line-height:normal;font-family:Menlo,'DejaVu Sans Mono',consolas,'Courier New',monospace\">┏━━━━┳━━━━━━━━━━━━━━━━┳━━━━━━━━━━━━━━┳━━━━━━━━┓\n",
       "┃<span style=\"color: #800080; text-decoration-color: #800080; font-weight: bold\">    </span>┃<span style=\"color: #800080; text-decoration-color: #800080; font-weight: bold\"> Name           </span>┃<span style=\"color: #800080; text-decoration-color: #800080; font-weight: bold\"> Type         </span>┃<span style=\"color: #800080; text-decoration-color: #800080; font-weight: bold\"> Params </span>┃\n",
       "┡━━━━╇━━━━━━━━━━━━━━━━╇━━━━━━━━━━━━━━╇━━━━━━━━┩\n",
       "│<span style=\"color: #7f7f7f; text-decoration-color: #7f7f7f\"> 0  </span>│ convs          │ ModuleList   │  1.6 K │\n",
       "│<span style=\"color: #7f7f7f; text-decoration-color: #7f7f7f\"> 1  </span>│ convs.0        │ SAGEConv     │    520 │\n",
       "│<span style=\"color: #7f7f7f; text-decoration-color: #7f7f7f\"> 2  </span>│ convs.1        │ SAGEConv     │    520 │\n",
       "│<span style=\"color: #7f7f7f; text-decoration-color: #7f7f7f\"> 3  </span>│ convs.2        │ SAGEConv     │    520 │\n",
       "│<span style=\"color: #7f7f7f; text-decoration-color: #7f7f7f\"> 4  </span>│ rev_convs      │ ModuleList   │  1.6 K │\n",
       "│<span style=\"color: #7f7f7f; text-decoration-color: #7f7f7f\"> 5  </span>│ rev_convs.0    │ SAGEConv     │    520 │\n",
       "│<span style=\"color: #7f7f7f; text-decoration-color: #7f7f7f\"> 6  </span>│ rev_convs.1    │ SAGEConv     │    520 │\n",
       "│<span style=\"color: #7f7f7f; text-decoration-color: #7f7f7f\"> 7  </span>│ rev_convs.2    │ SAGEConv     │    520 │\n",
       "│<span style=\"color: #7f7f7f; text-decoration-color: #7f7f7f\"> 8  </span>│ node_dense     │ Sequential   │  112 K │\n",
       "│<span style=\"color: #7f7f7f; text-decoration-color: #7f7f7f\"> 9  </span>│ node_dense.0   │ Linear       │ 95.5 K │\n",
       "│<span style=\"color: #7f7f7f; text-decoration-color: #7f7f7f\"> 10 </span>│ node_dense.1   │ LeakyReLU    │      0 │\n",
       "│<span style=\"color: #7f7f7f; text-decoration-color: #7f7f7f\"> 11 </span>│ node_dense.2   │ Linear       │ 16.4 K │\n",
       "│<span style=\"color: #7f7f7f; text-decoration-color: #7f7f7f\"> 12 </span>│ node_dense.3   │ LeakyReLU    │      0 │\n",
       "│<span style=\"color: #7f7f7f; text-decoration-color: #7f7f7f\"> 13 </span>│ node_dense.4   │ Linear       │  1.0 K │\n",
       "│<span style=\"color: #7f7f7f; text-decoration-color: #7f7f7f\"> 14 </span>│ node_dense.5   │ LeakyReLU    │      0 │\n",
       "│<span style=\"color: #7f7f7f; text-decoration-color: #7f7f7f\"> 15 </span>│ node_dense_2   │ Sequential   │    384 │\n",
       "│<span style=\"color: #7f7f7f; text-decoration-color: #7f7f7f\"> 16 </span>│ node_dense_2.0 │ Linear       │    112 │\n",
       "│<span style=\"color: #7f7f7f; text-decoration-color: #7f7f7f\"> 17 </span>│ node_dense_2.1 │ LeakyReLU    │      0 │\n",
       "│<span style=\"color: #7f7f7f; text-decoration-color: #7f7f7f\"> 18 </span>│ node_dense_2.2 │ Linear       │    272 │\n",
       "│<span style=\"color: #7f7f7f; text-decoration-color: #7f7f7f\"> 19 </span>│ node_dense_2.3 │ LeakyReLU    │      0 │\n",
       "│<span style=\"color: #7f7f7f; text-decoration-color: #7f7f7f\"> 20 </span>│ MLP            │ Sequential   │  2.1 K │\n",
       "│<span style=\"color: #7f7f7f; text-decoration-color: #7f7f7f\"> 21 </span>│ MLP.0          │ Linear       │  1.1 K │\n",
       "│<span style=\"color: #7f7f7f; text-decoration-color: #7f7f7f\"> 22 </span>│ MLP.1          │ LeakyReLU    │      0 │\n",
       "│<span style=\"color: #7f7f7f; text-decoration-color: #7f7f7f\"> 23 </span>│ MLP.2          │ Linear       │  1.1 K │\n",
       "│<span style=\"color: #7f7f7f; text-decoration-color: #7f7f7f\"> 24 </span>│ MLP.3          │ LeakyReLU    │      0 │\n",
       "│<span style=\"color: #7f7f7f; text-decoration-color: #7f7f7f\"> 25 </span>│ MLP.4          │ Linear       │     33 │\n",
       "│<span style=\"color: #7f7f7f; text-decoration-color: #7f7f7f\"> 26 </span>│ MLP.5          │ Sigmoid      │      0 │\n",
       "│<span style=\"color: #7f7f7f; text-decoration-color: #7f7f7f\"> 27 </span>│ loss_function  │ SmoothL1Loss │      0 │\n",
       "└────┴────────────────┴──────────────┴────────┘\n",
       "</pre>\n"
      ],
      "text/plain": [
       "┏━━━━┳━━━━━━━━━━━━━━━━┳━━━━━━━━━━━━━━┳━━━━━━━━┓\n",
       "┃\u001b[1;35m \u001b[0m\u001b[1;35m  \u001b[0m\u001b[1;35m \u001b[0m┃\u001b[1;35m \u001b[0m\u001b[1;35mName          \u001b[0m\u001b[1;35m \u001b[0m┃\u001b[1;35m \u001b[0m\u001b[1;35mType        \u001b[0m\u001b[1;35m \u001b[0m┃\u001b[1;35m \u001b[0m\u001b[1;35mParams\u001b[0m\u001b[1;35m \u001b[0m┃\n",
       "┡━━━━╇━━━━━━━━━━━━━━━━╇━━━━━━━━━━━━━━╇━━━━━━━━┩\n",
       "│\u001b[2m \u001b[0m\u001b[2m0 \u001b[0m\u001b[2m \u001b[0m│ convs          │ ModuleList   │  1.6 K │\n",
       "│\u001b[2m \u001b[0m\u001b[2m1 \u001b[0m\u001b[2m \u001b[0m│ convs.0        │ SAGEConv     │    520 │\n",
       "│\u001b[2m \u001b[0m\u001b[2m2 \u001b[0m\u001b[2m \u001b[0m│ convs.1        │ SAGEConv     │    520 │\n",
       "│\u001b[2m \u001b[0m\u001b[2m3 \u001b[0m\u001b[2m \u001b[0m│ convs.2        │ SAGEConv     │    520 │\n",
       "│\u001b[2m \u001b[0m\u001b[2m4 \u001b[0m\u001b[2m \u001b[0m│ rev_convs      │ ModuleList   │  1.6 K │\n",
       "│\u001b[2m \u001b[0m\u001b[2m5 \u001b[0m\u001b[2m \u001b[0m│ rev_convs.0    │ SAGEConv     │    520 │\n",
       "│\u001b[2m \u001b[0m\u001b[2m6 \u001b[0m\u001b[2m \u001b[0m│ rev_convs.1    │ SAGEConv     │    520 │\n",
       "│\u001b[2m \u001b[0m\u001b[2m7 \u001b[0m\u001b[2m \u001b[0m│ rev_convs.2    │ SAGEConv     │    520 │\n",
       "│\u001b[2m \u001b[0m\u001b[2m8 \u001b[0m\u001b[2m \u001b[0m│ node_dense     │ Sequential   │  112 K │\n",
       "│\u001b[2m \u001b[0m\u001b[2m9 \u001b[0m\u001b[2m \u001b[0m│ node_dense.0   │ Linear       │ 95.5 K │\n",
       "│\u001b[2m \u001b[0m\u001b[2m10\u001b[0m\u001b[2m \u001b[0m│ node_dense.1   │ LeakyReLU    │      0 │\n",
       "│\u001b[2m \u001b[0m\u001b[2m11\u001b[0m\u001b[2m \u001b[0m│ node_dense.2   │ Linear       │ 16.4 K │\n",
       "│\u001b[2m \u001b[0m\u001b[2m12\u001b[0m\u001b[2m \u001b[0m│ node_dense.3   │ LeakyReLU    │      0 │\n",
       "│\u001b[2m \u001b[0m\u001b[2m13\u001b[0m\u001b[2m \u001b[0m│ node_dense.4   │ Linear       │  1.0 K │\n",
       "│\u001b[2m \u001b[0m\u001b[2m14\u001b[0m\u001b[2m \u001b[0m│ node_dense.5   │ LeakyReLU    │      0 │\n",
       "│\u001b[2m \u001b[0m\u001b[2m15\u001b[0m\u001b[2m \u001b[0m│ node_dense_2   │ Sequential   │    384 │\n",
       "│\u001b[2m \u001b[0m\u001b[2m16\u001b[0m\u001b[2m \u001b[0m│ node_dense_2.0 │ Linear       │    112 │\n",
       "│\u001b[2m \u001b[0m\u001b[2m17\u001b[0m\u001b[2m \u001b[0m│ node_dense_2.1 │ LeakyReLU    │      0 │\n",
       "│\u001b[2m \u001b[0m\u001b[2m18\u001b[0m\u001b[2m \u001b[0m│ node_dense_2.2 │ Linear       │    272 │\n",
       "│\u001b[2m \u001b[0m\u001b[2m19\u001b[0m\u001b[2m \u001b[0m│ node_dense_2.3 │ LeakyReLU    │      0 │\n",
       "│\u001b[2m \u001b[0m\u001b[2m20\u001b[0m\u001b[2m \u001b[0m│ MLP            │ Sequential   │  2.1 K │\n",
       "│\u001b[2m \u001b[0m\u001b[2m21\u001b[0m\u001b[2m \u001b[0m│ MLP.0          │ Linear       │  1.1 K │\n",
       "│\u001b[2m \u001b[0m\u001b[2m22\u001b[0m\u001b[2m \u001b[0m│ MLP.1          │ LeakyReLU    │      0 │\n",
       "│\u001b[2m \u001b[0m\u001b[2m23\u001b[0m\u001b[2m \u001b[0m│ MLP.2          │ Linear       │  1.1 K │\n",
       "│\u001b[2m \u001b[0m\u001b[2m24\u001b[0m\u001b[2m \u001b[0m│ MLP.3          │ LeakyReLU    │      0 │\n",
       "│\u001b[2m \u001b[0m\u001b[2m25\u001b[0m\u001b[2m \u001b[0m│ MLP.4          │ Linear       │     33 │\n",
       "│\u001b[2m \u001b[0m\u001b[2m26\u001b[0m\u001b[2m \u001b[0m│ MLP.5          │ Sigmoid      │      0 │\n",
       "│\u001b[2m \u001b[0m\u001b[2m27\u001b[0m\u001b[2m \u001b[0m│ loss_function  │ SmoothL1Loss │      0 │\n",
       "└────┴────────────────┴──────────────┴────────┘\n"
      ]
     },
     "metadata": {},
     "output_type": "display_data"
    },
    {
     "data": {
      "text/html": [
       "<pre style=\"white-space:pre;overflow-x:auto;line-height:normal;font-family:Menlo,'DejaVu Sans Mono',consolas,'Courier New',monospace\"><span style=\"font-weight: bold\">Trainable params</span>: 118 K                                                                                            \n",
       "<span style=\"font-weight: bold\">Non-trainable params</span>: 0                                                                                            \n",
       "<span style=\"font-weight: bold\">Total params</span>: 118 K                                                                                                \n",
       "<span style=\"font-weight: bold\">Total estimated model params size (MB)</span>: 0                                                                          \n",
       "</pre>\n"
      ],
      "text/plain": [
       "\u001b[1mTrainable params\u001b[0m: 118 K                                                                                            \n",
       "\u001b[1mNon-trainable params\u001b[0m: 0                                                                                            \n",
       "\u001b[1mTotal params\u001b[0m: 118 K                                                                                                \n",
       "\u001b[1mTotal estimated model params size (MB)\u001b[0m: 0                                                                          \n"
      ]
     },
     "metadata": {},
     "output_type": "display_data"
    },
    {
     "data": {
      "application/vnd.jupyter.widget-view+json": {
       "model_id": "7dc8446226de4da49d786f7cd5019a86",
       "version_major": 2,
       "version_minor": 0
      },
      "text/plain": [
       "Output()"
      ]
     },
     "metadata": {},
     "output_type": "display_data"
    },
    {
     "data": {
      "text/html": [
       "<pre style=\"white-space:pre;overflow-x:auto;line-height:normal;font-family:Menlo,'DejaVu Sans Mono',consolas,'Courier New',monospace\">epoch 0 validation loss 0.6549386978149414\n",
       "</pre>\n"
      ],
      "text/plain": [
       "epoch 0 validation loss 0.6549386978149414\n"
      ]
     },
     "metadata": {},
     "output_type": "display_data"
    },
    {
     "data": {
      "text/html": [
       "<pre style=\"white-space:pre;overflow-x:auto;line-height:normal;font-family:Menlo,'DejaVu Sans Mono',consolas,'Courier New',monospace\">epoch 0 validation score 0.441049155431833\n",
       "</pre>\n"
      ],
      "text/plain": [
       "epoch 0 validation score 0.441049155431833\n"
      ]
     },
     "metadata": {},
     "output_type": "display_data"
    },
    {
     "data": {
      "text/html": [
       "<pre style=\"white-space:pre;overflow-x:auto;line-height:normal;font-family:Menlo,'DejaVu Sans Mono',consolas,'Courier New',monospace\">epoch 0 validation loss 0.434073269367218\n",
       "</pre>\n"
      ],
      "text/plain": [
       "epoch 0 validation loss 0.434073269367218\n"
      ]
     },
     "metadata": {},
     "output_type": "display_data"
    },
    {
     "data": {
      "text/html": [
       "<pre style=\"white-space:pre;overflow-x:auto;line-height:normal;font-family:Menlo,'DejaVu Sans Mono',consolas,'Courier New',monospace\">epoch 0 validation score 0.8177050736029171\n",
       "</pre>\n"
      ],
      "text/plain": [
       "epoch 0 validation score 0.8177050736029171\n"
      ]
     },
     "metadata": {},
     "output_type": "display_data"
    },
    {
     "name": "stderr",
     "output_type": "stream",
     "text": [
      "Metric valid_loss improved. New best score: 0.434\n",
      "Epoch 0, global step 623: 'valid_loss' reached 0.43407 (best 0.43407), saving model to '/root/autodl-tmp/kddcup_test/lightning_logs/version_33/checkpoints/epoch=0-step=623.ckpt' as top 1\n"
     ]
    },
    {
     "data": {
      "text/html": [
       "<pre style=\"white-space:pre;overflow-x:auto;line-height:normal;font-family:Menlo,'DejaVu Sans Mono',consolas,'Courier New',monospace\">epoch 1 validation loss 0.41599974036216736\n",
       "</pre>\n"
      ],
      "text/plain": [
       "epoch 1 validation loss 0.41599974036216736\n"
      ]
     },
     "metadata": {},
     "output_type": "display_data"
    },
    {
     "data": {
      "text/html": [
       "<pre style=\"white-space:pre;overflow-x:auto;line-height:normal;font-family:Menlo,'DejaVu Sans Mono',consolas,'Courier New',monospace\">epoch 1 validation score 0.8306548399196083\n",
       "</pre>\n"
      ],
      "text/plain": [
       "epoch 1 validation score 0.8306548399196083\n"
      ]
     },
     "metadata": {},
     "output_type": "display_data"
    },
    {
     "name": "stderr",
     "output_type": "stream",
     "text": [
      "Metric valid_loss improved by 0.018 >= min_delta = 0.0. New best score: 0.416\n",
      "Epoch 1, global step 1246: 'valid_loss' reached 0.41600 (best 0.41600), saving model to '/root/autodl-tmp/kddcup_test/lightning_logs/version_33/checkpoints/epoch=1-step=1246.ckpt' as top 1\n"
     ]
    },
    {
     "data": {
      "text/html": [
       "<pre style=\"white-space:pre;overflow-x:auto;line-height:normal;font-family:Menlo,'DejaVu Sans Mono',consolas,'Courier New',monospace\">epoch 2 validation loss 0.41418221592903137\n",
       "</pre>\n"
      ],
      "text/plain": [
       "epoch 2 validation loss 0.41418221592903137\n"
      ]
     },
     "metadata": {},
     "output_type": "display_data"
    },
    {
     "data": {
      "text/html": [
       "<pre style=\"white-space:pre;overflow-x:auto;line-height:normal;font-family:Menlo,'DejaVu Sans Mono',consolas,'Courier New',monospace\">epoch 2 validation score 0.8277370595156529\n",
       "</pre>\n"
      ],
      "text/plain": [
       "epoch 2 validation score 0.8277370595156529\n"
      ]
     },
     "metadata": {},
     "output_type": "display_data"
    },
    {
     "name": "stderr",
     "output_type": "stream",
     "text": [
      "Metric valid_loss improved by 0.002 >= min_delta = 0.0. New best score: 0.414\n",
      "Epoch 2, global step 1869: 'valid_loss' reached 0.41418 (best 0.41418), saving model to '/root/autodl-tmp/kddcup_test/lightning_logs/version_33/checkpoints/epoch=2-step=1869.ckpt' as top 1\n"
     ]
    },
    {
     "data": {
      "text/html": [
       "<pre style=\"white-space:pre;overflow-x:auto;line-height:normal;font-family:Menlo,'DejaVu Sans Mono',consolas,'Courier New',monospace\">epoch 3 validation loss 0.41376784443855286\n",
       "</pre>\n"
      ],
      "text/plain": [
       "epoch 3 validation loss 0.41376784443855286\n"
      ]
     },
     "metadata": {},
     "output_type": "display_data"
    },
    {
     "data": {
      "text/html": [
       "<pre style=\"white-space:pre;overflow-x:auto;line-height:normal;font-family:Menlo,'DejaVu Sans Mono',consolas,'Courier New',monospace\">epoch 3 validation score 0.8318972359085901\n",
       "</pre>\n"
      ],
      "text/plain": [
       "epoch 3 validation score 0.8318972359085901\n"
      ]
     },
     "metadata": {},
     "output_type": "display_data"
    },
    {
     "name": "stderr",
     "output_type": "stream",
     "text": [
      "Metric valid_loss improved by 0.000 >= min_delta = 0.0. New best score: 0.414\n",
      "Epoch 3, global step 2492: 'valid_loss' reached 0.41377 (best 0.41377), saving model to '/root/autodl-tmp/kddcup_test/lightning_logs/version_33/checkpoints/epoch=3-step=2492.ckpt' as top 1\n"
     ]
    },
    {
     "data": {
      "text/html": [
       "<pre style=\"white-space:pre;overflow-x:auto;line-height:normal;font-family:Menlo,'DejaVu Sans Mono',consolas,'Courier New',monospace\">epoch 4 validation loss 0.4157198369503021\n",
       "</pre>\n"
      ],
      "text/plain": [
       "epoch 4 validation loss 0.4157198369503021\n"
      ]
     },
     "metadata": {},
     "output_type": "display_data"
    },
    {
     "data": {
      "text/html": [
       "<pre style=\"white-space:pre;overflow-x:auto;line-height:normal;font-family:Menlo,'DejaVu Sans Mono',consolas,'Courier New',monospace\">epoch 4 validation score 0.8314110173564953\n",
       "</pre>\n"
      ],
      "text/plain": [
       "epoch 4 validation score 0.8314110173564953\n"
      ]
     },
     "metadata": {},
     "output_type": "display_data"
    },
    {
     "name": "stderr",
     "output_type": "stream",
     "text": [
      "Epoch 4, global step 3115: 'valid_loss' was not in top 1\n"
     ]
    },
    {
     "data": {
      "text/html": [
       "<pre style=\"white-space:pre;overflow-x:auto;line-height:normal;font-family:Menlo,'DejaVu Sans Mono',consolas,'Courier New',monospace\">epoch 5 validation loss 0.4144635796546936\n",
       "</pre>\n"
      ],
      "text/plain": [
       "epoch 5 validation loss 0.4144635796546936\n"
      ]
     },
     "metadata": {},
     "output_type": "display_data"
    },
    {
     "data": {
      "text/html": [
       "<pre style=\"white-space:pre;overflow-x:auto;line-height:normal;font-family:Menlo,'DejaVu Sans Mono',consolas,'Courier New',monospace\">epoch 5 validation score 0.8290756441048782\n",
       "</pre>\n"
      ],
      "text/plain": [
       "epoch 5 validation score 0.8290756441048782\n"
      ]
     },
     "metadata": {},
     "output_type": "display_data"
    },
    {
     "name": "stderr",
     "output_type": "stream",
     "text": [
      "Epoch 5, global step 3738: 'valid_loss' was not in top 1\n"
     ]
    },
    {
     "data": {
      "text/html": [
       "<pre style=\"white-space:pre;overflow-x:auto;line-height:normal;font-family:Menlo,'DejaVu Sans Mono',consolas,'Courier New',monospace\">epoch 6 validation loss 0.4115675985813141\n",
       "</pre>\n"
      ],
      "text/plain": [
       "epoch 6 validation loss 0.4115675985813141\n"
      ]
     },
     "metadata": {},
     "output_type": "display_data"
    },
    {
     "data": {
      "text/html": [
       "<pre style=\"white-space:pre;overflow-x:auto;line-height:normal;font-family:Menlo,'DejaVu Sans Mono',consolas,'Courier New',monospace\">epoch 6 validation score 0.8310320736064406\n",
       "</pre>\n"
      ],
      "text/plain": [
       "epoch 6 validation score 0.8310320736064406\n"
      ]
     },
     "metadata": {},
     "output_type": "display_data"
    },
    {
     "name": "stderr",
     "output_type": "stream",
     "text": [
      "Metric valid_loss improved by 0.002 >= min_delta = 0.0. New best score: 0.412\n",
      "Epoch 6, global step 4361: 'valid_loss' reached 0.41157 (best 0.41157), saving model to '/root/autodl-tmp/kddcup_test/lightning_logs/version_33/checkpoints/epoch=6-step=4361.ckpt' as top 1\n"
     ]
    },
    {
     "data": {
      "text/html": [
       "<pre style=\"white-space:pre;overflow-x:auto;line-height:normal;font-family:Menlo,'DejaVu Sans Mono',consolas,'Courier New',monospace\">epoch 7 validation loss 0.4101640284061432\n",
       "</pre>\n"
      ],
      "text/plain": [
       "epoch 7 validation loss 0.4101640284061432\n"
      ]
     },
     "metadata": {},
     "output_type": "display_data"
    },
    {
     "data": {
      "text/html": [
       "<pre style=\"white-space:pre;overflow-x:auto;line-height:normal;font-family:Menlo,'DejaVu Sans Mono',consolas,'Courier New',monospace\">epoch 7 validation score 0.8349065179460465\n",
       "</pre>\n"
      ],
      "text/plain": [
       "epoch 7 validation score 0.8349065179460465\n"
      ]
     },
     "metadata": {},
     "output_type": "display_data"
    },
    {
     "name": "stderr",
     "output_type": "stream",
     "text": [
      "Metric valid_loss improved by 0.001 >= min_delta = 0.0. New best score: 0.410\n",
      "Epoch 7, global step 4984: 'valid_loss' reached 0.41016 (best 0.41016), saving model to '/root/autodl-tmp/kddcup_test/lightning_logs/version_33/checkpoints/epoch=7-step=4984.ckpt' as top 1\n"
     ]
    },
    {
     "data": {
      "text/html": [
       "<pre style=\"white-space:pre;overflow-x:auto;line-height:normal;font-family:Menlo,'DejaVu Sans Mono',consolas,'Courier New',monospace\">epoch 8 validation loss 0.4081370532512665\n",
       "</pre>\n"
      ],
      "text/plain": [
       "epoch 8 validation loss 0.4081370532512665\n"
      ]
     },
     "metadata": {},
     "output_type": "display_data"
    },
    {
     "data": {
      "text/html": [
       "<pre style=\"white-space:pre;overflow-x:auto;line-height:normal;font-family:Menlo,'DejaVu Sans Mono',consolas,'Courier New',monospace\">epoch 8 validation score 0.8310452457672517\n",
       "</pre>\n"
      ],
      "text/plain": [
       "epoch 8 validation score 0.8310452457672517\n"
      ]
     },
     "metadata": {},
     "output_type": "display_data"
    },
    {
     "name": "stderr",
     "output_type": "stream",
     "text": [
      "Metric valid_loss improved by 0.002 >= min_delta = 0.0. New best score: 0.408\n",
      "Epoch 8, global step 5607: 'valid_loss' reached 0.40814 (best 0.40814), saving model to '/root/autodl-tmp/kddcup_test/lightning_logs/version_33/checkpoints/epoch=8-step=5607.ckpt' as top 1\n"
     ]
    },
    {
     "data": {
      "text/html": [
       "<pre style=\"white-space:pre;overflow-x:auto;line-height:normal;font-family:Menlo,'DejaVu Sans Mono',consolas,'Courier New',monospace\">epoch 9 validation loss 0.40621647238731384\n",
       "</pre>\n"
      ],
      "text/plain": [
       "epoch 9 validation loss 0.40621647238731384\n"
      ]
     },
     "metadata": {},
     "output_type": "display_data"
    },
    {
     "data": {
      "text/html": [
       "<pre style=\"white-space:pre;overflow-x:auto;line-height:normal;font-family:Menlo,'DejaVu Sans Mono',consolas,'Courier New',monospace\">epoch 9 validation score 0.8335045601209271\n",
       "</pre>\n"
      ],
      "text/plain": [
       "epoch 9 validation score 0.8335045601209271\n"
      ]
     },
     "metadata": {},
     "output_type": "display_data"
    },
    {
     "name": "stderr",
     "output_type": "stream",
     "text": [
      "Metric valid_loss improved by 0.002 >= min_delta = 0.0. New best score: 0.406\n",
      "Epoch 9, global step 6230: 'valid_loss' reached 0.40622 (best 0.40622), saving model to '/root/autodl-tmp/kddcup_test/lightning_logs/version_33/checkpoints/epoch=9-step=6230.ckpt' as top 1\n"
     ]
    },
    {
     "data": {
      "text/html": [
       "<pre style=\"white-space:pre;overflow-x:auto;line-height:normal;font-family:Menlo,'DejaVu Sans Mono',consolas,'Courier New',monospace\">epoch 10 validation loss 0.4039119780063629\n",
       "</pre>\n"
      ],
      "text/plain": [
       "epoch 10 validation loss 0.4039119780063629\n"
      ]
     },
     "metadata": {},
     "output_type": "display_data"
    },
    {
     "data": {
      "text/html": [
       "<pre style=\"white-space:pre;overflow-x:auto;line-height:normal;font-family:Menlo,'DejaVu Sans Mono',consolas,'Courier New',monospace\">epoch 10 validation score 0.8332326712710264\n",
       "</pre>\n"
      ],
      "text/plain": [
       "epoch 10 validation score 0.8332326712710264\n"
      ]
     },
     "metadata": {},
     "output_type": "display_data"
    },
    {
     "name": "stderr",
     "output_type": "stream",
     "text": [
      "Metric valid_loss improved by 0.002 >= min_delta = 0.0. New best score: 0.404\n",
      "Epoch 10, global step 6853: 'valid_loss' reached 0.40391 (best 0.40391), saving model to '/root/autodl-tmp/kddcup_test/lightning_logs/version_33/checkpoints/epoch=10-step=6853.ckpt' as top 1\n"
     ]
    },
    {
     "data": {
      "text/html": [
       "<pre style=\"white-space:pre;overflow-x:auto;line-height:normal;font-family:Menlo,'DejaVu Sans Mono',consolas,'Courier New',monospace\">epoch 11 validation loss 0.4017050266265869\n",
       "</pre>\n"
      ],
      "text/plain": [
       "epoch 11 validation loss 0.4017050266265869\n"
      ]
     },
     "metadata": {},
     "output_type": "display_data"
    },
    {
     "data": {
      "text/html": [
       "<pre style=\"white-space:pre;overflow-x:auto;line-height:normal;font-family:Menlo,'DejaVu Sans Mono',consolas,'Courier New',monospace\">epoch 11 validation score 0.8335868257324006\n",
       "</pre>\n"
      ],
      "text/plain": [
       "epoch 11 validation score 0.8335868257324006\n"
      ]
     },
     "metadata": {},
     "output_type": "display_data"
    },
    {
     "name": "stderr",
     "output_type": "stream",
     "text": [
      "Metric valid_loss improved by 0.002 >= min_delta = 0.0. New best score: 0.402\n",
      "Epoch 11, global step 7476: 'valid_loss' reached 0.40170 (best 0.40170), saving model to '/root/autodl-tmp/kddcup_test/lightning_logs/version_33/checkpoints/epoch=11-step=7476.ckpt' as top 1\n"
     ]
    },
    {
     "data": {
      "text/html": [
       "<pre style=\"white-space:pre;overflow-x:auto;line-height:normal;font-family:Menlo,'DejaVu Sans Mono',consolas,'Courier New',monospace\">epoch 12 validation loss 0.3992618918418884\n",
       "</pre>\n"
      ],
      "text/plain": [
       "epoch 12 validation loss 0.3992618918418884\n"
      ]
     },
     "metadata": {},
     "output_type": "display_data"
    },
    {
     "data": {
      "text/html": [
       "<pre style=\"white-space:pre;overflow-x:auto;line-height:normal;font-family:Menlo,'DejaVu Sans Mono',consolas,'Courier New',monospace\">epoch 12 validation score 0.8341970376749084\n",
       "</pre>\n"
      ],
      "text/plain": [
       "epoch 12 validation score 0.8341970376749084\n"
      ]
     },
     "metadata": {},
     "output_type": "display_data"
    },
    {
     "name": "stderr",
     "output_type": "stream",
     "text": [
      "Metric valid_loss improved by 0.002 >= min_delta = 0.0. New best score: 0.399\n",
      "Epoch 12, global step 8099: 'valid_loss' reached 0.39926 (best 0.39926), saving model to '/root/autodl-tmp/kddcup_test/lightning_logs/version_33/checkpoints/epoch=12-step=8099.ckpt' as top 1\n"
     ]
    },
    {
     "data": {
      "text/html": [
       "<pre style=\"white-space:pre;overflow-x:auto;line-height:normal;font-family:Menlo,'DejaVu Sans Mono',consolas,'Courier New',monospace\">epoch 13 validation loss 0.3981994688510895\n",
       "</pre>\n"
      ],
      "text/plain": [
       "epoch 13 validation loss 0.3981994688510895\n"
      ]
     },
     "metadata": {},
     "output_type": "display_data"
    },
    {
     "data": {
      "text/html": [
       "<pre style=\"white-space:pre;overflow-x:auto;line-height:normal;font-family:Menlo,'DejaVu Sans Mono',consolas,'Courier New',monospace\">epoch 13 validation score 0.8339555890154662\n",
       "</pre>\n"
      ],
      "text/plain": [
       "epoch 13 validation score 0.8339555890154662\n"
      ]
     },
     "metadata": {},
     "output_type": "display_data"
    },
    {
     "name": "stderr",
     "output_type": "stream",
     "text": [
      "Metric valid_loss improved by 0.001 >= min_delta = 0.0. New best score: 0.398\n",
      "Epoch 13, global step 8722: 'valid_loss' reached 0.39820 (best 0.39820), saving model to '/root/autodl-tmp/kddcup_test/lightning_logs/version_33/checkpoints/epoch=13-step=8722.ckpt' as top 1\n"
     ]
    },
    {
     "data": {
      "text/html": [
       "<pre style=\"white-space:pre;overflow-x:auto;line-height:normal;font-family:Menlo,'DejaVu Sans Mono',consolas,'Courier New',monospace\">epoch 14 validation loss 0.39804917573928833\n",
       "</pre>\n"
      ],
      "text/plain": [
       "epoch 14 validation loss 0.39804917573928833\n"
      ]
     },
     "metadata": {},
     "output_type": "display_data"
    },
    {
     "data": {
      "text/html": [
       "<pre style=\"white-space:pre;overflow-x:auto;line-height:normal;font-family:Menlo,'DejaVu Sans Mono',consolas,'Courier New',monospace\">epoch 14 validation score 0.8339307358888488\n",
       "</pre>\n"
      ],
      "text/plain": [
       "epoch 14 validation score 0.8339307358888488\n"
      ]
     },
     "metadata": {},
     "output_type": "display_data"
    },
    {
     "name": "stderr",
     "output_type": "stream",
     "text": [
      "Metric valid_loss improved by 0.000 >= min_delta = 0.0. New best score: 0.398\n",
      "Epoch 14, global step 9345: 'valid_loss' reached 0.39805 (best 0.39805), saving model to '/root/autodl-tmp/kddcup_test/lightning_logs/version_33/checkpoints/epoch=14-step=9345.ckpt' as top 1\n"
     ]
    },
    {
     "data": {
      "text/html": [
       "<pre style=\"white-space:pre;overflow-x:auto;line-height:normal;font-family:Menlo,'DejaVu Sans Mono',consolas,'Courier New',monospace\">epoch 15 validation loss 0.3978756070137024\n",
       "</pre>\n"
      ],
      "text/plain": [
       "epoch 15 validation loss 0.3978756070137024\n"
      ]
     },
     "metadata": {},
     "output_type": "display_data"
    },
    {
     "data": {
      "text/html": [
       "<pre style=\"white-space:pre;overflow-x:auto;line-height:normal;font-family:Menlo,'DejaVu Sans Mono',consolas,'Courier New',monospace\">epoch 15 validation score 0.8340339774524212\n",
       "</pre>\n"
      ],
      "text/plain": [
       "epoch 15 validation score 0.8340339774524212\n"
      ]
     },
     "metadata": {},
     "output_type": "display_data"
    },
    {
     "name": "stderr",
     "output_type": "stream",
     "text": [
      "Metric valid_loss improved by 0.000 >= min_delta = 0.0. New best score: 0.398\n",
      "Epoch 15, global step 9968: 'valid_loss' reached 0.39788 (best 0.39788), saving model to '/root/autodl-tmp/kddcup_test/lightning_logs/version_33/checkpoints/epoch=15-step=9968.ckpt' as top 1\n"
     ]
    },
    {
     "data": {
      "text/html": [
       "<pre style=\"white-space:pre;overflow-x:auto;line-height:normal;font-family:Menlo,'DejaVu Sans Mono',consolas,'Courier New',monospace\">epoch 16 validation loss 0.3979479670524597\n",
       "</pre>\n"
      ],
      "text/plain": [
       "epoch 16 validation loss 0.3979479670524597\n"
      ]
     },
     "metadata": {},
     "output_type": "display_data"
    },
    {
     "data": {
      "text/html": [
       "<pre style=\"white-space:pre;overflow-x:auto;line-height:normal;font-family:Menlo,'DejaVu Sans Mono',consolas,'Courier New',monospace\">epoch 16 validation score 0.8336676794754584\n",
       "</pre>\n"
      ],
      "text/plain": [
       "epoch 16 validation score 0.8336676794754584\n"
      ]
     },
     "metadata": {},
     "output_type": "display_data"
    },
    {
     "name": "stderr",
     "output_type": "stream",
     "text": [
      "Epoch 16, global step 10591: 'valid_loss' was not in top 1\n"
     ]
    },
    {
     "data": {
      "text/html": [
       "<pre style=\"white-space:pre;overflow-x:auto;line-height:normal;font-family:Menlo,'DejaVu Sans Mono',consolas,'Courier New',monospace\">epoch 17 validation loss 0.398423433303833\n",
       "</pre>\n"
      ],
      "text/plain": [
       "epoch 17 validation loss 0.398423433303833\n"
      ]
     },
     "metadata": {},
     "output_type": "display_data"
    },
    {
     "data": {
      "text/html": [
       "<pre style=\"white-space:pre;overflow-x:auto;line-height:normal;font-family:Menlo,'DejaVu Sans Mono',consolas,'Courier New',monospace\">epoch 17 validation score 0.8319436550728392\n",
       "</pre>\n"
      ],
      "text/plain": [
       "epoch 17 validation score 0.8319436550728392\n"
      ]
     },
     "metadata": {},
     "output_type": "display_data"
    },
    {
     "name": "stderr",
     "output_type": "stream",
     "text": [
      "Epoch 17, global step 11214: 'valid_loss' was not in top 1\n"
     ]
    },
    {
     "data": {
      "text/html": [
       "<pre style=\"white-space:pre;overflow-x:auto;line-height:normal;font-family:Menlo,'DejaVu Sans Mono',consolas,'Courier New',monospace\">epoch 18 validation loss 0.39906030893325806\n",
       "</pre>\n"
      ],
      "text/plain": [
       "epoch 18 validation loss 0.39906030893325806\n"
      ]
     },
     "metadata": {},
     "output_type": "display_data"
    },
    {
     "data": {
      "text/html": [
       "<pre style=\"white-space:pre;overflow-x:auto;line-height:normal;font-family:Menlo,'DejaVu Sans Mono',consolas,'Courier New',monospace\">epoch 18 validation score 0.8331661886596365\n",
       "</pre>\n"
      ],
      "text/plain": [
       "epoch 18 validation score 0.8331661886596365\n"
      ]
     },
     "metadata": {},
     "output_type": "display_data"
    },
    {
     "name": "stderr",
     "output_type": "stream",
     "text": [
      "Monitored metric valid_loss did not improve in the last 3 records. Best score: 0.398. Signaling Trainer to stop.\n",
      "Epoch 18, global step 11837: 'valid_loss' was not in top 1\n"
     ]
    },
    {
     "data": {
      "text/html": [
       "<pre style=\"white-space:pre;overflow-x:auto;line-height:normal;font-family:Menlo,'DejaVu Sans Mono',consolas,'Courier New',monospace\"></pre>\n"
      ],
      "text/plain": []
     },
     "metadata": {},
     "output_type": "display_data"
    },
    {
     "data": {
      "text/html": [
       "<pre style=\"white-space:pre;overflow-x:auto;line-height:normal;font-family:Menlo,'DejaVu Sans Mono',consolas,'Courier New',monospace\">\n",
       "</pre>\n"
      ],
      "text/plain": [
       "\n"
      ]
     },
     "metadata": {},
     "output_type": "display_data"
    },
    {
     "name": "stderr",
     "output_type": "stream",
     "text": [
      "156it [00:02, 70.04it/s]\n",
      "885it [00:11, 80.25it/s]\n",
      "Global seed set to 42\n",
      "Trainer already configured with model summary callbacks: [<class 'pytorch_lightning.callbacks.rich_model_summary.RichModelSummary'>]. Skipping setting a default `ModelSummary` callback.\n",
      "GPU available: True, used: True\n",
      "TPU available: False, using: 0 TPU cores\n",
      "IPU available: False, using: 0 IPUs\n",
      "HPU available: False, using: 0 HPUs\n",
      "LOCAL_RANK: 0 - CUDA_VISIBLE_DEVICES: [0]\n"
     ]
    },
    {
     "data": {
      "text/html": [
       "<pre style=\"white-space:pre;overflow-x:auto;line-height:normal;font-family:Menlo,'DejaVu Sans Mono',consolas,'Courier New',monospace\">┏━━━━┳━━━━━━━━━━━━━━━━┳━━━━━━━━━━━━━━┳━━━━━━━━┓\n",
       "┃<span style=\"color: #800080; text-decoration-color: #800080; font-weight: bold\">    </span>┃<span style=\"color: #800080; text-decoration-color: #800080; font-weight: bold\"> Name           </span>┃<span style=\"color: #800080; text-decoration-color: #800080; font-weight: bold\"> Type         </span>┃<span style=\"color: #800080; text-decoration-color: #800080; font-weight: bold\"> Params </span>┃\n",
       "┡━━━━╇━━━━━━━━━━━━━━━━╇━━━━━━━━━━━━━━╇━━━━━━━━┩\n",
       "│<span style=\"color: #7f7f7f; text-decoration-color: #7f7f7f\"> 0  </span>│ convs          │ ModuleList   │  1.6 K │\n",
       "│<span style=\"color: #7f7f7f; text-decoration-color: #7f7f7f\"> 1  </span>│ convs.0        │ SAGEConv     │    520 │\n",
       "│<span style=\"color: #7f7f7f; text-decoration-color: #7f7f7f\"> 2  </span>│ convs.1        │ SAGEConv     │    520 │\n",
       "│<span style=\"color: #7f7f7f; text-decoration-color: #7f7f7f\"> 3  </span>│ convs.2        │ SAGEConv     │    520 │\n",
       "│<span style=\"color: #7f7f7f; text-decoration-color: #7f7f7f\"> 4  </span>│ rev_convs      │ ModuleList   │  1.6 K │\n",
       "│<span style=\"color: #7f7f7f; text-decoration-color: #7f7f7f\"> 5  </span>│ rev_convs.0    │ SAGEConv     │    520 │\n",
       "│<span style=\"color: #7f7f7f; text-decoration-color: #7f7f7f\"> 6  </span>│ rev_convs.1    │ SAGEConv     │    520 │\n",
       "│<span style=\"color: #7f7f7f; text-decoration-color: #7f7f7f\"> 7  </span>│ rev_convs.2    │ SAGEConv     │    520 │\n",
       "│<span style=\"color: #7f7f7f; text-decoration-color: #7f7f7f\"> 8  </span>│ node_dense     │ Sequential   │  112 K │\n",
       "│<span style=\"color: #7f7f7f; text-decoration-color: #7f7f7f\"> 9  </span>│ node_dense.0   │ Linear       │ 95.5 K │\n",
       "│<span style=\"color: #7f7f7f; text-decoration-color: #7f7f7f\"> 10 </span>│ node_dense.1   │ LeakyReLU    │      0 │\n",
       "│<span style=\"color: #7f7f7f; text-decoration-color: #7f7f7f\"> 11 </span>│ node_dense.2   │ Linear       │ 16.4 K │\n",
       "│<span style=\"color: #7f7f7f; text-decoration-color: #7f7f7f\"> 12 </span>│ node_dense.3   │ LeakyReLU    │      0 │\n",
       "│<span style=\"color: #7f7f7f; text-decoration-color: #7f7f7f\"> 13 </span>│ node_dense.4   │ Linear       │  1.0 K │\n",
       "│<span style=\"color: #7f7f7f; text-decoration-color: #7f7f7f\"> 14 </span>│ node_dense.5   │ LeakyReLU    │      0 │\n",
       "│<span style=\"color: #7f7f7f; text-decoration-color: #7f7f7f\"> 15 </span>│ node_dense_2   │ Sequential   │    384 │\n",
       "│<span style=\"color: #7f7f7f; text-decoration-color: #7f7f7f\"> 16 </span>│ node_dense_2.0 │ Linear       │    112 │\n",
       "│<span style=\"color: #7f7f7f; text-decoration-color: #7f7f7f\"> 17 </span>│ node_dense_2.1 │ LeakyReLU    │      0 │\n",
       "│<span style=\"color: #7f7f7f; text-decoration-color: #7f7f7f\"> 18 </span>│ node_dense_2.2 │ Linear       │    272 │\n",
       "│<span style=\"color: #7f7f7f; text-decoration-color: #7f7f7f\"> 19 </span>│ node_dense_2.3 │ LeakyReLU    │      0 │\n",
       "│<span style=\"color: #7f7f7f; text-decoration-color: #7f7f7f\"> 20 </span>│ MLP            │ Sequential   │  2.1 K │\n",
       "│<span style=\"color: #7f7f7f; text-decoration-color: #7f7f7f\"> 21 </span>│ MLP.0          │ Linear       │  1.1 K │\n",
       "│<span style=\"color: #7f7f7f; text-decoration-color: #7f7f7f\"> 22 </span>│ MLP.1          │ LeakyReLU    │      0 │\n",
       "│<span style=\"color: #7f7f7f; text-decoration-color: #7f7f7f\"> 23 </span>│ MLP.2          │ Linear       │  1.1 K │\n",
       "│<span style=\"color: #7f7f7f; text-decoration-color: #7f7f7f\"> 24 </span>│ MLP.3          │ LeakyReLU    │      0 │\n",
       "│<span style=\"color: #7f7f7f; text-decoration-color: #7f7f7f\"> 25 </span>│ MLP.4          │ Linear       │     33 │\n",
       "│<span style=\"color: #7f7f7f; text-decoration-color: #7f7f7f\"> 26 </span>│ MLP.5          │ Sigmoid      │      0 │\n",
       "│<span style=\"color: #7f7f7f; text-decoration-color: #7f7f7f\"> 27 </span>│ loss_function  │ SmoothL1Loss │      0 │\n",
       "└────┴────────────────┴──────────────┴────────┘\n",
       "</pre>\n"
      ],
      "text/plain": [
       "┏━━━━┳━━━━━━━━━━━━━━━━┳━━━━━━━━━━━━━━┳━━━━━━━━┓\n",
       "┃\u001b[1;35m \u001b[0m\u001b[1;35m  \u001b[0m\u001b[1;35m \u001b[0m┃\u001b[1;35m \u001b[0m\u001b[1;35mName          \u001b[0m\u001b[1;35m \u001b[0m┃\u001b[1;35m \u001b[0m\u001b[1;35mType        \u001b[0m\u001b[1;35m \u001b[0m┃\u001b[1;35m \u001b[0m\u001b[1;35mParams\u001b[0m\u001b[1;35m \u001b[0m┃\n",
       "┡━━━━╇━━━━━━━━━━━━━━━━╇━━━━━━━━━━━━━━╇━━━━━━━━┩\n",
       "│\u001b[2m \u001b[0m\u001b[2m0 \u001b[0m\u001b[2m \u001b[0m│ convs          │ ModuleList   │  1.6 K │\n",
       "│\u001b[2m \u001b[0m\u001b[2m1 \u001b[0m\u001b[2m \u001b[0m│ convs.0        │ SAGEConv     │    520 │\n",
       "│\u001b[2m \u001b[0m\u001b[2m2 \u001b[0m\u001b[2m \u001b[0m│ convs.1        │ SAGEConv     │    520 │\n",
       "│\u001b[2m \u001b[0m\u001b[2m3 \u001b[0m\u001b[2m \u001b[0m│ convs.2        │ SAGEConv     │    520 │\n",
       "│\u001b[2m \u001b[0m\u001b[2m4 \u001b[0m\u001b[2m \u001b[0m│ rev_convs      │ ModuleList   │  1.6 K │\n",
       "│\u001b[2m \u001b[0m\u001b[2m5 \u001b[0m\u001b[2m \u001b[0m│ rev_convs.0    │ SAGEConv     │    520 │\n",
       "│\u001b[2m \u001b[0m\u001b[2m6 \u001b[0m\u001b[2m \u001b[0m│ rev_convs.1    │ SAGEConv     │    520 │\n",
       "│\u001b[2m \u001b[0m\u001b[2m7 \u001b[0m\u001b[2m \u001b[0m│ rev_convs.2    │ SAGEConv     │    520 │\n",
       "│\u001b[2m \u001b[0m\u001b[2m8 \u001b[0m\u001b[2m \u001b[0m│ node_dense     │ Sequential   │  112 K │\n",
       "│\u001b[2m \u001b[0m\u001b[2m9 \u001b[0m\u001b[2m \u001b[0m│ node_dense.0   │ Linear       │ 95.5 K │\n",
       "│\u001b[2m \u001b[0m\u001b[2m10\u001b[0m\u001b[2m \u001b[0m│ node_dense.1   │ LeakyReLU    │      0 │\n",
       "│\u001b[2m \u001b[0m\u001b[2m11\u001b[0m\u001b[2m \u001b[0m│ node_dense.2   │ Linear       │ 16.4 K │\n",
       "│\u001b[2m \u001b[0m\u001b[2m12\u001b[0m\u001b[2m \u001b[0m│ node_dense.3   │ LeakyReLU    │      0 │\n",
       "│\u001b[2m \u001b[0m\u001b[2m13\u001b[0m\u001b[2m \u001b[0m│ node_dense.4   │ Linear       │  1.0 K │\n",
       "│\u001b[2m \u001b[0m\u001b[2m14\u001b[0m\u001b[2m \u001b[0m│ node_dense.5   │ LeakyReLU    │      0 │\n",
       "│\u001b[2m \u001b[0m\u001b[2m15\u001b[0m\u001b[2m \u001b[0m│ node_dense_2   │ Sequential   │    384 │\n",
       "│\u001b[2m \u001b[0m\u001b[2m16\u001b[0m\u001b[2m \u001b[0m│ node_dense_2.0 │ Linear       │    112 │\n",
       "│\u001b[2m \u001b[0m\u001b[2m17\u001b[0m\u001b[2m \u001b[0m│ node_dense_2.1 │ LeakyReLU    │      0 │\n",
       "│\u001b[2m \u001b[0m\u001b[2m18\u001b[0m\u001b[2m \u001b[0m│ node_dense_2.2 │ Linear       │    272 │\n",
       "│\u001b[2m \u001b[0m\u001b[2m19\u001b[0m\u001b[2m \u001b[0m│ node_dense_2.3 │ LeakyReLU    │      0 │\n",
       "│\u001b[2m \u001b[0m\u001b[2m20\u001b[0m\u001b[2m \u001b[0m│ MLP            │ Sequential   │  2.1 K │\n",
       "│\u001b[2m \u001b[0m\u001b[2m21\u001b[0m\u001b[2m \u001b[0m│ MLP.0          │ Linear       │  1.1 K │\n",
       "│\u001b[2m \u001b[0m\u001b[2m22\u001b[0m\u001b[2m \u001b[0m│ MLP.1          │ LeakyReLU    │      0 │\n",
       "│\u001b[2m \u001b[0m\u001b[2m23\u001b[0m\u001b[2m \u001b[0m│ MLP.2          │ Linear       │  1.1 K │\n",
       "│\u001b[2m \u001b[0m\u001b[2m24\u001b[0m\u001b[2m \u001b[0m│ MLP.3          │ LeakyReLU    │      0 │\n",
       "│\u001b[2m \u001b[0m\u001b[2m25\u001b[0m\u001b[2m \u001b[0m│ MLP.4          │ Linear       │     33 │\n",
       "│\u001b[2m \u001b[0m\u001b[2m26\u001b[0m\u001b[2m \u001b[0m│ MLP.5          │ Sigmoid      │      0 │\n",
       "│\u001b[2m \u001b[0m\u001b[2m27\u001b[0m\u001b[2m \u001b[0m│ loss_function  │ SmoothL1Loss │      0 │\n",
       "└────┴────────────────┴──────────────┴────────┘\n"
      ]
     },
     "metadata": {},
     "output_type": "display_data"
    },
    {
     "data": {
      "text/html": [
       "<pre style=\"white-space:pre;overflow-x:auto;line-height:normal;font-family:Menlo,'DejaVu Sans Mono',consolas,'Courier New',monospace\"><span style=\"font-weight: bold\">Trainable params</span>: 118 K                                                                                            \n",
       "<span style=\"font-weight: bold\">Non-trainable params</span>: 0                                                                                            \n",
       "<span style=\"font-weight: bold\">Total params</span>: 118 K                                                                                                \n",
       "<span style=\"font-weight: bold\">Total estimated model params size (MB)</span>: 0                                                                          \n",
       "</pre>\n"
      ],
      "text/plain": [
       "\u001b[1mTrainable params\u001b[0m: 118 K                                                                                            \n",
       "\u001b[1mNon-trainable params\u001b[0m: 0                                                                                            \n",
       "\u001b[1mTotal params\u001b[0m: 118 K                                                                                                \n",
       "\u001b[1mTotal estimated model params size (MB)\u001b[0m: 0                                                                          \n"
      ]
     },
     "metadata": {},
     "output_type": "display_data"
    },
    {
     "data": {
      "application/vnd.jupyter.widget-view+json": {
       "model_id": "c247bfc8d82b4caea031b811fdff3368",
       "version_major": 2,
       "version_minor": 0
      },
      "text/plain": [
       "Output()"
      ]
     },
     "metadata": {},
     "output_type": "display_data"
    },
    {
     "data": {
      "text/html": [
       "<pre style=\"white-space:pre;overflow-x:auto;line-height:normal;font-family:Menlo,'DejaVu Sans Mono',consolas,'Courier New',monospace\">epoch 0 validation loss 0.618017315864563\n",
       "</pre>\n"
      ],
      "text/plain": [
       "epoch 0 validation loss 0.618017315864563\n"
      ]
     },
     "metadata": {},
     "output_type": "display_data"
    },
    {
     "data": {
      "text/html": [
       "<pre style=\"white-space:pre;overflow-x:auto;line-height:normal;font-family:Menlo,'DejaVu Sans Mono',consolas,'Courier New',monospace\">epoch 0 validation score 0.505220641427538\n",
       "</pre>\n"
      ],
      "text/plain": [
       "epoch 0 validation score 0.505220641427538\n"
      ]
     },
     "metadata": {},
     "output_type": "display_data"
    },
    {
     "data": {
      "text/html": [
       "<pre style=\"white-space:pre;overflow-x:auto;line-height:normal;font-family:Menlo,'DejaVu Sans Mono',consolas,'Courier New',monospace\">epoch 0 validation loss 0.4430440366268158\n",
       "</pre>\n"
      ],
      "text/plain": [
       "epoch 0 validation loss 0.4430440366268158\n"
      ]
     },
     "metadata": {},
     "output_type": "display_data"
    },
    {
     "data": {
      "text/html": [
       "<pre style=\"white-space:pre;overflow-x:auto;line-height:normal;font-family:Menlo,'DejaVu Sans Mono',consolas,'Courier New',monospace\">epoch 0 validation score 0.7727218388628603\n",
       "</pre>\n"
      ],
      "text/plain": [
       "epoch 0 validation score 0.7727218388628603\n"
      ]
     },
     "metadata": {},
     "output_type": "display_data"
    },
    {
     "name": "stderr",
     "output_type": "stream",
     "text": [
      "Metric valid_loss improved. New best score: 0.443\n",
      "Epoch 0, global step 623: 'valid_loss' reached 0.44304 (best 0.44304), saving model to '/root/autodl-tmp/kddcup_test/lightning_logs/version_34/checkpoints/epoch=0-step=623.ckpt' as top 1\n"
     ]
    },
    {
     "data": {
      "text/html": [
       "<pre style=\"white-space:pre;overflow-x:auto;line-height:normal;font-family:Menlo,'DejaVu Sans Mono',consolas,'Courier New',monospace\">epoch 1 validation loss 0.4147976040840149\n",
       "</pre>\n"
      ],
      "text/plain": [
       "epoch 1 validation loss 0.4147976040840149\n"
      ]
     },
     "metadata": {},
     "output_type": "display_data"
    },
    {
     "data": {
      "text/html": [
       "<pre style=\"white-space:pre;overflow-x:auto;line-height:normal;font-family:Menlo,'DejaVu Sans Mono',consolas,'Courier New',monospace\">epoch 1 validation score 0.7864557030353422\n",
       "</pre>\n"
      ],
      "text/plain": [
       "epoch 1 validation score 0.7864557030353422\n"
      ]
     },
     "metadata": {},
     "output_type": "display_data"
    },
    {
     "name": "stderr",
     "output_type": "stream",
     "text": [
      "Metric valid_loss improved by 0.028 >= min_delta = 0.0. New best score: 0.415\n",
      "Epoch 1, global step 1246: 'valid_loss' reached 0.41480 (best 0.41480), saving model to '/root/autodl-tmp/kddcup_test/lightning_logs/version_34/checkpoints/epoch=1-step=1246.ckpt' as top 1\n"
     ]
    },
    {
     "data": {
      "text/html": [
       "<pre style=\"white-space:pre;overflow-x:auto;line-height:normal;font-family:Menlo,'DejaVu Sans Mono',consolas,'Courier New',monospace\">epoch 2 validation loss 0.41363760828971863\n",
       "</pre>\n"
      ],
      "text/plain": [
       "epoch 2 validation loss 0.41363760828971863\n"
      ]
     },
     "metadata": {},
     "output_type": "display_data"
    },
    {
     "data": {
      "text/html": [
       "<pre style=\"white-space:pre;overflow-x:auto;line-height:normal;font-family:Menlo,'DejaVu Sans Mono',consolas,'Courier New',monospace\">epoch 2 validation score 0.783834833870391\n",
       "</pre>\n"
      ],
      "text/plain": [
       "epoch 2 validation score 0.783834833870391\n"
      ]
     },
     "metadata": {},
     "output_type": "display_data"
    },
    {
     "name": "stderr",
     "output_type": "stream",
     "text": [
      "Metric valid_loss improved by 0.001 >= min_delta = 0.0. New best score: 0.414\n",
      "Epoch 2, global step 1869: 'valid_loss' reached 0.41364 (best 0.41364), saving model to '/root/autodl-tmp/kddcup_test/lightning_logs/version_34/checkpoints/epoch=2-step=1869.ckpt' as top 1\n"
     ]
    },
    {
     "data": {
      "text/html": [
       "<pre style=\"white-space:pre;overflow-x:auto;line-height:normal;font-family:Menlo,'DejaVu Sans Mono',consolas,'Courier New',monospace\">epoch 3 validation loss 0.41247349977493286\n",
       "</pre>\n"
      ],
      "text/plain": [
       "epoch 3 validation loss 0.41247349977493286\n"
      ]
     },
     "metadata": {},
     "output_type": "display_data"
    },
    {
     "data": {
      "text/html": [
       "<pre style=\"white-space:pre;overflow-x:auto;line-height:normal;font-family:Menlo,'DejaVu Sans Mono',consolas,'Courier New',monospace\">epoch 3 validation score 0.7878170771504307\n",
       "</pre>\n"
      ],
      "text/plain": [
       "epoch 3 validation score 0.7878170771504307\n"
      ]
     },
     "metadata": {},
     "output_type": "display_data"
    },
    {
     "name": "stderr",
     "output_type": "stream",
     "text": [
      "Metric valid_loss improved by 0.001 >= min_delta = 0.0. New best score: 0.412\n",
      "Epoch 3, global step 2492: 'valid_loss' reached 0.41247 (best 0.41247), saving model to '/root/autodl-tmp/kddcup_test/lightning_logs/version_34/checkpoints/epoch=3-step=2492.ckpt' as top 1\n"
     ]
    },
    {
     "data": {
      "text/html": [
       "<pre style=\"white-space:pre;overflow-x:auto;line-height:normal;font-family:Menlo,'DejaVu Sans Mono',consolas,'Courier New',monospace\">epoch 4 validation loss 0.41094276309013367\n",
       "</pre>\n"
      ],
      "text/plain": [
       "epoch 4 validation loss 0.41094276309013367\n"
      ]
     },
     "metadata": {},
     "output_type": "display_data"
    },
    {
     "data": {
      "text/html": [
       "<pre style=\"white-space:pre;overflow-x:auto;line-height:normal;font-family:Menlo,'DejaVu Sans Mono',consolas,'Courier New',monospace\">epoch 4 validation score 0.788166873740226\n",
       "</pre>\n"
      ],
      "text/plain": [
       "epoch 4 validation score 0.788166873740226\n"
      ]
     },
     "metadata": {},
     "output_type": "display_data"
    },
    {
     "name": "stderr",
     "output_type": "stream",
     "text": [
      "Metric valid_loss improved by 0.002 >= min_delta = 0.0. New best score: 0.411\n",
      "Epoch 4, global step 3115: 'valid_loss' reached 0.41094 (best 0.41094), saving model to '/root/autodl-tmp/kddcup_test/lightning_logs/version_34/checkpoints/epoch=4-step=3115.ckpt' as top 1\n"
     ]
    },
    {
     "data": {
      "text/html": [
       "<pre style=\"white-space:pre;overflow-x:auto;line-height:normal;font-family:Menlo,'DejaVu Sans Mono',consolas,'Courier New',monospace\">epoch 5 validation loss 0.4080393612384796\n",
       "</pre>\n"
      ],
      "text/plain": [
       "epoch 5 validation loss 0.4080393612384796\n"
      ]
     },
     "metadata": {},
     "output_type": "display_data"
    },
    {
     "data": {
      "text/html": [
       "<pre style=\"white-space:pre;overflow-x:auto;line-height:normal;font-family:Menlo,'DejaVu Sans Mono',consolas,'Courier New',monospace\">epoch 5 validation score 0.7905763549243117\n",
       "</pre>\n"
      ],
      "text/plain": [
       "epoch 5 validation score 0.7905763549243117\n"
      ]
     },
     "metadata": {},
     "output_type": "display_data"
    },
    {
     "name": "stderr",
     "output_type": "stream",
     "text": [
      "Metric valid_loss improved by 0.003 >= min_delta = 0.0. New best score: 0.408\n",
      "Epoch 5, global step 3738: 'valid_loss' reached 0.40804 (best 0.40804), saving model to '/root/autodl-tmp/kddcup_test/lightning_logs/version_34/checkpoints/epoch=5-step=3738.ckpt' as top 1\n"
     ]
    },
    {
     "data": {
      "text/html": [
       "<pre style=\"white-space:pre;overflow-x:auto;line-height:normal;font-family:Menlo,'DejaVu Sans Mono',consolas,'Courier New',monospace\">epoch 6 validation loss 0.40540358424186707\n",
       "</pre>\n"
      ],
      "text/plain": [
       "epoch 6 validation loss 0.40540358424186707\n"
      ]
     },
     "metadata": {},
     "output_type": "display_data"
    },
    {
     "data": {
      "text/html": [
       "<pre style=\"white-space:pre;overflow-x:auto;line-height:normal;font-family:Menlo,'DejaVu Sans Mono',consolas,'Courier New',monospace\">epoch 6 validation score 0.7930178365348949\n",
       "</pre>\n"
      ],
      "text/plain": [
       "epoch 6 validation score 0.7930178365348949\n"
      ]
     },
     "metadata": {},
     "output_type": "display_data"
    },
    {
     "name": "stderr",
     "output_type": "stream",
     "text": [
      "Metric valid_loss improved by 0.003 >= min_delta = 0.0. New best score: 0.405\n",
      "Epoch 6, global step 4361: 'valid_loss' reached 0.40540 (best 0.40540), saving model to '/root/autodl-tmp/kddcup_test/lightning_logs/version_34/checkpoints/epoch=6-step=4361.ckpt' as top 1\n"
     ]
    },
    {
     "data": {
      "text/html": [
       "<pre style=\"white-space:pre;overflow-x:auto;line-height:normal;font-family:Menlo,'DejaVu Sans Mono',consolas,'Courier New',monospace\">epoch 7 validation loss 0.40388643741607666\n",
       "</pre>\n"
      ],
      "text/plain": [
       "epoch 7 validation loss 0.40388643741607666\n"
      ]
     },
     "metadata": {},
     "output_type": "display_data"
    },
    {
     "data": {
      "text/html": [
       "<pre style=\"white-space:pre;overflow-x:auto;line-height:normal;font-family:Menlo,'DejaVu Sans Mono',consolas,'Courier New',monospace\">epoch 7 validation score 0.7938760754790479\n",
       "</pre>\n"
      ],
      "text/plain": [
       "epoch 7 validation score 0.7938760754790479\n"
      ]
     },
     "metadata": {},
     "output_type": "display_data"
    },
    {
     "name": "stderr",
     "output_type": "stream",
     "text": [
      "Metric valid_loss improved by 0.002 >= min_delta = 0.0. New best score: 0.404\n",
      "Epoch 7, global step 4984: 'valid_loss' reached 0.40389 (best 0.40389), saving model to '/root/autodl-tmp/kddcup_test/lightning_logs/version_34/checkpoints/epoch=7-step=4984.ckpt' as top 1\n"
     ]
    },
    {
     "data": {
      "text/html": [
       "<pre style=\"white-space:pre;overflow-x:auto;line-height:normal;font-family:Menlo,'DejaVu Sans Mono',consolas,'Courier New',monospace\">epoch 8 validation loss 0.40163925290107727\n",
       "</pre>\n"
      ],
      "text/plain": [
       "epoch 8 validation loss 0.40163925290107727\n"
      ]
     },
     "metadata": {},
     "output_type": "display_data"
    },
    {
     "data": {
      "text/html": [
       "<pre style=\"white-space:pre;overflow-x:auto;line-height:normal;font-family:Menlo,'DejaVu Sans Mono',consolas,'Courier New',monospace\">epoch 8 validation score 0.7949368676922369\n",
       "</pre>\n"
      ],
      "text/plain": [
       "epoch 8 validation score 0.7949368676922369\n"
      ]
     },
     "metadata": {},
     "output_type": "display_data"
    },
    {
     "name": "stderr",
     "output_type": "stream",
     "text": [
      "Metric valid_loss improved by 0.002 >= min_delta = 0.0. New best score: 0.402\n",
      "Epoch 8, global step 5607: 'valid_loss' reached 0.40164 (best 0.40164), saving model to '/root/autodl-tmp/kddcup_test/lightning_logs/version_34/checkpoints/epoch=8-step=5607.ckpt' as top 1\n"
     ]
    },
    {
     "data": {
      "text/html": [
       "<pre style=\"white-space:pre;overflow-x:auto;line-height:normal;font-family:Menlo,'DejaVu Sans Mono',consolas,'Courier New',monospace\">epoch 9 validation loss 0.39874789118766785\n",
       "</pre>\n"
      ],
      "text/plain": [
       "epoch 9 validation loss 0.39874789118766785\n"
      ]
     },
     "metadata": {},
     "output_type": "display_data"
    },
    {
     "data": {
      "text/html": [
       "<pre style=\"white-space:pre;overflow-x:auto;line-height:normal;font-family:Menlo,'DejaVu Sans Mono',consolas,'Courier New',monospace\">epoch 9 validation score 0.7951996872066902\n",
       "</pre>\n"
      ],
      "text/plain": [
       "epoch 9 validation score 0.7951996872066902\n"
      ]
     },
     "metadata": {},
     "output_type": "display_data"
    },
    {
     "name": "stderr",
     "output_type": "stream",
     "text": [
      "Metric valid_loss improved by 0.003 >= min_delta = 0.0. New best score: 0.399\n",
      "Epoch 9, global step 6230: 'valid_loss' reached 0.39875 (best 0.39875), saving model to '/root/autodl-tmp/kddcup_test/lightning_logs/version_34/checkpoints/epoch=9-step=6230.ckpt' as top 1\n"
     ]
    },
    {
     "data": {
      "text/html": [
       "<pre style=\"white-space:pre;overflow-x:auto;line-height:normal;font-family:Menlo,'DejaVu Sans Mono',consolas,'Courier New',monospace\">epoch 10 validation loss 0.39617452025413513\n",
       "</pre>\n"
      ],
      "text/plain": [
       "epoch 10 validation loss 0.39617452025413513\n"
      ]
     },
     "metadata": {},
     "output_type": "display_data"
    },
    {
     "data": {
      "text/html": [
       "<pre style=\"white-space:pre;overflow-x:auto;line-height:normal;font-family:Menlo,'DejaVu Sans Mono',consolas,'Courier New',monospace\">epoch 10 validation score 0.7969692614633442\n",
       "</pre>\n"
      ],
      "text/plain": [
       "epoch 10 validation score 0.7969692614633442\n"
      ]
     },
     "metadata": {},
     "output_type": "display_data"
    },
    {
     "name": "stderr",
     "output_type": "stream",
     "text": [
      "Metric valid_loss improved by 0.003 >= min_delta = 0.0. New best score: 0.396\n",
      "Epoch 10, global step 6853: 'valid_loss' reached 0.39617 (best 0.39617), saving model to '/root/autodl-tmp/kddcup_test/lightning_logs/version_34/checkpoints/epoch=10-step=6853.ckpt' as top 1\n"
     ]
    },
    {
     "data": {
      "text/html": [
       "<pre style=\"white-space:pre;overflow-x:auto;line-height:normal;font-family:Menlo,'DejaVu Sans Mono',consolas,'Courier New',monospace\">epoch 11 validation loss 0.3951333165168762\n",
       "</pre>\n"
      ],
      "text/plain": [
       "epoch 11 validation loss 0.3951333165168762\n"
      ]
     },
     "metadata": {},
     "output_type": "display_data"
    },
    {
     "data": {
      "text/html": [
       "<pre style=\"white-space:pre;overflow-x:auto;line-height:normal;font-family:Menlo,'DejaVu Sans Mono',consolas,'Courier New',monospace\">epoch 11 validation score 0.7979821946594858\n",
       "</pre>\n"
      ],
      "text/plain": [
       "epoch 11 validation score 0.7979821946594858\n"
      ]
     },
     "metadata": {},
     "output_type": "display_data"
    },
    {
     "name": "stderr",
     "output_type": "stream",
     "text": [
      "Metric valid_loss improved by 0.001 >= min_delta = 0.0. New best score: 0.395\n",
      "Epoch 11, global step 7476: 'valid_loss' reached 0.39513 (best 0.39513), saving model to '/root/autodl-tmp/kddcup_test/lightning_logs/version_34/checkpoints/epoch=11-step=7476.ckpt' as top 1\n"
     ]
    },
    {
     "data": {
      "text/html": [
       "<pre style=\"white-space:pre;overflow-x:auto;line-height:normal;font-family:Menlo,'DejaVu Sans Mono',consolas,'Courier New',monospace\">epoch 12 validation loss 0.39469465613365173\n",
       "</pre>\n"
      ],
      "text/plain": [
       "epoch 12 validation loss 0.39469465613365173\n"
      ]
     },
     "metadata": {},
     "output_type": "display_data"
    },
    {
     "data": {
      "text/html": [
       "<pre style=\"white-space:pre;overflow-x:auto;line-height:normal;font-family:Menlo,'DejaVu Sans Mono',consolas,'Courier New',monospace\">epoch 12 validation score 0.7998586593603229\n",
       "</pre>\n"
      ],
      "text/plain": [
       "epoch 12 validation score 0.7998586593603229\n"
      ]
     },
     "metadata": {},
     "output_type": "display_data"
    },
    {
     "name": "stderr",
     "output_type": "stream",
     "text": [
      "Metric valid_loss improved by 0.000 >= min_delta = 0.0. New best score: 0.395\n",
      "Epoch 12, global step 8099: 'valid_loss' reached 0.39469 (best 0.39469), saving model to '/root/autodl-tmp/kddcup_test/lightning_logs/version_34/checkpoints/epoch=12-step=8099.ckpt' as top 1\n"
     ]
    },
    {
     "data": {
      "text/html": [
       "<pre style=\"white-space:pre;overflow-x:auto;line-height:normal;font-family:Menlo,'DejaVu Sans Mono',consolas,'Courier New',monospace\">epoch 13 validation loss 0.39482590556144714\n",
       "</pre>\n"
      ],
      "text/plain": [
       "epoch 13 validation loss 0.39482590556144714\n"
      ]
     },
     "metadata": {},
     "output_type": "display_data"
    },
    {
     "data": {
      "text/html": [
       "<pre style=\"white-space:pre;overflow-x:auto;line-height:normal;font-family:Menlo,'DejaVu Sans Mono',consolas,'Courier New',monospace\">epoch 13 validation score 0.8000450216179674\n",
       "</pre>\n"
      ],
      "text/plain": [
       "epoch 13 validation score 0.8000450216179674\n"
      ]
     },
     "metadata": {},
     "output_type": "display_data"
    },
    {
     "name": "stderr",
     "output_type": "stream",
     "text": [
      "Epoch 13, global step 8722: 'valid_loss' was not in top 1\n"
     ]
    },
    {
     "data": {
      "text/html": [
       "<pre style=\"white-space:pre;overflow-x:auto;line-height:normal;font-family:Menlo,'DejaVu Sans Mono',consolas,'Courier New',monospace\">epoch 14 validation loss 0.3948673605918884\n",
       "</pre>\n"
      ],
      "text/plain": [
       "epoch 14 validation loss 0.3948673605918884\n"
      ]
     },
     "metadata": {},
     "output_type": "display_data"
    },
    {
     "data": {
      "text/html": [
       "<pre style=\"white-space:pre;overflow-x:auto;line-height:normal;font-family:Menlo,'DejaVu Sans Mono',consolas,'Courier New',monospace\">epoch 14 validation score 0.7980734950064795\n",
       "</pre>\n"
      ],
      "text/plain": [
       "epoch 14 validation score 0.7980734950064795\n"
      ]
     },
     "metadata": {},
     "output_type": "display_data"
    },
    {
     "name": "stderr",
     "output_type": "stream",
     "text": [
      "Epoch 14, global step 9345: 'valid_loss' was not in top 1\n"
     ]
    },
    {
     "data": {
      "text/html": [
       "<pre style=\"white-space:pre;overflow-x:auto;line-height:normal;font-family:Menlo,'DejaVu Sans Mono',consolas,'Courier New',monospace\">epoch 15 validation loss 0.39485442638397217\n",
       "</pre>\n"
      ],
      "text/plain": [
       "epoch 15 validation loss 0.39485442638397217\n"
      ]
     },
     "metadata": {},
     "output_type": "display_data"
    },
    {
     "data": {
      "text/html": [
       "<pre style=\"white-space:pre;overflow-x:auto;line-height:normal;font-family:Menlo,'DejaVu Sans Mono',consolas,'Courier New',monospace\">epoch 15 validation score 0.7994698430739585\n",
       "</pre>\n"
      ],
      "text/plain": [
       "epoch 15 validation score 0.7994698430739585\n"
      ]
     },
     "metadata": {},
     "output_type": "display_data"
    },
    {
     "name": "stderr",
     "output_type": "stream",
     "text": [
      "Monitored metric valid_loss did not improve in the last 3 records. Best score: 0.395. Signaling Trainer to stop.\n",
      "Epoch 15, global step 9968: 'valid_loss' was not in top 1\n"
     ]
    },
    {
     "data": {
      "text/html": [
       "<pre style=\"white-space:pre;overflow-x:auto;line-height:normal;font-family:Menlo,'DejaVu Sans Mono',consolas,'Courier New',monospace\"></pre>\n"
      ],
      "text/plain": []
     },
     "metadata": {},
     "output_type": "display_data"
    },
    {
     "data": {
      "text/html": [
       "<pre style=\"white-space:pre;overflow-x:auto;line-height:normal;font-family:Menlo,'DejaVu Sans Mono',consolas,'Courier New',monospace\">\n",
       "</pre>\n"
      ],
      "text/plain": [
       "\n"
      ]
     },
     "metadata": {},
     "output_type": "display_data"
    },
    {
     "name": "stderr",
     "output_type": "stream",
     "text": [
      "156it [00:02, 69.96it/s] \n",
      "885it [00:10, 80.65it/s]\n",
      "Global seed set to 42\n",
      "Trainer already configured with model summary callbacks: [<class 'pytorch_lightning.callbacks.rich_model_summary.RichModelSummary'>]. Skipping setting a default `ModelSummary` callback.\n",
      "GPU available: True, used: True\n",
      "TPU available: False, using: 0 TPU cores\n",
      "IPU available: False, using: 0 IPUs\n",
      "HPU available: False, using: 0 HPUs\n",
      "LOCAL_RANK: 0 - CUDA_VISIBLE_DEVICES: [0]\n"
     ]
    },
    {
     "data": {
      "text/html": [
       "<pre style=\"white-space:pre;overflow-x:auto;line-height:normal;font-family:Menlo,'DejaVu Sans Mono',consolas,'Courier New',monospace\">┏━━━━┳━━━━━━━━━━━━━━━━┳━━━━━━━━━━━━━━┳━━━━━━━━┓\n",
       "┃<span style=\"color: #800080; text-decoration-color: #800080; font-weight: bold\">    </span>┃<span style=\"color: #800080; text-decoration-color: #800080; font-weight: bold\"> Name           </span>┃<span style=\"color: #800080; text-decoration-color: #800080; font-weight: bold\"> Type         </span>┃<span style=\"color: #800080; text-decoration-color: #800080; font-weight: bold\"> Params </span>┃\n",
       "┡━━━━╇━━━━━━━━━━━━━━━━╇━━━━━━━━━━━━━━╇━━━━━━━━┩\n",
       "│<span style=\"color: #7f7f7f; text-decoration-color: #7f7f7f\"> 0  </span>│ convs          │ ModuleList   │  1.6 K │\n",
       "│<span style=\"color: #7f7f7f; text-decoration-color: #7f7f7f\"> 1  </span>│ convs.0        │ SAGEConv     │    520 │\n",
       "│<span style=\"color: #7f7f7f; text-decoration-color: #7f7f7f\"> 2  </span>│ convs.1        │ SAGEConv     │    520 │\n",
       "│<span style=\"color: #7f7f7f; text-decoration-color: #7f7f7f\"> 3  </span>│ convs.2        │ SAGEConv     │    520 │\n",
       "│<span style=\"color: #7f7f7f; text-decoration-color: #7f7f7f\"> 4  </span>│ rev_convs      │ ModuleList   │  1.6 K │\n",
       "│<span style=\"color: #7f7f7f; text-decoration-color: #7f7f7f\"> 5  </span>│ rev_convs.0    │ SAGEConv     │    520 │\n",
       "│<span style=\"color: #7f7f7f; text-decoration-color: #7f7f7f\"> 6  </span>│ rev_convs.1    │ SAGEConv     │    520 │\n",
       "│<span style=\"color: #7f7f7f; text-decoration-color: #7f7f7f\"> 7  </span>│ rev_convs.2    │ SAGEConv     │    520 │\n",
       "│<span style=\"color: #7f7f7f; text-decoration-color: #7f7f7f\"> 8  </span>│ node_dense     │ Sequential   │  112 K │\n",
       "│<span style=\"color: #7f7f7f; text-decoration-color: #7f7f7f\"> 9  </span>│ node_dense.0   │ Linear       │ 95.5 K │\n",
       "│<span style=\"color: #7f7f7f; text-decoration-color: #7f7f7f\"> 10 </span>│ node_dense.1   │ LeakyReLU    │      0 │\n",
       "│<span style=\"color: #7f7f7f; text-decoration-color: #7f7f7f\"> 11 </span>│ node_dense.2   │ Linear       │ 16.4 K │\n",
       "│<span style=\"color: #7f7f7f; text-decoration-color: #7f7f7f\"> 12 </span>│ node_dense.3   │ LeakyReLU    │      0 │\n",
       "│<span style=\"color: #7f7f7f; text-decoration-color: #7f7f7f\"> 13 </span>│ node_dense.4   │ Linear       │  1.0 K │\n",
       "│<span style=\"color: #7f7f7f; text-decoration-color: #7f7f7f\"> 14 </span>│ node_dense.5   │ LeakyReLU    │      0 │\n",
       "│<span style=\"color: #7f7f7f; text-decoration-color: #7f7f7f\"> 15 </span>│ node_dense_2   │ Sequential   │    384 │\n",
       "│<span style=\"color: #7f7f7f; text-decoration-color: #7f7f7f\"> 16 </span>│ node_dense_2.0 │ Linear       │    112 │\n",
       "│<span style=\"color: #7f7f7f; text-decoration-color: #7f7f7f\"> 17 </span>│ node_dense_2.1 │ LeakyReLU    │      0 │\n",
       "│<span style=\"color: #7f7f7f; text-decoration-color: #7f7f7f\"> 18 </span>│ node_dense_2.2 │ Linear       │    272 │\n",
       "│<span style=\"color: #7f7f7f; text-decoration-color: #7f7f7f\"> 19 </span>│ node_dense_2.3 │ LeakyReLU    │      0 │\n",
       "│<span style=\"color: #7f7f7f; text-decoration-color: #7f7f7f\"> 20 </span>│ MLP            │ Sequential   │  2.1 K │\n",
       "│<span style=\"color: #7f7f7f; text-decoration-color: #7f7f7f\"> 21 </span>│ MLP.0          │ Linear       │  1.1 K │\n",
       "│<span style=\"color: #7f7f7f; text-decoration-color: #7f7f7f\"> 22 </span>│ MLP.1          │ LeakyReLU    │      0 │\n",
       "│<span style=\"color: #7f7f7f; text-decoration-color: #7f7f7f\"> 23 </span>│ MLP.2          │ Linear       │  1.1 K │\n",
       "│<span style=\"color: #7f7f7f; text-decoration-color: #7f7f7f\"> 24 </span>│ MLP.3          │ LeakyReLU    │      0 │\n",
       "│<span style=\"color: #7f7f7f; text-decoration-color: #7f7f7f\"> 25 </span>│ MLP.4          │ Linear       │     33 │\n",
       "│<span style=\"color: #7f7f7f; text-decoration-color: #7f7f7f\"> 26 </span>│ MLP.5          │ Sigmoid      │      0 │\n",
       "│<span style=\"color: #7f7f7f; text-decoration-color: #7f7f7f\"> 27 </span>│ loss_function  │ SmoothL1Loss │      0 │\n",
       "└────┴────────────────┴──────────────┴────────┘\n",
       "</pre>\n"
      ],
      "text/plain": [
       "┏━━━━┳━━━━━━━━━━━━━━━━┳━━━━━━━━━━━━━━┳━━━━━━━━┓\n",
       "┃\u001b[1;35m \u001b[0m\u001b[1;35m  \u001b[0m\u001b[1;35m \u001b[0m┃\u001b[1;35m \u001b[0m\u001b[1;35mName          \u001b[0m\u001b[1;35m \u001b[0m┃\u001b[1;35m \u001b[0m\u001b[1;35mType        \u001b[0m\u001b[1;35m \u001b[0m┃\u001b[1;35m \u001b[0m\u001b[1;35mParams\u001b[0m\u001b[1;35m \u001b[0m┃\n",
       "┡━━━━╇━━━━━━━━━━━━━━━━╇━━━━━━━━━━━━━━╇━━━━━━━━┩\n",
       "│\u001b[2m \u001b[0m\u001b[2m0 \u001b[0m\u001b[2m \u001b[0m│ convs          │ ModuleList   │  1.6 K │\n",
       "│\u001b[2m \u001b[0m\u001b[2m1 \u001b[0m\u001b[2m \u001b[0m│ convs.0        │ SAGEConv     │    520 │\n",
       "│\u001b[2m \u001b[0m\u001b[2m2 \u001b[0m\u001b[2m \u001b[0m│ convs.1        │ SAGEConv     │    520 │\n",
       "│\u001b[2m \u001b[0m\u001b[2m3 \u001b[0m\u001b[2m \u001b[0m│ convs.2        │ SAGEConv     │    520 │\n",
       "│\u001b[2m \u001b[0m\u001b[2m4 \u001b[0m\u001b[2m \u001b[0m│ rev_convs      │ ModuleList   │  1.6 K │\n",
       "│\u001b[2m \u001b[0m\u001b[2m5 \u001b[0m\u001b[2m \u001b[0m│ rev_convs.0    │ SAGEConv     │    520 │\n",
       "│\u001b[2m \u001b[0m\u001b[2m6 \u001b[0m\u001b[2m \u001b[0m│ rev_convs.1    │ SAGEConv     │    520 │\n",
       "│\u001b[2m \u001b[0m\u001b[2m7 \u001b[0m\u001b[2m \u001b[0m│ rev_convs.2    │ SAGEConv     │    520 │\n",
       "│\u001b[2m \u001b[0m\u001b[2m8 \u001b[0m\u001b[2m \u001b[0m│ node_dense     │ Sequential   │  112 K │\n",
       "│\u001b[2m \u001b[0m\u001b[2m9 \u001b[0m\u001b[2m \u001b[0m│ node_dense.0   │ Linear       │ 95.5 K │\n",
       "│\u001b[2m \u001b[0m\u001b[2m10\u001b[0m\u001b[2m \u001b[0m│ node_dense.1   │ LeakyReLU    │      0 │\n",
       "│\u001b[2m \u001b[0m\u001b[2m11\u001b[0m\u001b[2m \u001b[0m│ node_dense.2   │ Linear       │ 16.4 K │\n",
       "│\u001b[2m \u001b[0m\u001b[2m12\u001b[0m\u001b[2m \u001b[0m│ node_dense.3   │ LeakyReLU    │      0 │\n",
       "│\u001b[2m \u001b[0m\u001b[2m13\u001b[0m\u001b[2m \u001b[0m│ node_dense.4   │ Linear       │  1.0 K │\n",
       "│\u001b[2m \u001b[0m\u001b[2m14\u001b[0m\u001b[2m \u001b[0m│ node_dense.5   │ LeakyReLU    │      0 │\n",
       "│\u001b[2m \u001b[0m\u001b[2m15\u001b[0m\u001b[2m \u001b[0m│ node_dense_2   │ Sequential   │    384 │\n",
       "│\u001b[2m \u001b[0m\u001b[2m16\u001b[0m\u001b[2m \u001b[0m│ node_dense_2.0 │ Linear       │    112 │\n",
       "│\u001b[2m \u001b[0m\u001b[2m17\u001b[0m\u001b[2m \u001b[0m│ node_dense_2.1 │ LeakyReLU    │      0 │\n",
       "│\u001b[2m \u001b[0m\u001b[2m18\u001b[0m\u001b[2m \u001b[0m│ node_dense_2.2 │ Linear       │    272 │\n",
       "│\u001b[2m \u001b[0m\u001b[2m19\u001b[0m\u001b[2m \u001b[0m│ node_dense_2.3 │ LeakyReLU    │      0 │\n",
       "│\u001b[2m \u001b[0m\u001b[2m20\u001b[0m\u001b[2m \u001b[0m│ MLP            │ Sequential   │  2.1 K │\n",
       "│\u001b[2m \u001b[0m\u001b[2m21\u001b[0m\u001b[2m \u001b[0m│ MLP.0          │ Linear       │  1.1 K │\n",
       "│\u001b[2m \u001b[0m\u001b[2m22\u001b[0m\u001b[2m \u001b[0m│ MLP.1          │ LeakyReLU    │      0 │\n",
       "│\u001b[2m \u001b[0m\u001b[2m23\u001b[0m\u001b[2m \u001b[0m│ MLP.2          │ Linear       │  1.1 K │\n",
       "│\u001b[2m \u001b[0m\u001b[2m24\u001b[0m\u001b[2m \u001b[0m│ MLP.3          │ LeakyReLU    │      0 │\n",
       "│\u001b[2m \u001b[0m\u001b[2m25\u001b[0m\u001b[2m \u001b[0m│ MLP.4          │ Linear       │     33 │\n",
       "│\u001b[2m \u001b[0m\u001b[2m26\u001b[0m\u001b[2m \u001b[0m│ MLP.5          │ Sigmoid      │      0 │\n",
       "│\u001b[2m \u001b[0m\u001b[2m27\u001b[0m\u001b[2m \u001b[0m│ loss_function  │ SmoothL1Loss │      0 │\n",
       "└────┴────────────────┴──────────────┴────────┘\n"
      ]
     },
     "metadata": {},
     "output_type": "display_data"
    },
    {
     "data": {
      "text/html": [
       "<pre style=\"white-space:pre;overflow-x:auto;line-height:normal;font-family:Menlo,'DejaVu Sans Mono',consolas,'Courier New',monospace\"><span style=\"font-weight: bold\">Trainable params</span>: 118 K                                                                                            \n",
       "<span style=\"font-weight: bold\">Non-trainable params</span>: 0                                                                                            \n",
       "<span style=\"font-weight: bold\">Total params</span>: 118 K                                                                                                \n",
       "<span style=\"font-weight: bold\">Total estimated model params size (MB)</span>: 0                                                                          \n",
       "</pre>\n"
      ],
      "text/plain": [
       "\u001b[1mTrainable params\u001b[0m: 118 K                                                                                            \n",
       "\u001b[1mNon-trainable params\u001b[0m: 0                                                                                            \n",
       "\u001b[1mTotal params\u001b[0m: 118 K                                                                                                \n",
       "\u001b[1mTotal estimated model params size (MB)\u001b[0m: 0                                                                          \n"
      ]
     },
     "metadata": {},
     "output_type": "display_data"
    },
    {
     "data": {
      "application/vnd.jupyter.widget-view+json": {
       "model_id": "2aa4d40c37c848ebb582dfb92d7ad0e7",
       "version_major": 2,
       "version_minor": 0
      },
      "text/plain": [
       "Output()"
      ]
     },
     "metadata": {},
     "output_type": "display_data"
    },
    {
     "data": {
      "text/html": [
       "<pre style=\"white-space:pre;overflow-x:auto;line-height:normal;font-family:Menlo,'DejaVu Sans Mono',consolas,'Courier New',monospace\">epoch 0 validation loss 0.6260205507278442\n",
       "</pre>\n"
      ],
      "text/plain": [
       "epoch 0 validation loss 0.6260205507278442\n"
      ]
     },
     "metadata": {},
     "output_type": "display_data"
    },
    {
     "data": {
      "text/html": [
       "<pre style=\"white-space:pre;overflow-x:auto;line-height:normal;font-family:Menlo,'DejaVu Sans Mono',consolas,'Courier New',monospace\">epoch 0 validation score 0.348939393939394\n",
       "</pre>\n"
      ],
      "text/plain": [
       "epoch 0 validation score 0.348939393939394\n"
      ]
     },
     "metadata": {},
     "output_type": "display_data"
    },
    {
     "data": {
      "text/html": [
       "<pre style=\"white-space:pre;overflow-x:auto;line-height:normal;font-family:Menlo,'DejaVu Sans Mono',consolas,'Courier New',monospace\">epoch 0 validation loss 0.4536826014518738\n",
       "</pre>\n"
      ],
      "text/plain": [
       "epoch 0 validation loss 0.4536826014518738\n"
      ]
     },
     "metadata": {},
     "output_type": "display_data"
    },
    {
     "data": {
      "text/html": [
       "<pre style=\"white-space:pre;overflow-x:auto;line-height:normal;font-family:Menlo,'DejaVu Sans Mono',consolas,'Courier New',monospace\">epoch 0 validation score 0.7899271060832768\n",
       "</pre>\n"
      ],
      "text/plain": [
       "epoch 0 validation score 0.7899271060832768\n"
      ]
     },
     "metadata": {},
     "output_type": "display_data"
    },
    {
     "name": "stderr",
     "output_type": "stream",
     "text": [
      "Metric valid_loss improved. New best score: 0.454\n",
      "Epoch 0, global step 623: 'valid_loss' reached 0.45368 (best 0.45368), saving model to '/root/autodl-tmp/kddcup_test/lightning_logs/version_35/checkpoints/epoch=0-step=623.ckpt' as top 1\n"
     ]
    },
    {
     "data": {
      "text/html": [
       "<pre style=\"white-space:pre;overflow-x:auto;line-height:normal;font-family:Menlo,'DejaVu Sans Mono',consolas,'Courier New',monospace\">epoch 1 validation loss 0.4314720034599304\n",
       "</pre>\n"
      ],
      "text/plain": [
       "epoch 1 validation loss 0.4314720034599304\n"
      ]
     },
     "metadata": {},
     "output_type": "display_data"
    },
    {
     "data": {
      "text/html": [
       "<pre style=\"white-space:pre;overflow-x:auto;line-height:normal;font-family:Menlo,'DejaVu Sans Mono',consolas,'Courier New',monospace\">epoch 1 validation score 0.7982149889334874\n",
       "</pre>\n"
      ],
      "text/plain": [
       "epoch 1 validation score 0.7982149889334874\n"
      ]
     },
     "metadata": {},
     "output_type": "display_data"
    },
    {
     "name": "stderr",
     "output_type": "stream",
     "text": [
      "Metric valid_loss improved by 0.022 >= min_delta = 0.0. New best score: 0.431\n",
      "Epoch 1, global step 1246: 'valid_loss' reached 0.43147 (best 0.43147), saving model to '/root/autodl-tmp/kddcup_test/lightning_logs/version_35/checkpoints/epoch=1-step=1246.ckpt' as top 1\n"
     ]
    },
    {
     "data": {
      "text/html": [
       "<pre style=\"white-space:pre;overflow-x:auto;line-height:normal;font-family:Menlo,'DejaVu Sans Mono',consolas,'Courier New',monospace\">epoch 2 validation loss 0.43611401319503784\n",
       "</pre>\n"
      ],
      "text/plain": [
       "epoch 2 validation loss 0.43611401319503784\n"
      ]
     },
     "metadata": {},
     "output_type": "display_data"
    },
    {
     "data": {
      "text/html": [
       "<pre style=\"white-space:pre;overflow-x:auto;line-height:normal;font-family:Menlo,'DejaVu Sans Mono',consolas,'Courier New',monospace\">epoch 2 validation score 0.7935830037319821\n",
       "</pre>\n"
      ],
      "text/plain": [
       "epoch 2 validation score 0.7935830037319821\n"
      ]
     },
     "metadata": {},
     "output_type": "display_data"
    },
    {
     "name": "stderr",
     "output_type": "stream",
     "text": [
      "Epoch 2, global step 1869: 'valid_loss' was not in top 1\n"
     ]
    },
    {
     "data": {
      "text/html": [
       "<pre style=\"white-space:pre;overflow-x:auto;line-height:normal;font-family:Menlo,'DejaVu Sans Mono',consolas,'Courier New',monospace\">epoch 3 validation loss 0.4348675310611725\n",
       "</pre>\n"
      ],
      "text/plain": [
       "epoch 3 validation loss 0.4348675310611725\n"
      ]
     },
     "metadata": {},
     "output_type": "display_data"
    },
    {
     "data": {
      "text/html": [
       "<pre style=\"white-space:pre;overflow-x:auto;line-height:normal;font-family:Menlo,'DejaVu Sans Mono',consolas,'Courier New',monospace\">epoch 3 validation score 0.7970189617437273\n",
       "</pre>\n"
      ],
      "text/plain": [
       "epoch 3 validation score 0.7970189617437273\n"
      ]
     },
     "metadata": {},
     "output_type": "display_data"
    },
    {
     "name": "stderr",
     "output_type": "stream",
     "text": [
      "Epoch 3, global step 2492: 'valid_loss' was not in top 1\n"
     ]
    },
    {
     "data": {
      "text/html": [
       "<pre style=\"white-space:pre;overflow-x:auto;line-height:normal;font-family:Menlo,'DejaVu Sans Mono',consolas,'Courier New',monospace\">epoch 4 validation loss 0.4327722191810608\n",
       "</pre>\n"
      ],
      "text/plain": [
       "epoch 4 validation loss 0.4327722191810608\n"
      ]
     },
     "metadata": {},
     "output_type": "display_data"
    },
    {
     "data": {
      "text/html": [
       "<pre style=\"white-space:pre;overflow-x:auto;line-height:normal;font-family:Menlo,'DejaVu Sans Mono',consolas,'Courier New',monospace\">epoch 4 validation score 0.8009653723705628\n",
       "</pre>\n"
      ],
      "text/plain": [
       "epoch 4 validation score 0.8009653723705628\n"
      ]
     },
     "metadata": {},
     "output_type": "display_data"
    },
    {
     "name": "stderr",
     "output_type": "stream",
     "text": [
      "Monitored metric valid_loss did not improve in the last 3 records. Best score: 0.431. Signaling Trainer to stop.\n",
      "Epoch 4, global step 3115: 'valid_loss' was not in top 1\n"
     ]
    },
    {
     "data": {
      "text/html": [
       "<pre style=\"white-space:pre;overflow-x:auto;line-height:normal;font-family:Menlo,'DejaVu Sans Mono',consolas,'Courier New',monospace\"></pre>\n"
      ],
      "text/plain": []
     },
     "metadata": {},
     "output_type": "display_data"
    },
    {
     "data": {
      "text/html": [
       "<pre style=\"white-space:pre;overflow-x:auto;line-height:normal;font-family:Menlo,'DejaVu Sans Mono',consolas,'Courier New',monospace\">\n",
       "</pre>\n"
      ],
      "text/plain": [
       "\n"
      ]
     },
     "metadata": {},
     "output_type": "display_data"
    },
    {
     "name": "stderr",
     "output_type": "stream",
     "text": [
      "156it [00:02, 70.21it/s]\n",
      "885it [00:11, 80.41it/s]\n",
      "Global seed set to 42\n",
      "Trainer already configured with model summary callbacks: [<class 'pytorch_lightning.callbacks.rich_model_summary.RichModelSummary'>]. Skipping setting a default `ModelSummary` callback.\n",
      "GPU available: True, used: True\n",
      "TPU available: False, using: 0 TPU cores\n",
      "IPU available: False, using: 0 IPUs\n",
      "HPU available: False, using: 0 HPUs\n",
      "LOCAL_RANK: 0 - CUDA_VISIBLE_DEVICES: [0]\n"
     ]
    },
    {
     "data": {
      "text/html": [
       "<pre style=\"white-space:pre;overflow-x:auto;line-height:normal;font-family:Menlo,'DejaVu Sans Mono',consolas,'Courier New',monospace\">┏━━━━┳━━━━━━━━━━━━━━━━┳━━━━━━━━━━━━━━┳━━━━━━━━┓\n",
       "┃<span style=\"color: #800080; text-decoration-color: #800080; font-weight: bold\">    </span>┃<span style=\"color: #800080; text-decoration-color: #800080; font-weight: bold\"> Name           </span>┃<span style=\"color: #800080; text-decoration-color: #800080; font-weight: bold\"> Type         </span>┃<span style=\"color: #800080; text-decoration-color: #800080; font-weight: bold\"> Params </span>┃\n",
       "┡━━━━╇━━━━━━━━━━━━━━━━╇━━━━━━━━━━━━━━╇━━━━━━━━┩\n",
       "│<span style=\"color: #7f7f7f; text-decoration-color: #7f7f7f\"> 0  </span>│ convs          │ ModuleList   │  1.6 K │\n",
       "│<span style=\"color: #7f7f7f; text-decoration-color: #7f7f7f\"> 1  </span>│ convs.0        │ SAGEConv     │    520 │\n",
       "│<span style=\"color: #7f7f7f; text-decoration-color: #7f7f7f\"> 2  </span>│ convs.1        │ SAGEConv     │    520 │\n",
       "│<span style=\"color: #7f7f7f; text-decoration-color: #7f7f7f\"> 3  </span>│ convs.2        │ SAGEConv     │    520 │\n",
       "│<span style=\"color: #7f7f7f; text-decoration-color: #7f7f7f\"> 4  </span>│ rev_convs      │ ModuleList   │  1.6 K │\n",
       "│<span style=\"color: #7f7f7f; text-decoration-color: #7f7f7f\"> 5  </span>│ rev_convs.0    │ SAGEConv     │    520 │\n",
       "│<span style=\"color: #7f7f7f; text-decoration-color: #7f7f7f\"> 6  </span>│ rev_convs.1    │ SAGEConv     │    520 │\n",
       "│<span style=\"color: #7f7f7f; text-decoration-color: #7f7f7f\"> 7  </span>│ rev_convs.2    │ SAGEConv     │    520 │\n",
       "│<span style=\"color: #7f7f7f; text-decoration-color: #7f7f7f\"> 8  </span>│ node_dense     │ Sequential   │  112 K │\n",
       "│<span style=\"color: #7f7f7f; text-decoration-color: #7f7f7f\"> 9  </span>│ node_dense.0   │ Linear       │ 95.5 K │\n",
       "│<span style=\"color: #7f7f7f; text-decoration-color: #7f7f7f\"> 10 </span>│ node_dense.1   │ LeakyReLU    │      0 │\n",
       "│<span style=\"color: #7f7f7f; text-decoration-color: #7f7f7f\"> 11 </span>│ node_dense.2   │ Linear       │ 16.4 K │\n",
       "│<span style=\"color: #7f7f7f; text-decoration-color: #7f7f7f\"> 12 </span>│ node_dense.3   │ LeakyReLU    │      0 │\n",
       "│<span style=\"color: #7f7f7f; text-decoration-color: #7f7f7f\"> 13 </span>│ node_dense.4   │ Linear       │  1.0 K │\n",
       "│<span style=\"color: #7f7f7f; text-decoration-color: #7f7f7f\"> 14 </span>│ node_dense.5   │ LeakyReLU    │      0 │\n",
       "│<span style=\"color: #7f7f7f; text-decoration-color: #7f7f7f\"> 15 </span>│ node_dense_2   │ Sequential   │    384 │\n",
       "│<span style=\"color: #7f7f7f; text-decoration-color: #7f7f7f\"> 16 </span>│ node_dense_2.0 │ Linear       │    112 │\n",
       "│<span style=\"color: #7f7f7f; text-decoration-color: #7f7f7f\"> 17 </span>│ node_dense_2.1 │ LeakyReLU    │      0 │\n",
       "│<span style=\"color: #7f7f7f; text-decoration-color: #7f7f7f\"> 18 </span>│ node_dense_2.2 │ Linear       │    272 │\n",
       "│<span style=\"color: #7f7f7f; text-decoration-color: #7f7f7f\"> 19 </span>│ node_dense_2.3 │ LeakyReLU    │      0 │\n",
       "│<span style=\"color: #7f7f7f; text-decoration-color: #7f7f7f\"> 20 </span>│ MLP            │ Sequential   │  2.1 K │\n",
       "│<span style=\"color: #7f7f7f; text-decoration-color: #7f7f7f\"> 21 </span>│ MLP.0          │ Linear       │  1.1 K │\n",
       "│<span style=\"color: #7f7f7f; text-decoration-color: #7f7f7f\"> 22 </span>│ MLP.1          │ LeakyReLU    │      0 │\n",
       "│<span style=\"color: #7f7f7f; text-decoration-color: #7f7f7f\"> 23 </span>│ MLP.2          │ Linear       │  1.1 K │\n",
       "│<span style=\"color: #7f7f7f; text-decoration-color: #7f7f7f\"> 24 </span>│ MLP.3          │ LeakyReLU    │      0 │\n",
       "│<span style=\"color: #7f7f7f; text-decoration-color: #7f7f7f\"> 25 </span>│ MLP.4          │ Linear       │     33 │\n",
       "│<span style=\"color: #7f7f7f; text-decoration-color: #7f7f7f\"> 26 </span>│ MLP.5          │ Sigmoid      │      0 │\n",
       "│<span style=\"color: #7f7f7f; text-decoration-color: #7f7f7f\"> 27 </span>│ loss_function  │ SmoothL1Loss │      0 │\n",
       "└────┴────────────────┴──────────────┴────────┘\n",
       "</pre>\n"
      ],
      "text/plain": [
       "┏━━━━┳━━━━━━━━━━━━━━━━┳━━━━━━━━━━━━━━┳━━━━━━━━┓\n",
       "┃\u001b[1;35m \u001b[0m\u001b[1;35m  \u001b[0m\u001b[1;35m \u001b[0m┃\u001b[1;35m \u001b[0m\u001b[1;35mName          \u001b[0m\u001b[1;35m \u001b[0m┃\u001b[1;35m \u001b[0m\u001b[1;35mType        \u001b[0m\u001b[1;35m \u001b[0m┃\u001b[1;35m \u001b[0m\u001b[1;35mParams\u001b[0m\u001b[1;35m \u001b[0m┃\n",
       "┡━━━━╇━━━━━━━━━━━━━━━━╇━━━━━━━━━━━━━━╇━━━━━━━━┩\n",
       "│\u001b[2m \u001b[0m\u001b[2m0 \u001b[0m\u001b[2m \u001b[0m│ convs          │ ModuleList   │  1.6 K │\n",
       "│\u001b[2m \u001b[0m\u001b[2m1 \u001b[0m\u001b[2m \u001b[0m│ convs.0        │ SAGEConv     │    520 │\n",
       "│\u001b[2m \u001b[0m\u001b[2m2 \u001b[0m\u001b[2m \u001b[0m│ convs.1        │ SAGEConv     │    520 │\n",
       "│\u001b[2m \u001b[0m\u001b[2m3 \u001b[0m\u001b[2m \u001b[0m│ convs.2        │ SAGEConv     │    520 │\n",
       "│\u001b[2m \u001b[0m\u001b[2m4 \u001b[0m\u001b[2m \u001b[0m│ rev_convs      │ ModuleList   │  1.6 K │\n",
       "│\u001b[2m \u001b[0m\u001b[2m5 \u001b[0m\u001b[2m \u001b[0m│ rev_convs.0    │ SAGEConv     │    520 │\n",
       "│\u001b[2m \u001b[0m\u001b[2m6 \u001b[0m\u001b[2m \u001b[0m│ rev_convs.1    │ SAGEConv     │    520 │\n",
       "│\u001b[2m \u001b[0m\u001b[2m7 \u001b[0m\u001b[2m \u001b[0m│ rev_convs.2    │ SAGEConv     │    520 │\n",
       "│\u001b[2m \u001b[0m\u001b[2m8 \u001b[0m\u001b[2m \u001b[0m│ node_dense     │ Sequential   │  112 K │\n",
       "│\u001b[2m \u001b[0m\u001b[2m9 \u001b[0m\u001b[2m \u001b[0m│ node_dense.0   │ Linear       │ 95.5 K │\n",
       "│\u001b[2m \u001b[0m\u001b[2m10\u001b[0m\u001b[2m \u001b[0m│ node_dense.1   │ LeakyReLU    │      0 │\n",
       "│\u001b[2m \u001b[0m\u001b[2m11\u001b[0m\u001b[2m \u001b[0m│ node_dense.2   │ Linear       │ 16.4 K │\n",
       "│\u001b[2m \u001b[0m\u001b[2m12\u001b[0m\u001b[2m \u001b[0m│ node_dense.3   │ LeakyReLU    │      0 │\n",
       "│\u001b[2m \u001b[0m\u001b[2m13\u001b[0m\u001b[2m \u001b[0m│ node_dense.4   │ Linear       │  1.0 K │\n",
       "│\u001b[2m \u001b[0m\u001b[2m14\u001b[0m\u001b[2m \u001b[0m│ node_dense.5   │ LeakyReLU    │      0 │\n",
       "│\u001b[2m \u001b[0m\u001b[2m15\u001b[0m\u001b[2m \u001b[0m│ node_dense_2   │ Sequential   │    384 │\n",
       "│\u001b[2m \u001b[0m\u001b[2m16\u001b[0m\u001b[2m \u001b[0m│ node_dense_2.0 │ Linear       │    112 │\n",
       "│\u001b[2m \u001b[0m\u001b[2m17\u001b[0m\u001b[2m \u001b[0m│ node_dense_2.1 │ LeakyReLU    │      0 │\n",
       "│\u001b[2m \u001b[0m\u001b[2m18\u001b[0m\u001b[2m \u001b[0m│ node_dense_2.2 │ Linear       │    272 │\n",
       "│\u001b[2m \u001b[0m\u001b[2m19\u001b[0m\u001b[2m \u001b[0m│ node_dense_2.3 │ LeakyReLU    │      0 │\n",
       "│\u001b[2m \u001b[0m\u001b[2m20\u001b[0m\u001b[2m \u001b[0m│ MLP            │ Sequential   │  2.1 K │\n",
       "│\u001b[2m \u001b[0m\u001b[2m21\u001b[0m\u001b[2m \u001b[0m│ MLP.0          │ Linear       │  1.1 K │\n",
       "│\u001b[2m \u001b[0m\u001b[2m22\u001b[0m\u001b[2m \u001b[0m│ MLP.1          │ LeakyReLU    │      0 │\n",
       "│\u001b[2m \u001b[0m\u001b[2m23\u001b[0m\u001b[2m \u001b[0m│ MLP.2          │ Linear       │  1.1 K │\n",
       "│\u001b[2m \u001b[0m\u001b[2m24\u001b[0m\u001b[2m \u001b[0m│ MLP.3          │ LeakyReLU    │      0 │\n",
       "│\u001b[2m \u001b[0m\u001b[2m25\u001b[0m\u001b[2m \u001b[0m│ MLP.4          │ Linear       │     33 │\n",
       "│\u001b[2m \u001b[0m\u001b[2m26\u001b[0m\u001b[2m \u001b[0m│ MLP.5          │ Sigmoid      │      0 │\n",
       "│\u001b[2m \u001b[0m\u001b[2m27\u001b[0m\u001b[2m \u001b[0m│ loss_function  │ SmoothL1Loss │      0 │\n",
       "└────┴────────────────┴──────────────┴────────┘\n"
      ]
     },
     "metadata": {},
     "output_type": "display_data"
    },
    {
     "data": {
      "text/html": [
       "<pre style=\"white-space:pre;overflow-x:auto;line-height:normal;font-family:Menlo,'DejaVu Sans Mono',consolas,'Courier New',monospace\"><span style=\"font-weight: bold\">Trainable params</span>: 118 K                                                                                            \n",
       "<span style=\"font-weight: bold\">Non-trainable params</span>: 0                                                                                            \n",
       "<span style=\"font-weight: bold\">Total params</span>: 118 K                                                                                                \n",
       "<span style=\"font-weight: bold\">Total estimated model params size (MB)</span>: 0                                                                          \n",
       "</pre>\n"
      ],
      "text/plain": [
       "\u001b[1mTrainable params\u001b[0m: 118 K                                                                                            \n",
       "\u001b[1mNon-trainable params\u001b[0m: 0                                                                                            \n",
       "\u001b[1mTotal params\u001b[0m: 118 K                                                                                                \n",
       "\u001b[1mTotal estimated model params size (MB)\u001b[0m: 0                                                                          \n"
      ]
     },
     "metadata": {},
     "output_type": "display_data"
    },
    {
     "data": {
      "application/vnd.jupyter.widget-view+json": {
       "model_id": "cfcc9f9d394542f08867f7e0e84dca01",
       "version_major": 2,
       "version_minor": 0
      },
      "text/plain": [
       "Output()"
      ]
     },
     "metadata": {},
     "output_type": "display_data"
    },
    {
     "data": {
      "text/html": [
       "<pre style=\"white-space:pre;overflow-x:auto;line-height:normal;font-family:Menlo,'DejaVu Sans Mono',consolas,'Courier New',monospace\">epoch 0 validation loss 0.7432014346122742\n",
       "</pre>\n"
      ],
      "text/plain": [
       "epoch 0 validation loss 0.7432014346122742\n"
      ]
     },
     "metadata": {},
     "output_type": "display_data"
    },
    {
     "data": {
      "text/html": [
       "<pre style=\"white-space:pre;overflow-x:auto;line-height:normal;font-family:Menlo,'DejaVu Sans Mono',consolas,'Courier New',monospace\">epoch 0 validation score 0.6614010989010989\n",
       "</pre>\n"
      ],
      "text/plain": [
       "epoch 0 validation score 0.6614010989010989\n"
      ]
     },
     "metadata": {},
     "output_type": "display_data"
    },
    {
     "data": {
      "text/html": [
       "<pre style=\"white-space:pre;overflow-x:auto;line-height:normal;font-family:Menlo,'DejaVu Sans Mono',consolas,'Courier New',monospace\">epoch 0 validation loss 0.4379625618457794\n",
       "</pre>\n"
      ],
      "text/plain": [
       "epoch 0 validation loss 0.4379625618457794\n"
      ]
     },
     "metadata": {},
     "output_type": "display_data"
    },
    {
     "data": {
      "text/html": [
       "<pre style=\"white-space:pre;overflow-x:auto;line-height:normal;font-family:Menlo,'DejaVu Sans Mono',consolas,'Courier New',monospace\">epoch 0 validation score 0.8006191734894742\n",
       "</pre>\n"
      ],
      "text/plain": [
       "epoch 0 validation score 0.8006191734894742\n"
      ]
     },
     "metadata": {},
     "output_type": "display_data"
    },
    {
     "name": "stderr",
     "output_type": "stream",
     "text": [
      "Metric valid_loss improved. New best score: 0.438\n",
      "Epoch 0, global step 623: 'valid_loss' reached 0.43796 (best 0.43796), saving model to '/root/autodl-tmp/kddcup_test/lightning_logs/version_36/checkpoints/epoch=0-step=623.ckpt' as top 1\n"
     ]
    },
    {
     "data": {
      "text/html": [
       "<pre style=\"white-space:pre;overflow-x:auto;line-height:normal;font-family:Menlo,'DejaVu Sans Mono',consolas,'Courier New',monospace\">epoch 1 validation loss 0.4283547103404999\n",
       "</pre>\n"
      ],
      "text/plain": [
       "epoch 1 validation loss 0.4283547103404999\n"
      ]
     },
     "metadata": {},
     "output_type": "display_data"
    },
    {
     "data": {
      "text/html": [
       "<pre style=\"white-space:pre;overflow-x:auto;line-height:normal;font-family:Menlo,'DejaVu Sans Mono',consolas,'Courier New',monospace\">epoch 1 validation score 0.8056961888701419\n",
       "</pre>\n"
      ],
      "text/plain": [
       "epoch 1 validation score 0.8056961888701419\n"
      ]
     },
     "metadata": {},
     "output_type": "display_data"
    },
    {
     "name": "stderr",
     "output_type": "stream",
     "text": [
      "Metric valid_loss improved by 0.010 >= min_delta = 0.0. New best score: 0.428\n",
      "Epoch 1, global step 1246: 'valid_loss' reached 0.42835 (best 0.42835), saving model to '/root/autodl-tmp/kddcup_test/lightning_logs/version_36/checkpoints/epoch=1-step=1246.ckpt' as top 1\n"
     ]
    },
    {
     "data": {
      "text/html": [
       "<pre style=\"white-space:pre;overflow-x:auto;line-height:normal;font-family:Menlo,'DejaVu Sans Mono',consolas,'Courier New',monospace\">epoch 2 validation loss 0.4255009591579437\n",
       "</pre>\n"
      ],
      "text/plain": [
       "epoch 2 validation loss 0.4255009591579437\n"
      ]
     },
     "metadata": {},
     "output_type": "display_data"
    },
    {
     "data": {
      "text/html": [
       "<pre style=\"white-space:pre;overflow-x:auto;line-height:normal;font-family:Menlo,'DejaVu Sans Mono',consolas,'Courier New',monospace\">epoch 2 validation score 0.8052893134442604\n",
       "</pre>\n"
      ],
      "text/plain": [
       "epoch 2 validation score 0.8052893134442604\n"
      ]
     },
     "metadata": {},
     "output_type": "display_data"
    },
    {
     "name": "stderr",
     "output_type": "stream",
     "text": [
      "Metric valid_loss improved by 0.003 >= min_delta = 0.0. New best score: 0.426\n",
      "Epoch 2, global step 1869: 'valid_loss' reached 0.42550 (best 0.42550), saving model to '/root/autodl-tmp/kddcup_test/lightning_logs/version_36/checkpoints/epoch=2-step=1869.ckpt' as top 1\n"
     ]
    },
    {
     "data": {
      "text/html": [
       "<pre style=\"white-space:pre;overflow-x:auto;line-height:normal;font-family:Menlo,'DejaVu Sans Mono',consolas,'Courier New',monospace\">epoch 3 validation loss 0.4249992072582245\n",
       "</pre>\n"
      ],
      "text/plain": [
       "epoch 3 validation loss 0.4249992072582245\n"
      ]
     },
     "metadata": {},
     "output_type": "display_data"
    },
    {
     "data": {
      "text/html": [
       "<pre style=\"white-space:pre;overflow-x:auto;line-height:normal;font-family:Menlo,'DejaVu Sans Mono',consolas,'Courier New',monospace\">epoch 3 validation score 0.8042336910549015\n",
       "</pre>\n"
      ],
      "text/plain": [
       "epoch 3 validation score 0.8042336910549015\n"
      ]
     },
     "metadata": {},
     "output_type": "display_data"
    },
    {
     "name": "stderr",
     "output_type": "stream",
     "text": [
      "Metric valid_loss improved by 0.001 >= min_delta = 0.0. New best score: 0.425\n",
      "Epoch 3, global step 2492: 'valid_loss' reached 0.42500 (best 0.42500), saving model to '/root/autodl-tmp/kddcup_test/lightning_logs/version_36/checkpoints/epoch=3-step=2492.ckpt' as top 1\n"
     ]
    },
    {
     "data": {
      "text/html": [
       "<pre style=\"white-space:pre;overflow-x:auto;line-height:normal;font-family:Menlo,'DejaVu Sans Mono',consolas,'Courier New',monospace\">epoch 4 validation loss 0.42172712087631226\n",
       "</pre>\n"
      ],
      "text/plain": [
       "epoch 4 validation loss 0.42172712087631226\n"
      ]
     },
     "metadata": {},
     "output_type": "display_data"
    },
    {
     "data": {
      "text/html": [
       "<pre style=\"white-space:pre;overflow-x:auto;line-height:normal;font-family:Menlo,'DejaVu Sans Mono',consolas,'Courier New',monospace\">epoch 4 validation score 0.8078736213673725\n",
       "</pre>\n"
      ],
      "text/plain": [
       "epoch 4 validation score 0.8078736213673725\n"
      ]
     },
     "metadata": {},
     "output_type": "display_data"
    },
    {
     "name": "stderr",
     "output_type": "stream",
     "text": [
      "Metric valid_loss improved by 0.003 >= min_delta = 0.0. New best score: 0.422\n",
      "Epoch 4, global step 3115: 'valid_loss' reached 0.42173 (best 0.42173), saving model to '/root/autodl-tmp/kddcup_test/lightning_logs/version_36/checkpoints/epoch=4-step=3115.ckpt' as top 1\n"
     ]
    },
    {
     "data": {
      "text/html": [
       "<pre style=\"white-space:pre;overflow-x:auto;line-height:normal;font-family:Menlo,'DejaVu Sans Mono',consolas,'Courier New',monospace\">epoch 5 validation loss 0.4182147681713104\n",
       "</pre>\n"
      ],
      "text/plain": [
       "epoch 5 validation loss 0.4182147681713104\n"
      ]
     },
     "metadata": {},
     "output_type": "display_data"
    },
    {
     "data": {
      "text/html": [
       "<pre style=\"white-space:pre;overflow-x:auto;line-height:normal;font-family:Menlo,'DejaVu Sans Mono',consolas,'Courier New',monospace\">epoch 5 validation score 0.8133701311524673\n",
       "</pre>\n"
      ],
      "text/plain": [
       "epoch 5 validation score 0.8133701311524673\n"
      ]
     },
     "metadata": {},
     "output_type": "display_data"
    },
    {
     "name": "stderr",
     "output_type": "stream",
     "text": [
      "Metric valid_loss improved by 0.004 >= min_delta = 0.0. New best score: 0.418\n",
      "Epoch 5, global step 3738: 'valid_loss' reached 0.41821 (best 0.41821), saving model to '/root/autodl-tmp/kddcup_test/lightning_logs/version_36/checkpoints/epoch=5-step=3738.ckpt' as top 1\n"
     ]
    },
    {
     "data": {
      "text/html": [
       "<pre style=\"white-space:pre;overflow-x:auto;line-height:normal;font-family:Menlo,'DejaVu Sans Mono',consolas,'Courier New',monospace\">epoch 6 validation loss 0.41572120785713196\n",
       "</pre>\n"
      ],
      "text/plain": [
       "epoch 6 validation loss 0.41572120785713196\n"
      ]
     },
     "metadata": {},
     "output_type": "display_data"
    },
    {
     "data": {
      "text/html": [
       "<pre style=\"white-space:pre;overflow-x:auto;line-height:normal;font-family:Menlo,'DejaVu Sans Mono',consolas,'Courier New',monospace\">epoch 6 validation score 0.8051156019234009\n",
       "</pre>\n"
      ],
      "text/plain": [
       "epoch 6 validation score 0.8051156019234009\n"
      ]
     },
     "metadata": {},
     "output_type": "display_data"
    },
    {
     "name": "stderr",
     "output_type": "stream",
     "text": [
      "Metric valid_loss improved by 0.002 >= min_delta = 0.0. New best score: 0.416\n",
      "Epoch 6, global step 4361: 'valid_loss' reached 0.41572 (best 0.41572), saving model to '/root/autodl-tmp/kddcup_test/lightning_logs/version_36/checkpoints/epoch=6-step=4361.ckpt' as top 1\n"
     ]
    },
    {
     "data": {
      "text/html": [
       "<pre style=\"white-space:pre;overflow-x:auto;line-height:normal;font-family:Menlo,'DejaVu Sans Mono',consolas,'Courier New',monospace\">epoch 7 validation loss 0.4110705256462097\n",
       "</pre>\n"
      ],
      "text/plain": [
       "epoch 7 validation loss 0.4110705256462097\n"
      ]
     },
     "metadata": {},
     "output_type": "display_data"
    },
    {
     "data": {
      "text/html": [
       "<pre style=\"white-space:pre;overflow-x:auto;line-height:normal;font-family:Menlo,'DejaVu Sans Mono',consolas,'Courier New',monospace\">epoch 7 validation score 0.8143158804609926\n",
       "</pre>\n"
      ],
      "text/plain": [
       "epoch 7 validation score 0.8143158804609926\n"
      ]
     },
     "metadata": {},
     "output_type": "display_data"
    },
    {
     "name": "stderr",
     "output_type": "stream",
     "text": [
      "Metric valid_loss improved by 0.005 >= min_delta = 0.0. New best score: 0.411\n",
      "Epoch 7, global step 4984: 'valid_loss' reached 0.41107 (best 0.41107), saving model to '/root/autodl-tmp/kddcup_test/lightning_logs/version_36/checkpoints/epoch=7-step=4984.ckpt' as top 1\n"
     ]
    },
    {
     "data": {
      "text/html": [
       "<pre style=\"white-space:pre;overflow-x:auto;line-height:normal;font-family:Menlo,'DejaVu Sans Mono',consolas,'Courier New',monospace\">epoch 8 validation loss 0.4076884090900421\n",
       "</pre>\n"
      ],
      "text/plain": [
       "epoch 8 validation loss 0.4076884090900421\n"
      ]
     },
     "metadata": {},
     "output_type": "display_data"
    },
    {
     "data": {
      "text/html": [
       "<pre style=\"white-space:pre;overflow-x:auto;line-height:normal;font-family:Menlo,'DejaVu Sans Mono',consolas,'Courier New',monospace\">epoch 8 validation score 0.8129861156785011\n",
       "</pre>\n"
      ],
      "text/plain": [
       "epoch 8 validation score 0.8129861156785011\n"
      ]
     },
     "metadata": {},
     "output_type": "display_data"
    },
    {
     "name": "stderr",
     "output_type": "stream",
     "text": [
      "Metric valid_loss improved by 0.003 >= min_delta = 0.0. New best score: 0.408\n",
      "Epoch 8, global step 5607: 'valid_loss' reached 0.40769 (best 0.40769), saving model to '/root/autodl-tmp/kddcup_test/lightning_logs/version_36/checkpoints/epoch=8-step=5607.ckpt' as top 1\n"
     ]
    },
    {
     "data": {
      "text/html": [
       "<pre style=\"white-space:pre;overflow-x:auto;line-height:normal;font-family:Menlo,'DejaVu Sans Mono',consolas,'Courier New',monospace\">epoch 9 validation loss 0.4039844274520874\n",
       "</pre>\n"
      ],
      "text/plain": [
       "epoch 9 validation loss 0.4039844274520874\n"
      ]
     },
     "metadata": {},
     "output_type": "display_data"
    },
    {
     "data": {
      "text/html": [
       "<pre style=\"white-space:pre;overflow-x:auto;line-height:normal;font-family:Menlo,'DejaVu Sans Mono',consolas,'Courier New',monospace\">epoch 9 validation score 0.8141566777852548\n",
       "</pre>\n"
      ],
      "text/plain": [
       "epoch 9 validation score 0.8141566777852548\n"
      ]
     },
     "metadata": {},
     "output_type": "display_data"
    },
    {
     "name": "stderr",
     "output_type": "stream",
     "text": [
      "Metric valid_loss improved by 0.004 >= min_delta = 0.0. New best score: 0.404\n",
      "Epoch 9, global step 6230: 'valid_loss' reached 0.40398 (best 0.40398), saving model to '/root/autodl-tmp/kddcup_test/lightning_logs/version_36/checkpoints/epoch=9-step=6230.ckpt' as top 1\n"
     ]
    },
    {
     "data": {
      "text/html": [
       "<pre style=\"white-space:pre;overflow-x:auto;line-height:normal;font-family:Menlo,'DejaVu Sans Mono',consolas,'Courier New',monospace\">epoch 10 validation loss 0.40029236674308777\n",
       "</pre>\n"
      ],
      "text/plain": [
       "epoch 10 validation loss 0.40029236674308777\n"
      ]
     },
     "metadata": {},
     "output_type": "display_data"
    },
    {
     "data": {
      "text/html": [
       "<pre style=\"white-space:pre;overflow-x:auto;line-height:normal;font-family:Menlo,'DejaVu Sans Mono',consolas,'Courier New',monospace\">epoch 10 validation score 0.8145365656369332\n",
       "</pre>\n"
      ],
      "text/plain": [
       "epoch 10 validation score 0.8145365656369332\n"
      ]
     },
     "metadata": {},
     "output_type": "display_data"
    },
    {
     "name": "stderr",
     "output_type": "stream",
     "text": [
      "Metric valid_loss improved by 0.004 >= min_delta = 0.0. New best score: 0.400\n",
      "Epoch 10, global step 6853: 'valid_loss' reached 0.40029 (best 0.40029), saving model to '/root/autodl-tmp/kddcup_test/lightning_logs/version_36/checkpoints/epoch=10-step=6853.ckpt' as top 1\n"
     ]
    },
    {
     "data": {
      "text/html": [
       "<pre style=\"white-space:pre;overflow-x:auto;line-height:normal;font-family:Menlo,'DejaVu Sans Mono',consolas,'Courier New',monospace\">epoch 11 validation loss 0.3981480896472931\n",
       "</pre>\n"
      ],
      "text/plain": [
       "epoch 11 validation loss 0.3981480896472931\n"
      ]
     },
     "metadata": {},
     "output_type": "display_data"
    },
    {
     "data": {
      "text/html": [
       "<pre style=\"white-space:pre;overflow-x:auto;line-height:normal;font-family:Menlo,'DejaVu Sans Mono',consolas,'Courier New',monospace\">epoch 11 validation score 0.8165538826158301\n",
       "</pre>\n"
      ],
      "text/plain": [
       "epoch 11 validation score 0.8165538826158301\n"
      ]
     },
     "metadata": {},
     "output_type": "display_data"
    },
    {
     "name": "stderr",
     "output_type": "stream",
     "text": [
      "Metric valid_loss improved by 0.002 >= min_delta = 0.0. New best score: 0.398\n",
      "Epoch 11, global step 7476: 'valid_loss' reached 0.39815 (best 0.39815), saving model to '/root/autodl-tmp/kddcup_test/lightning_logs/version_36/checkpoints/epoch=11-step=7476.ckpt' as top 1\n"
     ]
    },
    {
     "data": {
      "text/html": [
       "<pre style=\"white-space:pre;overflow-x:auto;line-height:normal;font-family:Menlo,'DejaVu Sans Mono',consolas,'Courier New',monospace\">epoch 12 validation loss 0.39656028151512146\n",
       "</pre>\n"
      ],
      "text/plain": [
       "epoch 12 validation loss 0.39656028151512146\n"
      ]
     },
     "metadata": {},
     "output_type": "display_data"
    },
    {
     "data": {
      "text/html": [
       "<pre style=\"white-space:pre;overflow-x:auto;line-height:normal;font-family:Menlo,'DejaVu Sans Mono',consolas,'Courier New',monospace\">epoch 12 validation score 0.8165034580296251\n",
       "</pre>\n"
      ],
      "text/plain": [
       "epoch 12 validation score 0.8165034580296251\n"
      ]
     },
     "metadata": {},
     "output_type": "display_data"
    },
    {
     "name": "stderr",
     "output_type": "stream",
     "text": [
      "Metric valid_loss improved by 0.002 >= min_delta = 0.0. New best score: 0.397\n",
      "Epoch 12, global step 8099: 'valid_loss' reached 0.39656 (best 0.39656), saving model to '/root/autodl-tmp/kddcup_test/lightning_logs/version_36/checkpoints/epoch=12-step=8099.ckpt' as top 1\n"
     ]
    },
    {
     "data": {
      "text/html": [
       "<pre style=\"white-space:pre;overflow-x:auto;line-height:normal;font-family:Menlo,'DejaVu Sans Mono',consolas,'Courier New',monospace\">epoch 13 validation loss 0.3963854908943176\n",
       "</pre>\n"
      ],
      "text/plain": [
       "epoch 13 validation loss 0.3963854908943176\n"
      ]
     },
     "metadata": {},
     "output_type": "display_data"
    },
    {
     "data": {
      "text/html": [
       "<pre style=\"white-space:pre;overflow-x:auto;line-height:normal;font-family:Menlo,'DejaVu Sans Mono',consolas,'Courier New',monospace\">epoch 13 validation score 0.8160422284231919\n",
       "</pre>\n"
      ],
      "text/plain": [
       "epoch 13 validation score 0.8160422284231919\n"
      ]
     },
     "metadata": {},
     "output_type": "display_data"
    },
    {
     "name": "stderr",
     "output_type": "stream",
     "text": [
      "Metric valid_loss improved by 0.000 >= min_delta = 0.0. New best score: 0.396\n",
      "Epoch 13, global step 8722: 'valid_loss' reached 0.39639 (best 0.39639), saving model to '/root/autodl-tmp/kddcup_test/lightning_logs/version_36/checkpoints/epoch=13-step=8722.ckpt' as top 1\n"
     ]
    },
    {
     "data": {
      "text/html": [
       "<pre style=\"white-space:pre;overflow-x:auto;line-height:normal;font-family:Menlo,'DejaVu Sans Mono',consolas,'Courier New',monospace\">epoch 14 validation loss 0.3961832821369171\n",
       "</pre>\n"
      ],
      "text/plain": [
       "epoch 14 validation loss 0.3961832821369171\n"
      ]
     },
     "metadata": {},
     "output_type": "display_data"
    },
    {
     "data": {
      "text/html": [
       "<pre style=\"white-space:pre;overflow-x:auto;line-height:normal;font-family:Menlo,'DejaVu Sans Mono',consolas,'Courier New',monospace\">epoch 14 validation score 0.8175350990155194\n",
       "</pre>\n"
      ],
      "text/plain": [
       "epoch 14 validation score 0.8175350990155194\n"
      ]
     },
     "metadata": {},
     "output_type": "display_data"
    },
    {
     "name": "stderr",
     "output_type": "stream",
     "text": [
      "Metric valid_loss improved by 0.000 >= min_delta = 0.0. New best score: 0.396\n",
      "Epoch 14, global step 9345: 'valid_loss' reached 0.39618 (best 0.39618), saving model to '/root/autodl-tmp/kddcup_test/lightning_logs/version_36/checkpoints/epoch=14-step=9345.ckpt' as top 1\n"
     ]
    },
    {
     "data": {
      "text/html": [
       "<pre style=\"white-space:pre;overflow-x:auto;line-height:normal;font-family:Menlo,'DejaVu Sans Mono',consolas,'Courier New',monospace\">epoch 15 validation loss 0.39639508724212646\n",
       "</pre>\n"
      ],
      "text/plain": [
       "epoch 15 validation loss 0.39639508724212646\n"
      ]
     },
     "metadata": {},
     "output_type": "display_data"
    },
    {
     "data": {
      "text/html": [
       "<pre style=\"white-space:pre;overflow-x:auto;line-height:normal;font-family:Menlo,'DejaVu Sans Mono',consolas,'Courier New',monospace\">epoch 15 validation score 0.8167477744567554\n",
       "</pre>\n"
      ],
      "text/plain": [
       "epoch 15 validation score 0.8167477744567554\n"
      ]
     },
     "metadata": {},
     "output_type": "display_data"
    },
    {
     "name": "stderr",
     "output_type": "stream",
     "text": [
      "Epoch 15, global step 9968: 'valid_loss' was not in top 1\n"
     ]
    },
    {
     "data": {
      "text/html": [
       "<pre style=\"white-space:pre;overflow-x:auto;line-height:normal;font-family:Menlo,'DejaVu Sans Mono',consolas,'Courier New',monospace\">epoch 16 validation loss 0.3963661193847656\n",
       "</pre>\n"
      ],
      "text/plain": [
       "epoch 16 validation loss 0.3963661193847656\n"
      ]
     },
     "metadata": {},
     "output_type": "display_data"
    },
    {
     "data": {
      "text/html": [
       "<pre style=\"white-space:pre;overflow-x:auto;line-height:normal;font-family:Menlo,'DejaVu Sans Mono',consolas,'Courier New',monospace\">epoch 16 validation score 0.8167989482700635\n",
       "</pre>\n"
      ],
      "text/plain": [
       "epoch 16 validation score 0.8167989482700635\n"
      ]
     },
     "metadata": {},
     "output_type": "display_data"
    },
    {
     "name": "stderr",
     "output_type": "stream",
     "text": [
      "Epoch 16, global step 10591: 'valid_loss' was not in top 1\n"
     ]
    },
    {
     "data": {
      "text/html": [
       "<pre style=\"white-space:pre;overflow-x:auto;line-height:normal;font-family:Menlo,'DejaVu Sans Mono',consolas,'Courier New',monospace\">epoch 17 validation loss 0.3964517414569855\n",
       "</pre>\n"
      ],
      "text/plain": [
       "epoch 17 validation loss 0.3964517414569855\n"
      ]
     },
     "metadata": {},
     "output_type": "display_data"
    },
    {
     "data": {
      "text/html": [
       "<pre style=\"white-space:pre;overflow-x:auto;line-height:normal;font-family:Menlo,'DejaVu Sans Mono',consolas,'Courier New',monospace\">epoch 17 validation score 0.8164333577400118\n",
       "</pre>\n"
      ],
      "text/plain": [
       "epoch 17 validation score 0.8164333577400118\n"
      ]
     },
     "metadata": {},
     "output_type": "display_data"
    },
    {
     "name": "stderr",
     "output_type": "stream",
     "text": [
      "Monitored metric valid_loss did not improve in the last 3 records. Best score: 0.396. Signaling Trainer to stop.\n",
      "Epoch 17, global step 11214: 'valid_loss' was not in top 1\n"
     ]
    },
    {
     "data": {
      "text/html": [
       "<pre style=\"white-space:pre;overflow-x:auto;line-height:normal;font-family:Menlo,'DejaVu Sans Mono',consolas,'Courier New',monospace\"></pre>\n"
      ],
      "text/plain": []
     },
     "metadata": {},
     "output_type": "display_data"
    },
    {
     "data": {
      "text/html": [
       "<pre style=\"white-space:pre;overflow-x:auto;line-height:normal;font-family:Menlo,'DejaVu Sans Mono',consolas,'Courier New',monospace\">\n",
       "</pre>\n"
      ],
      "text/plain": [
       "\n"
      ]
     },
     "metadata": {},
     "output_type": "display_data"
    },
    {
     "name": "stderr",
     "output_type": "stream",
     "text": [
      "156it [00:02, 63.51it/s]\n",
      "885it [00:11, 76.73it/s]\n",
      "Global seed set to 42\n",
      "Trainer already configured with model summary callbacks: [<class 'pytorch_lightning.callbacks.rich_model_summary.RichModelSummary'>]. Skipping setting a default `ModelSummary` callback.\n",
      "GPU available: True, used: True\n",
      "TPU available: False, using: 0 TPU cores\n",
      "IPU available: False, using: 0 IPUs\n",
      "HPU available: False, using: 0 HPUs\n",
      "LOCAL_RANK: 0 - CUDA_VISIBLE_DEVICES: [0]\n"
     ]
    },
    {
     "data": {
      "text/html": [
       "<pre style=\"white-space:pre;overflow-x:auto;line-height:normal;font-family:Menlo,'DejaVu Sans Mono',consolas,'Courier New',monospace\">┏━━━━┳━━━━━━━━━━━━━━━━┳━━━━━━━━━━━━━━┳━━━━━━━━┓\n",
       "┃<span style=\"color: #800080; text-decoration-color: #800080; font-weight: bold\">    </span>┃<span style=\"color: #800080; text-decoration-color: #800080; font-weight: bold\"> Name           </span>┃<span style=\"color: #800080; text-decoration-color: #800080; font-weight: bold\"> Type         </span>┃<span style=\"color: #800080; text-decoration-color: #800080; font-weight: bold\"> Params </span>┃\n",
       "┡━━━━╇━━━━━━━━━━━━━━━━╇━━━━━━━━━━━━━━╇━━━━━━━━┩\n",
       "│<span style=\"color: #7f7f7f; text-decoration-color: #7f7f7f\"> 0  </span>│ convs          │ ModuleList   │  1.6 K │\n",
       "│<span style=\"color: #7f7f7f; text-decoration-color: #7f7f7f\"> 1  </span>│ convs.0        │ SAGEConv     │    520 │\n",
       "│<span style=\"color: #7f7f7f; text-decoration-color: #7f7f7f\"> 2  </span>│ convs.1        │ SAGEConv     │    520 │\n",
       "│<span style=\"color: #7f7f7f; text-decoration-color: #7f7f7f\"> 3  </span>│ convs.2        │ SAGEConv     │    520 │\n",
       "│<span style=\"color: #7f7f7f; text-decoration-color: #7f7f7f\"> 4  </span>│ rev_convs      │ ModuleList   │  1.6 K │\n",
       "│<span style=\"color: #7f7f7f; text-decoration-color: #7f7f7f\"> 5  </span>│ rev_convs.0    │ SAGEConv     │    520 │\n",
       "│<span style=\"color: #7f7f7f; text-decoration-color: #7f7f7f\"> 6  </span>│ rev_convs.1    │ SAGEConv     │    520 │\n",
       "│<span style=\"color: #7f7f7f; text-decoration-color: #7f7f7f\"> 7  </span>│ rev_convs.2    │ SAGEConv     │    520 │\n",
       "│<span style=\"color: #7f7f7f; text-decoration-color: #7f7f7f\"> 8  </span>│ node_dense     │ Sequential   │  112 K │\n",
       "│<span style=\"color: #7f7f7f; text-decoration-color: #7f7f7f\"> 9  </span>│ node_dense.0   │ Linear       │ 95.5 K │\n",
       "│<span style=\"color: #7f7f7f; text-decoration-color: #7f7f7f\"> 10 </span>│ node_dense.1   │ LeakyReLU    │      0 │\n",
       "│<span style=\"color: #7f7f7f; text-decoration-color: #7f7f7f\"> 11 </span>│ node_dense.2   │ Linear       │ 16.4 K │\n",
       "│<span style=\"color: #7f7f7f; text-decoration-color: #7f7f7f\"> 12 </span>│ node_dense.3   │ LeakyReLU    │      0 │\n",
       "│<span style=\"color: #7f7f7f; text-decoration-color: #7f7f7f\"> 13 </span>│ node_dense.4   │ Linear       │  1.0 K │\n",
       "│<span style=\"color: #7f7f7f; text-decoration-color: #7f7f7f\"> 14 </span>│ node_dense.5   │ LeakyReLU    │      0 │\n",
       "│<span style=\"color: #7f7f7f; text-decoration-color: #7f7f7f\"> 15 </span>│ node_dense_2   │ Sequential   │    384 │\n",
       "│<span style=\"color: #7f7f7f; text-decoration-color: #7f7f7f\"> 16 </span>│ node_dense_2.0 │ Linear       │    112 │\n",
       "│<span style=\"color: #7f7f7f; text-decoration-color: #7f7f7f\"> 17 </span>│ node_dense_2.1 │ LeakyReLU    │      0 │\n",
       "│<span style=\"color: #7f7f7f; text-decoration-color: #7f7f7f\"> 18 </span>│ node_dense_2.2 │ Linear       │    272 │\n",
       "│<span style=\"color: #7f7f7f; text-decoration-color: #7f7f7f\"> 19 </span>│ node_dense_2.3 │ LeakyReLU    │      0 │\n",
       "│<span style=\"color: #7f7f7f; text-decoration-color: #7f7f7f\"> 20 </span>│ MLP            │ Sequential   │  2.1 K │\n",
       "│<span style=\"color: #7f7f7f; text-decoration-color: #7f7f7f\"> 21 </span>│ MLP.0          │ Linear       │  1.1 K │\n",
       "│<span style=\"color: #7f7f7f; text-decoration-color: #7f7f7f\"> 22 </span>│ MLP.1          │ LeakyReLU    │      0 │\n",
       "│<span style=\"color: #7f7f7f; text-decoration-color: #7f7f7f\"> 23 </span>│ MLP.2          │ Linear       │  1.1 K │\n",
       "│<span style=\"color: #7f7f7f; text-decoration-color: #7f7f7f\"> 24 </span>│ MLP.3          │ LeakyReLU    │      0 │\n",
       "│<span style=\"color: #7f7f7f; text-decoration-color: #7f7f7f\"> 25 </span>│ MLP.4          │ Linear       │     33 │\n",
       "│<span style=\"color: #7f7f7f; text-decoration-color: #7f7f7f\"> 26 </span>│ MLP.5          │ Sigmoid      │      0 │\n",
       "│<span style=\"color: #7f7f7f; text-decoration-color: #7f7f7f\"> 27 </span>│ loss_function  │ SmoothL1Loss │      0 │\n",
       "└────┴────────────────┴──────────────┴────────┘\n",
       "</pre>\n"
      ],
      "text/plain": [
       "┏━━━━┳━━━━━━━━━━━━━━━━┳━━━━━━━━━━━━━━┳━━━━━━━━┓\n",
       "┃\u001b[1;35m \u001b[0m\u001b[1;35m  \u001b[0m\u001b[1;35m \u001b[0m┃\u001b[1;35m \u001b[0m\u001b[1;35mName          \u001b[0m\u001b[1;35m \u001b[0m┃\u001b[1;35m \u001b[0m\u001b[1;35mType        \u001b[0m\u001b[1;35m \u001b[0m┃\u001b[1;35m \u001b[0m\u001b[1;35mParams\u001b[0m\u001b[1;35m \u001b[0m┃\n",
       "┡━━━━╇━━━━━━━━━━━━━━━━╇━━━━━━━━━━━━━━╇━━━━━━━━┩\n",
       "│\u001b[2m \u001b[0m\u001b[2m0 \u001b[0m\u001b[2m \u001b[0m│ convs          │ ModuleList   │  1.6 K │\n",
       "│\u001b[2m \u001b[0m\u001b[2m1 \u001b[0m\u001b[2m \u001b[0m│ convs.0        │ SAGEConv     │    520 │\n",
       "│\u001b[2m \u001b[0m\u001b[2m2 \u001b[0m\u001b[2m \u001b[0m│ convs.1        │ SAGEConv     │    520 │\n",
       "│\u001b[2m \u001b[0m\u001b[2m3 \u001b[0m\u001b[2m \u001b[0m│ convs.2        │ SAGEConv     │    520 │\n",
       "│\u001b[2m \u001b[0m\u001b[2m4 \u001b[0m\u001b[2m \u001b[0m│ rev_convs      │ ModuleList   │  1.6 K │\n",
       "│\u001b[2m \u001b[0m\u001b[2m5 \u001b[0m\u001b[2m \u001b[0m│ rev_convs.0    │ SAGEConv     │    520 │\n",
       "│\u001b[2m \u001b[0m\u001b[2m6 \u001b[0m\u001b[2m \u001b[0m│ rev_convs.1    │ SAGEConv     │    520 │\n",
       "│\u001b[2m \u001b[0m\u001b[2m7 \u001b[0m\u001b[2m \u001b[0m│ rev_convs.2    │ SAGEConv     │    520 │\n",
       "│\u001b[2m \u001b[0m\u001b[2m8 \u001b[0m\u001b[2m \u001b[0m│ node_dense     │ Sequential   │  112 K │\n",
       "│\u001b[2m \u001b[0m\u001b[2m9 \u001b[0m\u001b[2m \u001b[0m│ node_dense.0   │ Linear       │ 95.5 K │\n",
       "│\u001b[2m \u001b[0m\u001b[2m10\u001b[0m\u001b[2m \u001b[0m│ node_dense.1   │ LeakyReLU    │      0 │\n",
       "│\u001b[2m \u001b[0m\u001b[2m11\u001b[0m\u001b[2m \u001b[0m│ node_dense.2   │ Linear       │ 16.4 K │\n",
       "│\u001b[2m \u001b[0m\u001b[2m12\u001b[0m\u001b[2m \u001b[0m│ node_dense.3   │ LeakyReLU    │      0 │\n",
       "│\u001b[2m \u001b[0m\u001b[2m13\u001b[0m\u001b[2m \u001b[0m│ node_dense.4   │ Linear       │  1.0 K │\n",
       "│\u001b[2m \u001b[0m\u001b[2m14\u001b[0m\u001b[2m \u001b[0m│ node_dense.5   │ LeakyReLU    │      0 │\n",
       "│\u001b[2m \u001b[0m\u001b[2m15\u001b[0m\u001b[2m \u001b[0m│ node_dense_2   │ Sequential   │    384 │\n",
       "│\u001b[2m \u001b[0m\u001b[2m16\u001b[0m\u001b[2m \u001b[0m│ node_dense_2.0 │ Linear       │    112 │\n",
       "│\u001b[2m \u001b[0m\u001b[2m17\u001b[0m\u001b[2m \u001b[0m│ node_dense_2.1 │ LeakyReLU    │      0 │\n",
       "│\u001b[2m \u001b[0m\u001b[2m18\u001b[0m\u001b[2m \u001b[0m│ node_dense_2.2 │ Linear       │    272 │\n",
       "│\u001b[2m \u001b[0m\u001b[2m19\u001b[0m\u001b[2m \u001b[0m│ node_dense_2.3 │ LeakyReLU    │      0 │\n",
       "│\u001b[2m \u001b[0m\u001b[2m20\u001b[0m\u001b[2m \u001b[0m│ MLP            │ Sequential   │  2.1 K │\n",
       "│\u001b[2m \u001b[0m\u001b[2m21\u001b[0m\u001b[2m \u001b[0m│ MLP.0          │ Linear       │  1.1 K │\n",
       "│\u001b[2m \u001b[0m\u001b[2m22\u001b[0m\u001b[2m \u001b[0m│ MLP.1          │ LeakyReLU    │      0 │\n",
       "│\u001b[2m \u001b[0m\u001b[2m23\u001b[0m\u001b[2m \u001b[0m│ MLP.2          │ Linear       │  1.1 K │\n",
       "│\u001b[2m \u001b[0m\u001b[2m24\u001b[0m\u001b[2m \u001b[0m│ MLP.3          │ LeakyReLU    │      0 │\n",
       "│\u001b[2m \u001b[0m\u001b[2m25\u001b[0m\u001b[2m \u001b[0m│ MLP.4          │ Linear       │     33 │\n",
       "│\u001b[2m \u001b[0m\u001b[2m26\u001b[0m\u001b[2m \u001b[0m│ MLP.5          │ Sigmoid      │      0 │\n",
       "│\u001b[2m \u001b[0m\u001b[2m27\u001b[0m\u001b[2m \u001b[0m│ loss_function  │ SmoothL1Loss │      0 │\n",
       "└────┴────────────────┴──────────────┴────────┘\n"
      ]
     },
     "metadata": {},
     "output_type": "display_data"
    },
    {
     "data": {
      "text/html": [
       "<pre style=\"white-space:pre;overflow-x:auto;line-height:normal;font-family:Menlo,'DejaVu Sans Mono',consolas,'Courier New',monospace\"><span style=\"font-weight: bold\">Trainable params</span>: 118 K                                                                                            \n",
       "<span style=\"font-weight: bold\">Non-trainable params</span>: 0                                                                                            \n",
       "<span style=\"font-weight: bold\">Total params</span>: 118 K                                                                                                \n",
       "<span style=\"font-weight: bold\">Total estimated model params size (MB)</span>: 0                                                                          \n",
       "</pre>\n"
      ],
      "text/plain": [
       "\u001b[1mTrainable params\u001b[0m: 118 K                                                                                            \n",
       "\u001b[1mNon-trainable params\u001b[0m: 0                                                                                            \n",
       "\u001b[1mTotal params\u001b[0m: 118 K                                                                                                \n",
       "\u001b[1mTotal estimated model params size (MB)\u001b[0m: 0                                                                          \n"
      ]
     },
     "metadata": {},
     "output_type": "display_data"
    },
    {
     "data": {
      "application/vnd.jupyter.widget-view+json": {
       "model_id": "b5491bcd91944780a8744787e3e86f0c",
       "version_major": 2,
       "version_minor": 0
      },
      "text/plain": [
       "Output()"
      ]
     },
     "metadata": {},
     "output_type": "display_data"
    },
    {
     "data": {
      "text/html": [
       "<pre style=\"white-space:pre;overflow-x:auto;line-height:normal;font-family:Menlo,'DejaVu Sans Mono',consolas,'Courier New',monospace\">epoch 0 validation loss 0.655906081199646\n",
       "</pre>\n"
      ],
      "text/plain": [
       "epoch 0 validation loss 0.655906081199646\n"
      ]
     },
     "metadata": {},
     "output_type": "display_data"
    },
    {
     "data": {
      "text/html": [
       "<pre style=\"white-space:pre;overflow-x:auto;line-height:normal;font-family:Menlo,'DejaVu Sans Mono',consolas,'Courier New',monospace\">epoch 0 validation score 0.10644960325267229\n",
       "</pre>\n"
      ],
      "text/plain": [
       "epoch 0 validation score 0.10644960325267229\n"
      ]
     },
     "metadata": {},
     "output_type": "display_data"
    },
    {
     "data": {
      "text/html": [
       "<pre style=\"white-space:pre;overflow-x:auto;line-height:normal;font-family:Menlo,'DejaVu Sans Mono',consolas,'Courier New',monospace\">epoch 0 validation loss 0.40520811080932617\n",
       "</pre>\n"
      ],
      "text/plain": [
       "epoch 0 validation loss 0.40520811080932617\n"
      ]
     },
     "metadata": {},
     "output_type": "display_data"
    },
    {
     "data": {
      "text/html": [
       "<pre style=\"white-space:pre;overflow-x:auto;line-height:normal;font-family:Menlo,'DejaVu Sans Mono',consolas,'Courier New',monospace\">epoch 0 validation score 0.8216655066485815\n",
       "</pre>\n"
      ],
      "text/plain": [
       "epoch 0 validation score 0.8216655066485815\n"
      ]
     },
     "metadata": {},
     "output_type": "display_data"
    },
    {
     "name": "stderr",
     "output_type": "stream",
     "text": [
      "Metric valid_loss improved. New best score: 0.405\n",
      "Epoch 0, global step 624: 'valid_loss' reached 0.40521 (best 0.40521), saving model to '/root/autodl-tmp/kddcup_test/lightning_logs/version_37/checkpoints/epoch=0-step=624.ckpt' as top 1\n"
     ]
    },
    {
     "data": {
      "text/html": [
       "<pre style=\"white-space:pre;overflow-x:auto;line-height:normal;font-family:Menlo,'DejaVu Sans Mono',consolas,'Courier New',monospace\">epoch 1 validation loss 0.3813987076282501\n",
       "</pre>\n"
      ],
      "text/plain": [
       "epoch 1 validation loss 0.3813987076282501\n"
      ]
     },
     "metadata": {},
     "output_type": "display_data"
    },
    {
     "data": {
      "text/html": [
       "<pre style=\"white-space:pre;overflow-x:auto;line-height:normal;font-family:Menlo,'DejaVu Sans Mono',consolas,'Courier New',monospace\">epoch 1 validation score 0.8375842046847409\n",
       "</pre>\n"
      ],
      "text/plain": [
       "epoch 1 validation score 0.8375842046847409\n"
      ]
     },
     "metadata": {},
     "output_type": "display_data"
    },
    {
     "name": "stderr",
     "output_type": "stream",
     "text": [
      "Metric valid_loss improved by 0.024 >= min_delta = 0.0. New best score: 0.381\n",
      "Epoch 1, global step 1248: 'valid_loss' reached 0.38140 (best 0.38140), saving model to '/root/autodl-tmp/kddcup_test/lightning_logs/version_37/checkpoints/epoch=1-step=1248.ckpt' as top 1\n"
     ]
    },
    {
     "data": {
      "text/html": [
       "<pre style=\"white-space:pre;overflow-x:auto;line-height:normal;font-family:Menlo,'DejaVu Sans Mono',consolas,'Courier New',monospace\">epoch 2 validation loss 0.37822607159614563\n",
       "</pre>\n"
      ],
      "text/plain": [
       "epoch 2 validation loss 0.37822607159614563\n"
      ]
     },
     "metadata": {},
     "output_type": "display_data"
    },
    {
     "data": {
      "text/html": [
       "<pre style=\"white-space:pre;overflow-x:auto;line-height:normal;font-family:Menlo,'DejaVu Sans Mono',consolas,'Courier New',monospace\">epoch 2 validation score 0.8352355136436298\n",
       "</pre>\n"
      ],
      "text/plain": [
       "epoch 2 validation score 0.8352355136436298\n"
      ]
     },
     "metadata": {},
     "output_type": "display_data"
    },
    {
     "name": "stderr",
     "output_type": "stream",
     "text": [
      "Metric valid_loss improved by 0.003 >= min_delta = 0.0. New best score: 0.378\n",
      "Epoch 2, global step 1872: 'valid_loss' reached 0.37823 (best 0.37823), saving model to '/root/autodl-tmp/kddcup_test/lightning_logs/version_37/checkpoints/epoch=2-step=1872.ckpt' as top 1\n"
     ]
    },
    {
     "data": {
      "text/html": [
       "<pre style=\"white-space:pre;overflow-x:auto;line-height:normal;font-family:Menlo,'DejaVu Sans Mono',consolas,'Courier New',monospace\">epoch 3 validation loss 0.37619900703430176\n",
       "</pre>\n"
      ],
      "text/plain": [
       "epoch 3 validation loss 0.37619900703430176\n"
      ]
     },
     "metadata": {},
     "output_type": "display_data"
    },
    {
     "data": {
      "text/html": [
       "<pre style=\"white-space:pre;overflow-x:auto;line-height:normal;font-family:Menlo,'DejaVu Sans Mono',consolas,'Courier New',monospace\">epoch 3 validation score 0.8390676993263689\n",
       "</pre>\n"
      ],
      "text/plain": [
       "epoch 3 validation score 0.8390676993263689\n"
      ]
     },
     "metadata": {},
     "output_type": "display_data"
    },
    {
     "name": "stderr",
     "output_type": "stream",
     "text": [
      "Metric valid_loss improved by 0.002 >= min_delta = 0.0. New best score: 0.376\n",
      "Epoch 3, global step 2496: 'valid_loss' reached 0.37620 (best 0.37620), saving model to '/root/autodl-tmp/kddcup_test/lightning_logs/version_37/checkpoints/epoch=3-step=2496.ckpt' as top 1\n"
     ]
    },
    {
     "data": {
      "text/html": [
       "<pre style=\"white-space:pre;overflow-x:auto;line-height:normal;font-family:Menlo,'DejaVu Sans Mono',consolas,'Courier New',monospace\">epoch 4 validation loss 0.37309110164642334\n",
       "</pre>\n"
      ],
      "text/plain": [
       "epoch 4 validation loss 0.37309110164642334\n"
      ]
     },
     "metadata": {},
     "output_type": "display_data"
    },
    {
     "data": {
      "text/html": [
       "<pre style=\"white-space:pre;overflow-x:auto;line-height:normal;font-family:Menlo,'DejaVu Sans Mono',consolas,'Courier New',monospace\">epoch 4 validation score 0.8439201775797721\n",
       "</pre>\n"
      ],
      "text/plain": [
       "epoch 4 validation score 0.8439201775797721\n"
      ]
     },
     "metadata": {},
     "output_type": "display_data"
    },
    {
     "name": "stderr",
     "output_type": "stream",
     "text": [
      "Metric valid_loss improved by 0.003 >= min_delta = 0.0. New best score: 0.373\n",
      "Epoch 4, global step 3120: 'valid_loss' reached 0.37309 (best 0.37309), saving model to '/root/autodl-tmp/kddcup_test/lightning_logs/version_37/checkpoints/epoch=4-step=3120.ckpt' as top 1\n"
     ]
    },
    {
     "data": {
      "text/html": [
       "<pre style=\"white-space:pre;overflow-x:auto;line-height:normal;font-family:Menlo,'DejaVu Sans Mono',consolas,'Courier New',monospace\">epoch 5 validation loss 0.3720170557498932\n",
       "</pre>\n"
      ],
      "text/plain": [
       "epoch 5 validation loss 0.3720170557498932\n"
      ]
     },
     "metadata": {},
     "output_type": "display_data"
    },
    {
     "data": {
      "text/html": [
       "<pre style=\"white-space:pre;overflow-x:auto;line-height:normal;font-family:Menlo,'DejaVu Sans Mono',consolas,'Courier New',monospace\">epoch 5 validation score 0.8451757201060545\n",
       "</pre>\n"
      ],
      "text/plain": [
       "epoch 5 validation score 0.8451757201060545\n"
      ]
     },
     "metadata": {},
     "output_type": "display_data"
    },
    {
     "name": "stderr",
     "output_type": "stream",
     "text": [
      "Metric valid_loss improved by 0.001 >= min_delta = 0.0. New best score: 0.372\n",
      "Epoch 5, global step 3744: 'valid_loss' reached 0.37202 (best 0.37202), saving model to '/root/autodl-tmp/kddcup_test/lightning_logs/version_37/checkpoints/epoch=5-step=3744.ckpt' as top 1\n"
     ]
    },
    {
     "data": {
      "text/html": [
       "<pre style=\"white-space:pre;overflow-x:auto;line-height:normal;font-family:Menlo,'DejaVu Sans Mono',consolas,'Courier New',monospace\">epoch 6 validation loss 0.37028762698173523\n",
       "</pre>\n"
      ],
      "text/plain": [
       "epoch 6 validation loss 0.37028762698173523\n"
      ]
     },
     "metadata": {},
     "output_type": "display_data"
    },
    {
     "data": {
      "text/html": [
       "<pre style=\"white-space:pre;overflow-x:auto;line-height:normal;font-family:Menlo,'DejaVu Sans Mono',consolas,'Courier New',monospace\">epoch 6 validation score 0.8437637394743631\n",
       "</pre>\n"
      ],
      "text/plain": [
       "epoch 6 validation score 0.8437637394743631\n"
      ]
     },
     "metadata": {},
     "output_type": "display_data"
    },
    {
     "name": "stderr",
     "output_type": "stream",
     "text": [
      "Metric valid_loss improved by 0.002 >= min_delta = 0.0. New best score: 0.370\n",
      "Epoch 6, global step 4368: 'valid_loss' reached 0.37029 (best 0.37029), saving model to '/root/autodl-tmp/kddcup_test/lightning_logs/version_37/checkpoints/epoch=6-step=4368.ckpt' as top 1\n"
     ]
    },
    {
     "data": {
      "text/html": [
       "<pre style=\"white-space:pre;overflow-x:auto;line-height:normal;font-family:Menlo,'DejaVu Sans Mono',consolas,'Courier New',monospace\">epoch 7 validation loss 0.3687346577644348\n",
       "</pre>\n"
      ],
      "text/plain": [
       "epoch 7 validation loss 0.3687346577644348\n"
      ]
     },
     "metadata": {},
     "output_type": "display_data"
    },
    {
     "data": {
      "text/html": [
       "<pre style=\"white-space:pre;overflow-x:auto;line-height:normal;font-family:Menlo,'DejaVu Sans Mono',consolas,'Courier New',monospace\">epoch 7 validation score 0.8435826556195476\n",
       "</pre>\n"
      ],
      "text/plain": [
       "epoch 7 validation score 0.8435826556195476\n"
      ]
     },
     "metadata": {},
     "output_type": "display_data"
    },
    {
     "name": "stderr",
     "output_type": "stream",
     "text": [
      "Metric valid_loss improved by 0.002 >= min_delta = 0.0. New best score: 0.369\n",
      "Epoch 7, global step 4992: 'valid_loss' reached 0.36873 (best 0.36873), saving model to '/root/autodl-tmp/kddcup_test/lightning_logs/version_37/checkpoints/epoch=7-step=4992.ckpt' as top 1\n"
     ]
    },
    {
     "data": {
      "text/html": [
       "<pre style=\"white-space:pre;overflow-x:auto;line-height:normal;font-family:Menlo,'DejaVu Sans Mono',consolas,'Courier New',monospace\">epoch 8 validation loss 0.3660968840122223\n",
       "</pre>\n"
      ],
      "text/plain": [
       "epoch 8 validation loss 0.3660968840122223\n"
      ]
     },
     "metadata": {},
     "output_type": "display_data"
    },
    {
     "data": {
      "text/html": [
       "<pre style=\"white-space:pre;overflow-x:auto;line-height:normal;font-family:Menlo,'DejaVu Sans Mono',consolas,'Courier New',monospace\">epoch 8 validation score 0.8447371076147031\n",
       "</pre>\n"
      ],
      "text/plain": [
       "epoch 8 validation score 0.8447371076147031\n"
      ]
     },
     "metadata": {},
     "output_type": "display_data"
    },
    {
     "name": "stderr",
     "output_type": "stream",
     "text": [
      "Metric valid_loss improved by 0.003 >= min_delta = 0.0. New best score: 0.366\n",
      "Epoch 8, global step 5616: 'valid_loss' reached 0.36610 (best 0.36610), saving model to '/root/autodl-tmp/kddcup_test/lightning_logs/version_37/checkpoints/epoch=8-step=5616.ckpt' as top 1\n"
     ]
    },
    {
     "data": {
      "text/html": [
       "<pre style=\"white-space:pre;overflow-x:auto;line-height:normal;font-family:Menlo,'DejaVu Sans Mono',consolas,'Courier New',monospace\">epoch 9 validation loss 0.36452892422676086\n",
       "</pre>\n"
      ],
      "text/plain": [
       "epoch 9 validation loss 0.36452892422676086\n"
      ]
     },
     "metadata": {},
     "output_type": "display_data"
    },
    {
     "data": {
      "text/html": [
       "<pre style=\"white-space:pre;overflow-x:auto;line-height:normal;font-family:Menlo,'DejaVu Sans Mono',consolas,'Courier New',monospace\">epoch 9 validation score 0.8445903481076592\n",
       "</pre>\n"
      ],
      "text/plain": [
       "epoch 9 validation score 0.8445903481076592\n"
      ]
     },
     "metadata": {},
     "output_type": "display_data"
    },
    {
     "name": "stderr",
     "output_type": "stream",
     "text": [
      "Metric valid_loss improved by 0.002 >= min_delta = 0.0. New best score: 0.365\n",
      "Epoch 9, global step 6240: 'valid_loss' reached 0.36453 (best 0.36453), saving model to '/root/autodl-tmp/kddcup_test/lightning_logs/version_37/checkpoints/epoch=9-step=6240.ckpt' as top 1\n"
     ]
    },
    {
     "data": {
      "text/html": [
       "<pre style=\"white-space:pre;overflow-x:auto;line-height:normal;font-family:Menlo,'DejaVu Sans Mono',consolas,'Courier New',monospace\">epoch 10 validation loss 0.36312738060951233\n",
       "</pre>\n"
      ],
      "text/plain": [
       "epoch 10 validation loss 0.36312738060951233\n"
      ]
     },
     "metadata": {},
     "output_type": "display_data"
    },
    {
     "data": {
      "text/html": [
       "<pre style=\"white-space:pre;overflow-x:auto;line-height:normal;font-family:Menlo,'DejaVu Sans Mono',consolas,'Courier New',monospace\">epoch 10 validation score 0.8429695014264107\n",
       "</pre>\n"
      ],
      "text/plain": [
       "epoch 10 validation score 0.8429695014264107\n"
      ]
     },
     "metadata": {},
     "output_type": "display_data"
    },
    {
     "name": "stderr",
     "output_type": "stream",
     "text": [
      "Metric valid_loss improved by 0.001 >= min_delta = 0.0. New best score: 0.363\n",
      "Epoch 10, global step 6864: 'valid_loss' reached 0.36313 (best 0.36313), saving model to '/root/autodl-tmp/kddcup_test/lightning_logs/version_37/checkpoints/epoch=10-step=6864.ckpt' as top 1\n"
     ]
    },
    {
     "data": {
      "text/html": [
       "<pre style=\"white-space:pre;overflow-x:auto;line-height:normal;font-family:Menlo,'DejaVu Sans Mono',consolas,'Courier New',monospace\">epoch 11 validation loss 0.3622617721557617\n",
       "</pre>\n"
      ],
      "text/plain": [
       "epoch 11 validation loss 0.3622617721557617\n"
      ]
     },
     "metadata": {},
     "output_type": "display_data"
    },
    {
     "data": {
      "text/html": [
       "<pre style=\"white-space:pre;overflow-x:auto;line-height:normal;font-family:Menlo,'DejaVu Sans Mono',consolas,'Courier New',monospace\">epoch 11 validation score 0.8440742652450645\n",
       "</pre>\n"
      ],
      "text/plain": [
       "epoch 11 validation score 0.8440742652450645\n"
      ]
     },
     "metadata": {},
     "output_type": "display_data"
    },
    {
     "name": "stderr",
     "output_type": "stream",
     "text": [
      "Metric valid_loss improved by 0.001 >= min_delta = 0.0. New best score: 0.362\n",
      "Epoch 11, global step 7488: 'valid_loss' reached 0.36226 (best 0.36226), saving model to '/root/autodl-tmp/kddcup_test/lightning_logs/version_37/checkpoints/epoch=11-step=7488.ckpt' as top 1\n"
     ]
    },
    {
     "data": {
      "text/html": [
       "<pre style=\"white-space:pre;overflow-x:auto;line-height:normal;font-family:Menlo,'DejaVu Sans Mono',consolas,'Courier New',monospace\">epoch 12 validation loss 0.3627663254737854\n",
       "</pre>\n"
      ],
      "text/plain": [
       "epoch 12 validation loss 0.3627663254737854\n"
      ]
     },
     "metadata": {},
     "output_type": "display_data"
    },
    {
     "data": {
      "text/html": [
       "<pre style=\"white-space:pre;overflow-x:auto;line-height:normal;font-family:Menlo,'DejaVu Sans Mono',consolas,'Courier New',monospace\">epoch 12 validation score 0.8427144633254509\n",
       "</pre>\n"
      ],
      "text/plain": [
       "epoch 12 validation score 0.8427144633254509\n"
      ]
     },
     "metadata": {},
     "output_type": "display_data"
    },
    {
     "name": "stderr",
     "output_type": "stream",
     "text": [
      "Epoch 12, global step 8112: 'valid_loss' was not in top 1\n"
     ]
    },
    {
     "data": {
      "text/html": [
       "<pre style=\"white-space:pre;overflow-x:auto;line-height:normal;font-family:Menlo,'DejaVu Sans Mono',consolas,'Courier New',monospace\">epoch 13 validation loss 0.36283135414123535\n",
       "</pre>\n"
      ],
      "text/plain": [
       "epoch 13 validation loss 0.36283135414123535\n"
      ]
     },
     "metadata": {},
     "output_type": "display_data"
    },
    {
     "data": {
      "text/html": [
       "<pre style=\"white-space:pre;overflow-x:auto;line-height:normal;font-family:Menlo,'DejaVu Sans Mono',consolas,'Courier New',monospace\">epoch 13 validation score 0.843513272022278\n",
       "</pre>\n"
      ],
      "text/plain": [
       "epoch 13 validation score 0.843513272022278\n"
      ]
     },
     "metadata": {},
     "output_type": "display_data"
    },
    {
     "name": "stderr",
     "output_type": "stream",
     "text": [
      "Epoch 13, global step 8736: 'valid_loss' was not in top 1\n"
     ]
    },
    {
     "data": {
      "text/html": [
       "<pre style=\"white-space:pre;overflow-x:auto;line-height:normal;font-family:Menlo,'DejaVu Sans Mono',consolas,'Courier New',monospace\">epoch 14 validation loss 0.36289745569229126\n",
       "</pre>\n"
      ],
      "text/plain": [
       "epoch 14 validation loss 0.36289745569229126\n"
      ]
     },
     "metadata": {},
     "output_type": "display_data"
    },
    {
     "data": {
      "text/html": [
       "<pre style=\"white-space:pre;overflow-x:auto;line-height:normal;font-family:Menlo,'DejaVu Sans Mono',consolas,'Courier New',monospace\">epoch 14 validation score 0.8429763136827912\n",
       "</pre>\n"
      ],
      "text/plain": [
       "epoch 14 validation score 0.8429763136827912\n"
      ]
     },
     "metadata": {},
     "output_type": "display_data"
    },
    {
     "name": "stderr",
     "output_type": "stream",
     "text": [
      "Monitored metric valid_loss did not improve in the last 3 records. Best score: 0.362. Signaling Trainer to stop.\n",
      "Epoch 14, global step 9360: 'valid_loss' was not in top 1\n"
     ]
    },
    {
     "data": {
      "text/html": [
       "<pre style=\"white-space:pre;overflow-x:auto;line-height:normal;font-family:Menlo,'DejaVu Sans Mono',consolas,'Courier New',monospace\"></pre>\n"
      ],
      "text/plain": []
     },
     "metadata": {},
     "output_type": "display_data"
    },
    {
     "data": {
      "text/html": [
       "<pre style=\"white-space:pre;overflow-x:auto;line-height:normal;font-family:Menlo,'DejaVu Sans Mono',consolas,'Courier New',monospace\">\n",
       "</pre>\n"
      ],
      "text/plain": [
       "\n"
      ]
     },
     "metadata": {},
     "output_type": "display_data"
    },
    {
     "name": "stderr",
     "output_type": "stream",
     "text": [
      "155it [00:02, 67.21it/s]\n",
      "885it [00:10, 83.31it/s]\n"
     ]
    }
   ],
   "source": [
    "oof = []\n",
    "sub = []\n",
    "for fold_id in range(5):\n",
    "    \n",
    "    train_dataset = Dataset(df_train[df_train['fold_id']!=fold_id].reset_index(drop = True),data_train, cfg.used_feat,edges, cfg.targets, 'Train' )\n",
    "    val_dataset = Dataset(df_train[df_train['fold_id']==fold_id].reset_index(drop = True),data_train, cfg.used_feat,edges, cfg.targets, 'Train' )\n",
    "\n",
    "    train_dataloader = DataLoader(train_dataset,\n",
    "                                  batch_size=cfg.batch_size,\n",
    "                                  #sampler=train_sampler,\n",
    "                                  drop_last=True,\n",
    "                                  pin_memory=True,\n",
    "                                  num_workers=cfg.num_workers,\n",
    "                                  prefetch_factor=cfg.prefetch)\n",
    "    val_dataloader = DataLoader(val_dataset,\n",
    "                                batch_size=cfg.val_batch_size,\n",
    "                                #sampler=val_sampler,\n",
    "                                drop_last=False,\n",
    "                                pin_memory=True,\n",
    "                                num_workers=cfg.num_workers,\n",
    "                                prefetch_factor=cfg.prefetch)\n",
    "    \n",
    "    test_dataset = Dataset(df_test,data_test, cfg.used_feat,edges, cfg.targets, 'test' )\n",
    "\n",
    "    test_dataloader = DataLoader(test_dataset,\n",
    "                                batch_size=cfg.val_batch_size,\n",
    "                                #sampler=val_sampler,\n",
    "                                drop_last=False,\n",
    "                                pin_memory=True,\n",
    "                                num_workers=cfg.num_workers,\n",
    "                                prefetch_factor=cfg.prefetch)\n",
    "\n",
    "    seed_everything(cfg.seed)\n",
    "    checkpoint_cb = ModelCheckpoint(\n",
    "        verbose=True,\n",
    "        monitor='valid_loss',\n",
    "        mode='min',\n",
    "        save_top_k=1,\n",
    "        save_last=False,)\n",
    "\n",
    "    lr_monitor = LearningRateMonitor(\"epoch\")\n",
    "    progress_bar = RichProgressBar()\n",
    "    model_summary = RichModelSummary(max_depth=2)\n",
    "    \"\"\"\n",
    "    pl_logger = WandbLogger(\n",
    "        name=cfg.exp_name,\n",
    "        project=\"kaggle_lwp\",\n",
    "    )\n",
    "    pl_logger.log_hyperparams(cfg)\n",
    "    \"\"\"\n",
    "\n",
    "    model = OAG_GNN_Prediction_Model(cfg.used_feat)\n",
    "\n",
    "\n",
    "    EarlyStopping_callbacl = EarlyStopping(monitor=\"valid_loss\", min_delta=0.00, patience=3, verbose= True)\n",
    "\n",
    "\n",
    "    trainer = pytl.Trainer( precision=32,max_epochs=20,devices=1,accelerator=\"gpu\",callbacks=[checkpoint_cb, lr_monitor, progress_bar, model_summary,EarlyStopping_callbacl])\n",
    "    trainer.fit(model, train_dataloader, val_dataloader,)\n",
    "\n",
    "    \n",
    "    pred_list = []\n",
    "    id_list = []\n",
    "    label_list = []\n",
    "    sp_list = []\n",
    "    for i,f in tqdm(enumerate(val_dataloader)):\n",
    "        label_list += list(f['targets'].numpy()[0])\n",
    "        id_list += list(f['id'].numpy()[0])\n",
    "        pred_list += list(model(f).detach().numpy().T[0])\n",
    "        sp_list += list(f['sp_feats'].numpy()[0].T[0])\n",
    "        \n",
    "    df_oof = pd.DataFrame(id_list,columns = ['id'])\n",
    "    df_oof['label_prob'] = pred_list\n",
    "    df_oof['label'] = label_list\n",
    "    df_oof['lgb_prob'] = sp_list\n",
    "    \n",
    "    \n",
    "    oof.append(df_oof.copy())\n",
    "    \n",
    "    \n",
    "    pred_list = []\n",
    "    id_list = []\n",
    "    label_list = []\n",
    "    sp_list = []\n",
    "    for i,f in tqdm(enumerate(test_dataloader)):\n",
    "        id_list += list(f['id'].numpy()[0])\n",
    "        pred_list += list(model(f).detach().numpy().T[0])\n",
    "        sp_list += list(f['sp_feats'].numpy()[0].T[0])\n",
    "        \n",
    "        \n",
    "    prediction = pd.DataFrame(id_list,columns = ['id'])\n",
    "    prediction['label_prob'] = pred_list\n",
    "    prediction['lgb_prob'] = sp_list\n",
    "    \n",
    "    sub.append(prediction.copy())\n",
    "    \n",
    "    del model\n",
    "    gc.collect()"
   ]
  },
  {
   "cell_type": "code",
   "execution_count": 26,
   "id": "51e70be2-de36-4051-aa6c-3a450ca1a94f",
   "metadata": {},
   "outputs": [],
   "source": [
    "df_oof = pd.concat(oof).reset_index(drop = True).sort_values('id').reset_index(drop = True)\n",
    "prediction = sub[0].sort_values('id').reset_index(drop = True)\n",
    "prediction['label_prob'] = 0\n",
    "prediction['lgb_prob'] = 0\n",
    "for i in range(5):\n",
    "    prediction['label_prob'] += (sub[i].sort_values('id').reset_index(drop = True)['label_prob'] / 5)\n",
    "    prediction['lgb_prob'] += (sub[i].sort_values('id').reset_index(drop = True)['lgb_prob'] / 5)\n"
   ]
  },
  {
   "cell_type": "code",
   "execution_count": 27,
   "id": "064fda68-aaaa-4337-884d-42ae3ad44050",
   "metadata": {},
   "outputs": [],
   "source": [
    "df_oof =  df_oof.merge(data[['autherID','id','PID','dataset_mode']],on = 'id',how = 'left')\n",
    "prediction =  prediction.merge(data[['autherID','id','PID','dataset_mode']],on = 'id',how = 'left')\n"
   ]
  },
  {
   "cell_type": "code",
   "execution_count": 28,
   "id": "947ccff6-9eb6-463f-bcbd-d4c9b02ac1fb",
   "metadata": {},
   "outputs": [],
   "source": [
    "df_oof.to_feather('oof2/gnn_oof.feather')\n",
    "prediction.to_feather('oof2/gnn_prediction.feather')"
   ]
  }
 ],
 "metadata": {
  "kernelspec": {
   "display_name": "Python 3 (ipykernel)",
   "language": "python",
   "name": "python3"
  },
  "language_info": {
   "codemirror_mode": {
    "name": "ipython",
    "version": 3
   },
   "file_extension": ".py",
   "mimetype": "text/x-python",
   "name": "python",
   "nbconvert_exporter": "python",
   "pygments_lexer": "ipython3",
   "version": "3.8.10"
  }
 },
 "nbformat": 4,
 "nbformat_minor": 5
}
